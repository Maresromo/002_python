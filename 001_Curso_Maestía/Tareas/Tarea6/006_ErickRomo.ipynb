{
 "cells": [
  {
   "cell_type": "code",
   "execution_count": 1,
   "id": "cc3857a2-7ad3-434e-b8a4-ca5449442ea4",
   "metadata": {},
   "outputs": [],
   "source": [
    "##  001 Convierte a float y ordena \n",
    "## 2 puntos\n",
    "\n",
    "  \n",
    "## Elimina 'oC' y convierte a flotantes todos los datos\n",
    "## y guardalos en la lista temperaturas_float\n",
    "## Ordenalos de mayor a menor y convierte a Kelvin\n",
    "## y guarda en una nueva lista llamada \n",
    "## kelvin_ordenados \n",
    "## Recuerda que Kelvin = oC + 273.15\n",
    "## \n",
    "## de preferencia usa list comprehension \n",
    "\n",
    "\n",
    "temperaturas = ['2.8 oC','1.3 oC','3.6 oC','0.5 oC','7.1 oC','8.9 oC','6.2 oC','4.7 oC','5.5 oC','1.2 oC']\n"
   ]
  },
  {
   "cell_type": "code",
   "execution_count": 2,
   "id": "2762c926-2464-4705-bae0-e70a1f17f415",
   "metadata": {},
   "outputs": [
    {
     "data": {
      "text/plain": [
       "[282.04999999999995,\n",
       " 280.25,\n",
       " 279.34999999999997,\n",
       " 278.65,\n",
       " 277.84999999999997,\n",
       " 276.75,\n",
       " 275.95,\n",
       " 274.45,\n",
       " 274.34999999999997,\n",
       " 273.65]"
      ]
     },
     "execution_count": 2,
     "metadata": {},
     "output_type": "execute_result"
    }
   ],
   "source": [
    "kelvin_ordenados = [float(T.removesuffix(' oC')) + 273.15 for T in temperaturas]\n",
    "kelvin_ordenados.sort(reverse = True)\n",
    "kelvin_ordenados"
   ]
  },
  {
   "cell_type": "code",
   "execution_count": 3,
   "id": "2434b5d0-d9eb-4ec7-8e3d-44ecef19c915",
   "metadata": {},
   "outputs": [],
   "source": [
    "## E2\n",
    "## 5 puntos\n",
    "## Sin usar paquetes instalados, crea una nueva lista\n",
    "## con el formato YYYY-MM-DD  y que se vea, por ejemplo:\n",
    "## '2023-Jan-01' en lugar de \"202301Jan\"\n",
    "## Tip puedes usar list comprehension y sumas de string\n",
    "## Guarda las fechas con el nuevo formato en fechas_formateadas\n",
    "## Cuida los espacios, debe tener el formato identico al mostrado.\n",
    "fechas = [\"202301Jan\", \n",
    "          \"202302Feb\", \n",
    "          \"202303Mar\", \n",
    "          \"202304Apr\", \n",
    "          \"202305May\", \n",
    "          \"202306Jun\", \n",
    "          \"202307Jul\",\n",
    "          \"202308Aug\", \n",
    "          \"202309Sep\", \n",
    "          \"202310Oct\"]\n",
    "\n",
    "\n",
    "fechas_formateadas  = []"
   ]
  },
  {
   "cell_type": "code",
   "execution_count": 4,
   "id": "98318155-3020-49cb-9252-acfa06e80781",
   "metadata": {},
   "outputs": [
    {
     "data": {
      "text/plain": [
       "['2023-Jan-01',\n",
       " '2023-Feb-02',\n",
       " '2023-Mar-03',\n",
       " '2023-Apr-04',\n",
       " '2023-May-05',\n",
       " '2023-Jun-06',\n",
       " '2023-Jul-07',\n",
       " '2023-Aug-08',\n",
       " '2023-Sep-09',\n",
       " '2023-Oct-10']"
      ]
     },
     "execution_count": 4,
     "metadata": {},
     "output_type": "execute_result"
    }
   ],
   "source": [
    "fechas_formateadas  = [f[0:4]+\"-\"+f[6:9]+\"-\"+f[4:6] for f in fechas]\n",
    "fechas_formateadas"
   ]
  },
  {
   "cell_type": "code",
   "execution_count": 5,
   "id": "02da6140-ca73-420e-a645-bf45d1204d45",
   "metadata": {},
   "outputs": [],
   "source": [
    "## E3\n",
    "## 5 puntos\n",
    "## Sin usar paquetes instalados, genere una nueva lista\n",
    "## con el formato YYYY-MM-DD reemplazando Marzo por el\n",
    "## número del mes correspondiente, es decir transforma\n",
    "## \"Marzo 10, 2023\" a '2023-03-10'\n",
    "## Tip puedes usar list comprehension y .replace\n",
    "## Guarda las fechas con el nuevo formato en fechas_es_formateadas\n",
    "## Cuida los espacios, debe tener el formato identico al mostrado.\n",
    "\n",
    "fechas_es = [\n",
    "    \"Marzo 10, 2023\",\n",
    "    \"Marzo 11, 2023\",\n",
    "    \"Marzo 12, 2023\",\n",
    "    \"Marzo 13, 2023\",\n",
    "    \"Marzo 14, 2023\",\n",
    "    \"Marzo 15, 2023\",\n",
    "    \"Marzo 16, 2023\",\n",
    "    \"Marzo 17, 2023\",\n",
    "    \"Marzo 18, 2023\",\n",
    "    \"Marzo 19, 2023\",\n",
    "]\n",
    "\n",
    "fechas_es_formateadas = []\n"
   ]
  },
  {
   "cell_type": "code",
   "execution_count": 6,
   "id": "86d6c3ef-5540-41b3-982f-8ffed599c1c6",
   "metadata": {},
   "outputs": [
    {
     "data": {
      "text/plain": [
       "['2023-03-10,',\n",
       " '2023-03-11,',\n",
       " '2023-03-12,',\n",
       " '2023-03-13,',\n",
       " '2023-03-14,',\n",
       " '2023-03-15,',\n",
       " '2023-03-16,',\n",
       " '2023-03-17,',\n",
       " '2023-03-18,',\n",
       " '2023-03-19,']"
      ]
     },
     "execution_count": 6,
     "metadata": {},
     "output_type": "execute_result"
    }
   ],
   "source": [
    "fechas_es_formateadas = [f[10:14]+\"-03-\"+f[6:9] for f in fechas_es]\n",
    "fechas_es_formateadas"
   ]
  },
  {
   "cell_type": "code",
   "execution_count": 7,
   "id": "0b1b2ae6-7b6a-47f7-ae7a-78855083e146",
   "metadata": {},
   "outputs": [
    {
     "data": {
      "text/plain": [
       "['2023-03-10',\n",
       " '2023-03-11',\n",
       " '2023-03-12',\n",
       " '2023-03-13',\n",
       " '2023-03-14',\n",
       " '2023-03-15',\n",
       " '2023-03-16',\n",
       " '2023-03-17',\n",
       " '2023-03-18',\n",
       " '2023-03-19']"
      ]
     },
     "execution_count": 7,
     "metadata": {},
     "output_type": "execute_result"
    }
   ],
   "source": [
    "g = [f.replace('Marzo','03') for f in fechas_es]          #Lo mismo pero usando el replace\n",
    "fechas_es_formateadas2 = [f[7:11]+\"-\"+f[0:2]+\"-\"+f[3:5] for f in g]\n",
    "fechas_es_formateadas2"
   ]
  },
  {
   "cell_type": "code",
   "execution_count": 8,
   "id": "e7934bfb-1b20-40a1-871f-67934bd420fb",
   "metadata": {},
   "outputs": [
    {
     "data": {
      "text/plain": [
       "['2023-Marzo-30',\n",
       " '2023-Marzo-31',\n",
       " '2023-Abril-29',\n",
       " '2023-Abril-30',\n",
       " '2023-Mayo-01',\n",
       " '2023-Mayo-02',\n",
       " '2023-Mayo-08',\n",
       " '2023-Mayo-09']"
      ]
     },
     "execution_count": 8,
     "metadata": {},
     "output_type": "execute_result"
    }
   ],
   "source": [
    "## E4\n",
    "## 5 puntos\n",
    "## Sin usar paquetes instalados, genere una nueva lista\n",
    "## con el formato YYYY-MM-DD reemplazando Marzo por el\n",
    "## número del mes correspondiente, es decir transforma\n",
    "## \"Marzo 10, 2023\" a '2023-03-10'\n",
    "## Tip puedes usar list comprehension, replace o  un diccionario para hacer el replace\n",
    "## Guarda las fechas con el nuevo formato en meses_formateados\n",
    "## Cuida los espacios, debe tener el formato identico al mostrado.\n",
    "\n",
    "fechas = [\n",
    "    \"Marzo,30,2023\",\n",
    "    \"Marzo,31,2023\",\n",
    "    \"Abril,29,2023\",\n",
    "    \"Abril,30,2023\",\n",
    "    \"Mayo,1,2023\",\n",
    "    \"Mayo,2,2023\",\n",
    "    \"Mayo,8,2023\",\n",
    "    \"Mayo,9,2023\"\n",
    "]\n",
    "\n",
    "meses = {\n",
    "    'Marzo':'03', \n",
    "    'Abril':'04',\n",
    "    'Mayo':'05'\n",
    "}\n",
    "DosDigDia = []\n",
    "\n",
    "for fecha in fechas:\n",
    "    mes, dia, año = fecha.split(',')  # Separar mes, día y año\n",
    "    if len(dia) == 1:  # Verificar si el mes es Mayo y el día tiene un solo dígito\n",
    "        dia = \"0\" + dia  # Agregar un cero delante del día\n",
    "    DosDigDia.append(f\"{año}-{mes}-{dia}\")  # Unir de nuevo la fecha y agregar a la nueva lista\n",
    "\n",
    "DosDigDia"
   ]
  },
  {
   "cell_type": "code",
   "execution_count": 9,
   "id": "56dbcab5-5259-4801-a3b8-c79bf2f37bdf",
   "metadata": {},
   "outputs": [
    {
     "data": {
      "text/plain": [
       "['2023-03-30',\n",
       " '2023-03-31',\n",
       " '2023-04-29',\n",
       " '2023-04-30',\n",
       " '2023-05-01',\n",
       " '2023-05-02',\n",
       " '2023-05-08',\n",
       " '2023-05-09']"
      ]
     },
     "execution_count": 9,
     "metadata": {},
     "output_type": "execute_result"
    }
   ],
   "source": [
    "g = [f.replace('Marzo','03').replace('Abril','04').replace('Mayo','05') for f in DosDigDia]\n",
    "g"
   ]
  },
  {
   "cell_type": "code",
   "execution_count": 10,
   "id": "1120ee1b-6378-4e9c-b9ca-53bfd5872a4f",
   "metadata": {},
   "outputs": [],
   "source": [
    "## E5\n",
    "## 5 puntos\n",
    "## Limpia el texto para que te quedes con una lista que contenga elementos con la fecha y hora.\n",
    "## La hora debe ser formato PM y debe usar guión medio, debe verse como:\n",
    "## '09-03-2022 07:03:36 PM'\n",
    "## en formato 'dd-mm-yyyy HH:MM:SS PM'\n",
    "## con un espacio entre elementos.\n",
    "## Cuida los espacios, debe tener el formato identico al mostrado, \n",
    "## toma como referencia las comillas.\n",
    "## La secuencia sugerida es:\n",
    "## 1. Divide el texto en elementos de una lista\n",
    "## 2. Elimina los elementos vacios vacios de la lista\n",
    "## 3. Divide cada renglón que ya tienes como un elemento en sub elementos\n",
    "## 4. Guarda en una nueva lista solo el elemento que contiene las fechas\n",
    "## 5. Dale el formato pedido reemplazando los caracteres adecuados.\n",
    "\n",
    "\n",
    "texto = '''\n",
    "Q,+001.61,-001.51,-000.16,M,00,\u00032D,1,09/03/2022 07:03:36 p. m.\n",
    "Q,+000.57,-001.01,-000.44,M,00,\u00032B,2,09/03/2022 07:03:37 p. m.\n",
    "Q,+000.06,-000.93,+000.51,M,00,\u000327,3,09/03/2022 07:03:38 p. m.\n",
    "Q,+001.51,-000.76,-000.31,M,00,\u00032F,4,09/03/2022 07:03:39 p. m.\n",
    "Q,+002.12,-001.34,-000.62,M,00,\u00032A,5,09/03/2022 07:03:40 p. m.\n",
    "Q,+000.81,-000.61,+000.35,M,00,\u000327,6,09/03/2022 07:03:41 p. m.\n",
    "Q,+000.48,-000.43,-000.02,M,00,\u000320,7,09/03/2022 07:03:42 p. m.\n",
    "Q,+000.32,-000.62,+000.11,M,00,\u00032A,8,09/03/2022 07:03:43 p. m.\n",
    "Q,+001.38,-001.14,+000.48,M,00,\u00032D,9,09/03/2022 07:03:44 p. m.\n",
    "'''\n",
    "\n",
    "# fechas_pm  =\n"
   ]
  },
  {
   "cell_type": "code",
   "execution_count": 11,
   "id": "1eb6ffad-ac0e-46b3-a67f-e3cbe6c14f94",
   "metadata": {},
   "outputs": [
    {
     "data": {
      "text/plain": [
       "['',\n",
       " 'Q,+001.61,-001.51,-000.16,M,00,\\x032D,1,09/03/2022 07:03:36 p. m.',\n",
       " 'Q,+000.57,-001.01,-000.44,M,00,\\x032B,2,09/03/2022 07:03:37 p. m.',\n",
       " 'Q,+000.06,-000.93,+000.51,M,00,\\x0327,3,09/03/2022 07:03:38 p. m.',\n",
       " 'Q,+001.51,-000.76,-000.31,M,00,\\x032F,4,09/03/2022 07:03:39 p. m.',\n",
       " 'Q,+002.12,-001.34,-000.62,M,00,\\x032A,5,09/03/2022 07:03:40 p. m.',\n",
       " 'Q,+000.81,-000.61,+000.35,M,00,\\x0327,6,09/03/2022 07:03:41 p. m.',\n",
       " 'Q,+000.48,-000.43,-000.02,M,00,\\x0320,7,09/03/2022 07:03:42 p. m.',\n",
       " 'Q,+000.32,-000.62,+000.11,M,00,\\x032A,8,09/03/2022 07:03:43 p. m.',\n",
       " 'Q,+001.38,-001.14,+000.48,M,00,\\x032D,9,09/03/2022 07:03:44 p. m.',\n",
       " '']"
      ]
     },
     "execution_count": 11,
     "metadata": {},
     "output_type": "execute_result"
    }
   ],
   "source": [
    "## 1. Divide el texto en elementos de una lista\n",
    "texto2 = texto.split('\\n')\n",
    "texto2"
   ]
  },
  {
   "cell_type": "code",
   "execution_count": 12,
   "id": "986c04ce-a6e0-4c70-91ed-ac5b6ea17e83",
   "metadata": {},
   "outputs": [
    {
     "data": {
      "text/plain": [
       "['Q,+001.61,-001.51,-000.16,M,00,\\x032D,1,09/03/2022 07:03:36 p. m.',\n",
       " 'Q,+000.57,-001.01,-000.44,M,00,\\x032B,2,09/03/2022 07:03:37 p. m.',\n",
       " 'Q,+000.06,-000.93,+000.51,M,00,\\x0327,3,09/03/2022 07:03:38 p. m.',\n",
       " 'Q,+001.51,-000.76,-000.31,M,00,\\x032F,4,09/03/2022 07:03:39 p. m.',\n",
       " 'Q,+002.12,-001.34,-000.62,M,00,\\x032A,5,09/03/2022 07:03:40 p. m.',\n",
       " 'Q,+000.81,-000.61,+000.35,M,00,\\x0327,6,09/03/2022 07:03:41 p. m.',\n",
       " 'Q,+000.48,-000.43,-000.02,M,00,\\x0320,7,09/03/2022 07:03:42 p. m.',\n",
       " 'Q,+000.32,-000.62,+000.11,M,00,\\x032A,8,09/03/2022 07:03:43 p. m.',\n",
       " 'Q,+001.38,-001.14,+000.48,M,00,\\x032D,9,09/03/2022 07:03:44 p. m.']"
      ]
     },
     "execution_count": 12,
     "metadata": {},
     "output_type": "execute_result"
    }
   ],
   "source": [
    "## 2. Elimina los elementos vacios vacios de la lista\n",
    "\n",
    "texto3 = []\n",
    "\n",
    "for x in texto2:\n",
    "    if x != '':\n",
    "        texto3.append(x)\n",
    "\n",
    "texto3"
   ]
  },
  {
   "cell_type": "code",
   "execution_count": 13,
   "id": "c3b386e1-67b4-4b2c-a73f-ee458c50226a",
   "metadata": {},
   "outputs": [
    {
     "data": {
      "text/plain": [
       "[['Q',\n",
       "  '+001.61',\n",
       "  '-001.51',\n",
       "  '-000.16',\n",
       "  'M',\n",
       "  '00',\n",
       "  '\\x032D',\n",
       "  '1',\n",
       "  '09/03/2022 07:03:36 p. m.'],\n",
       " ['Q',\n",
       "  '+000.57',\n",
       "  '-001.01',\n",
       "  '-000.44',\n",
       "  'M',\n",
       "  '00',\n",
       "  '\\x032B',\n",
       "  '2',\n",
       "  '09/03/2022 07:03:37 p. m.'],\n",
       " ['Q',\n",
       "  '+000.06',\n",
       "  '-000.93',\n",
       "  '+000.51',\n",
       "  'M',\n",
       "  '00',\n",
       "  '\\x0327',\n",
       "  '3',\n",
       "  '09/03/2022 07:03:38 p. m.'],\n",
       " ['Q',\n",
       "  '+001.51',\n",
       "  '-000.76',\n",
       "  '-000.31',\n",
       "  'M',\n",
       "  '00',\n",
       "  '\\x032F',\n",
       "  '4',\n",
       "  '09/03/2022 07:03:39 p. m.'],\n",
       " ['Q',\n",
       "  '+002.12',\n",
       "  '-001.34',\n",
       "  '-000.62',\n",
       "  'M',\n",
       "  '00',\n",
       "  '\\x032A',\n",
       "  '5',\n",
       "  '09/03/2022 07:03:40 p. m.'],\n",
       " ['Q',\n",
       "  '+000.81',\n",
       "  '-000.61',\n",
       "  '+000.35',\n",
       "  'M',\n",
       "  '00',\n",
       "  '\\x0327',\n",
       "  '6',\n",
       "  '09/03/2022 07:03:41 p. m.'],\n",
       " ['Q',\n",
       "  '+000.48',\n",
       "  '-000.43',\n",
       "  '-000.02',\n",
       "  'M',\n",
       "  '00',\n",
       "  '\\x0320',\n",
       "  '7',\n",
       "  '09/03/2022 07:03:42 p. m.'],\n",
       " ['Q',\n",
       "  '+000.32',\n",
       "  '-000.62',\n",
       "  '+000.11',\n",
       "  'M',\n",
       "  '00',\n",
       "  '\\x032A',\n",
       "  '8',\n",
       "  '09/03/2022 07:03:43 p. m.'],\n",
       " ['Q',\n",
       "  '+001.38',\n",
       "  '-001.14',\n",
       "  '+000.48',\n",
       "  'M',\n",
       "  '00',\n",
       "  '\\x032D',\n",
       "  '9',\n",
       "  '09/03/2022 07:03:44 p. m.']]"
      ]
     },
     "execution_count": 13,
     "metadata": {},
     "output_type": "execute_result"
    }
   ],
   "source": [
    "## 3. Divide cada renglón que ya tienes como un elemento en sub elementos\n",
    "\n",
    "texto4 = [elemento.split(',') for elemento in texto3]\n",
    "texto4"
   ]
  },
  {
   "cell_type": "code",
   "execution_count": 14,
   "id": "96614655-ef13-46fd-a3df-6941de1b759d",
   "metadata": {},
   "outputs": [
    {
     "data": {
      "text/plain": [
       "['09/03/2022 07:03:36 p. m.',\n",
       " '09/03/2022 07:03:37 p. m.',\n",
       " '09/03/2022 07:03:38 p. m.',\n",
       " '09/03/2022 07:03:39 p. m.',\n",
       " '09/03/2022 07:03:40 p. m.',\n",
       " '09/03/2022 07:03:41 p. m.',\n",
       " '09/03/2022 07:03:42 p. m.',\n",
       " '09/03/2022 07:03:43 p. m.',\n",
       " '09/03/2022 07:03:44 p. m.']"
      ]
     },
     "execution_count": 14,
     "metadata": {},
     "output_type": "execute_result"
    }
   ],
   "source": [
    "## 4. Guarda en una nueva lista solo el elemento que contiene las fechas\n",
    "\n",
    "texto5 = [elemento[8] for elemento in texto4]\n",
    "texto5"
   ]
  },
  {
   "cell_type": "code",
   "execution_count": 15,
   "id": "a977d004-fe38-4374-b547-0c21f38951f9",
   "metadata": {},
   "outputs": [
    {
     "data": {
      "text/plain": [
       "['09-03-2022 07:03:36 PM',\n",
       " '09-03-2022 07:03:37 PM',\n",
       " '09-03-2022 07:03:38 PM',\n",
       " '09-03-2022 07:03:39 PM',\n",
       " '09-03-2022 07:03:40 PM',\n",
       " '09-03-2022 07:03:41 PM',\n",
       " '09-03-2022 07:03:42 PM',\n",
       " '09-03-2022 07:03:43 PM',\n",
       " '09-03-2022 07:03:44 PM']"
      ]
     },
     "execution_count": 15,
     "metadata": {},
     "output_type": "execute_result"
    }
   ],
   "source": [
    "## 5. Dale el formato pedido reemplazando los caracteres adecuados. '09-03-2022 07:03:36 PM'\n",
    "\n",
    "fechas_pm  = [elemento.replace('/','-').replace('p. m.','PM') for elemento in texto5]\n",
    "fechas_pm"
   ]
  },
  {
   "cell_type": "code",
   "execution_count": 16,
   "id": "7464da8f-c615-4d8b-8f2d-e0b771979ecd",
   "metadata": {},
   "outputs": [
    {
     "data": {
      "text/plain": [
       "[['2023-Enero-1', 18.2, 345, 938, 75.6, 425, 624],\n",
       " ['2023-Febrero-2', 73.9, 856, 432, 29.5, 781, 952],\n",
       " ['2023-Marzo-3', 87.3, 465, 398, 72.9, 612, 432],\n",
       " ['2023-Abril-4', 38.1, 293, 582, 72.9, 153, 867],\n",
       " ['2023-Mayo-5', 97.3, 159, 246, 82.3, 746, 598],\n",
       " ['2023-Junio-6', 29.4, 867, 598, 13.5, 628, 392],\n",
       " ['2023-Julio-7', 73.9, 236, 985, 73.8, 195, 382],\n",
       " ['2023-Agosto-8', 95.7, 834, 582, 62.5, 748, 953],\n",
       " ['2023-Septiembre-9', 23.4, 865, 392, 58.7, 341, 782],\n",
       " ['2023-Octubre-10', 78.3, 528, 974, 23.7, 654, 392]]"
      ]
     },
     "execution_count": 16,
     "metadata": {},
     "output_type": "execute_result"
    }
   ],
   "source": [
    "## E6\n",
    "## 5 puntos\n",
    "## En el siguiente conjunto de datos, te han dado 10 mediciones\n",
    "## conserva el orden de los números, pero pon como primer elemento\n",
    "## la fecha usando el elemento 1,4 y 6 de cada sublista, que son\n",
    "## mes, año y día. El formato de fecha debe ser YYYY-MM-DD\n",
    "## La primer sublista debe verse como\n",
    "## ['2023-Enero-1', 18.2, 345, 938, 75.6, 425, 624]\n",
    "## Nota como se conserva el orden de los datos y las columnas 1,4 y 6 \n",
    "## han formado la fecha y es ahora el primer dato\n",
    "## y que los numeros no tienen entrecomillado, por lo cual son enteros \n",
    "## los que no tienen decimal y flotantes los que tienen decimal.\n",
    "## guarda en la variable datos_fecha\n",
    "## Cuida los espacios, debe tener el formato identico al mostrado.\n",
    "datos = [\n",
    "    ['18.2', 'Enero', '345', '938', '2023', '75.6', '1', '425', '624'],\n",
    "    ['73.9', 'Febrero', '856', '432', '2023', '29.5', '2', '781', '952'],\n",
    "    ['87.3', 'Marzo', '465', '398', '2023', '72.9', '3', '612', '432'],\n",
    "    ['38.1', 'Abril', '293', '582', '2023', '72.9', '4', '153', '867'],\n",
    "    ['97.3', 'Mayo', '159', '246', '2023', '82.3', '5', '746', '598'],\n",
    "    ['29.4', 'Junio', '867', '598', '2023', '13.5', '6', '628', '392'],\n",
    "    ['73.9', 'Julio', '236', '985', '2023', '73.8', '7', '195', '382'],\n",
    "    ['95.7', 'Agosto', '834', '582', '2023', '62.5', '8', '748', '953'],\n",
    "    ['23.4', 'Septiembre', '865', '392', '2023', '58.7', '9', '341', '782'],\n",
    "    ['78.3', 'Octubre', '528', '974', '2023', '23.7', '10', '654', '392']\n",
    "]\n",
    "\n",
    "datos_fecha = []\n",
    "\n",
    "for elemento in datos:\n",
    "    a = float(elemento[0])                   #Aca se podria poner una condicion if para saber si es decimal o entero y apartur de ahi asignarle el tipo\n",
    "    mes = elemento[1]                        #pero no quise \n",
    "    b = int(elemento[2])\n",
    "    c = int(elemento[3])\n",
    "    year = elemento[4]\n",
    "    d = float(elemento[5])\n",
    "    dia = elemento[6]\n",
    "    e = int(elemento[7])\n",
    "    f = int(elemento[8])\n",
    "    datos_fecha.append([f'{year}-{mes}-{dia}',a,b,c,d,e,f])  ## ['2023-Enero-1', 18.2, 345, 938, 75.6, 425, 624]\n",
    "datos_fecha"
   ]
  },
  {
   "cell_type": "code",
   "execution_count": 17,
   "id": "3439bf87-e797-442d-969e-7c5b80057a05",
   "metadata": {},
   "outputs": [
    {
     "data": {
      "text/plain": [
       "float"
      ]
     },
     "execution_count": 17,
     "metadata": {},
     "output_type": "execute_result"
    }
   ],
   "source": [
    "type(datos_fecha[0][4])"
   ]
  }
 ],
 "metadata": {
  "kernelspec": {
   "display_name": "Python 3 (ipykernel)",
   "language": "python",
   "name": "python3"
  },
  "language_info": {
   "codemirror_mode": {
    "name": "ipython",
    "version": 3
   },
   "file_extension": ".py",
   "mimetype": "text/x-python",
   "name": "python",
   "nbconvert_exporter": "python",
   "pygments_lexer": "ipython3",
   "version": "3.12.5"
  }
 },
 "nbformat": 4,
 "nbformat_minor": 5
}
