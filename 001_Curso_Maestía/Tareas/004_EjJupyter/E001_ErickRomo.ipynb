{
 "cells": [
  {
   "cell_type": "markdown",
   "id": "976e5934-6420-48e5-ba8c-48488dc5a43e",
   "metadata": {},
   "source": [
    "# E01 Arregla el for\n",
    "\n",
    "Arregla el for para que tome ventaja de los objetos iterables de Python y usa una narrativa adecuada, puedes cambiar el nombre de tus variables."
   ]
  },
  {
   "cell_type": "code",
   "execution_count": 1,
   "id": "a8731e7c-2c2b-425a-809d-d924f2ac7448",
   "metadata": {},
   "outputs": [
    {
     "name": "stdout",
     "output_type": "stream",
     "text": [
      "DIEGO\n",
      "KevIn\n",
      "gaby\n",
      "greciA\n",
      "GRECIA\n",
      "greciA\n",
      "CeLeStE\n",
      "memo\n"
     ]
    }
   ],
   "source": [
    "nombres = [\"DIEGO\", \"KevIn\",\"gaby\",\"greciA\",\"GRECIA\",\"greciA\",\"CeLeStE\",\"memo\"]\n",
    "\n",
    "for nombre in nombres:\n",
    "    print(nombre)"
   ]
  },
  {
   "cell_type": "markdown",
   "id": "43073646-a78d-4023-884a-aa709623589f",
   "metadata": {},
   "source": [
    "# E02 Obten un elemento de la lista y transformalo\n",
    "\n",
    "Usando indices de la lista, obten en una variable que se llame `fundadora` el nombre de celeste"
   ]
  },
  {
   "cell_type": "code",
   "execution_count": 2,
   "id": "cddedad7-6ddb-4a9a-b0e8-2c5b71d54c6e",
   "metadata": {},
   "outputs": [
    {
     "data": {
      "text/plain": [
       "'CELESTE'"
      ]
     },
     "execution_count": 2,
     "metadata": {},
     "output_type": "execute_result"
    }
   ],
   "source": [
    "nom_mayus = [n.upper() for n in nombres]\n",
    "nom_mayus\n",
    "indice = nom_mayus.index('CELESTE')\n",
    "fundadora = nom_mayus [indice]\n",
    "fundadora"
   ]
  },
  {
   "cell_type": "markdown",
   "id": "974f5e8f-d5dd-4794-9583-8e07b9800653",
   "metadata": {},
   "source": [
    "Usando los métodos asociados a una `str` transforma lo contenido en la variable `fundadora`."
   ]
  },
  {
   "cell_type": "code",
   "execution_count": 3,
   "id": "45e117eb-d171-4a38-9e40-a331c6a03e29",
   "metadata": {},
   "outputs": [
    {
     "data": {
      "text/plain": [
       "'CELESTE'"
      ]
     },
     "execution_count": 3,
     "metadata": {},
     "output_type": "execute_result"
    }
   ],
   "source": [
    "# Pasa todo a mayúsculas\n",
    "fundadora = fundadora.upper()\n",
    "fundadora"
   ]
  },
  {
   "cell_type": "code",
   "execution_count": 4,
   "id": "109a8334-b7b2-4161-8347-7238de230633",
   "metadata": {},
   "outputs": [
    {
     "data": {
      "text/plain": [
       "'celeste'"
      ]
     },
     "execution_count": 4,
     "metadata": {},
     "output_type": "execute_result"
    }
   ],
   "source": [
    "# Pasa todo a minúsculas\n",
    "fundadora = fundadora.lower()\n",
    "fundadora"
   ]
  },
  {
   "cell_type": "code",
   "execution_count": 5,
   "id": "85f0523c-755c-4356-b96a-e6834f1ccbba",
   "metadata": {},
   "outputs": [
    {
     "data": {
      "text/plain": [
       "'Celeste'"
      ]
     },
     "execution_count": 5,
     "metadata": {},
     "output_type": "execute_result"
    }
   ],
   "source": [
    "# Pasa la primera letra a mayúscula\n",
    "fundadora = fundadora.capitalize()\n",
    "fundadora"
   ]
  },
  {
   "cell_type": "markdown",
   "id": "40b62a4c-b15a-4e14-a8df-f41e3c259106",
   "metadata": {},
   "source": [
    "# Transforma la lista\n",
    "Haz las transformaciones que se piden"
   ]
  },
  {
   "cell_type": "code",
   "execution_count": 6,
   "id": "2b7962d2-8e5b-4db7-9ae4-52972616b55b",
   "metadata": {},
   "outputs": [
    {
     "data": {
      "text/plain": [
       "['CeLeStE', 'DIEGO', 'GRECIA', 'KevIn', 'gaby', 'greciA', 'greciA', 'memo']"
      ]
     },
     "execution_count": 6,
     "metadata": {},
     "output_type": "execute_result"
    }
   ],
   "source": [
    "# ordena la lista alfabéticamente\n",
    "nombres.sort()\n",
    "nombres"
   ]
  },
  {
   "cell_type": "code",
   "execution_count": 7,
   "id": "4f9104c5-5db6-4f90-b700-c491cee6dac5",
   "metadata": {},
   "outputs": [
    {
     "data": {
      "text/plain": [
       "3"
      ]
     },
     "execution_count": 7,
     "metadata": {},
     "output_type": "execute_result"
    }
   ],
   "source": [
    "# Cuenta cuantas veces aparece Grecia, sin importar si está escrito en mayúsculas, minúsculas o como sea.\n",
    "nombres_low= [nombre.lower() for nombre in nombres]\n",
    "nombres_low.count('grecia')"
   ]
  },
  {
   "cell_type": "code",
   "execution_count": 8,
   "id": "2f184dc0-b2f6-48f7-ac9a-16da29f17350",
   "metadata": {},
   "outputs": [
    {
     "data": {
      "text/plain": [
       "['memo', 'greciA', 'greciA', 'gaby', 'KevIn', 'GRECIA', 'DIEGO', 'CeLeStE']"
      ]
     },
     "execution_count": 8,
     "metadata": {},
     "output_type": "execute_result"
    }
   ],
   "source": [
    "# Pon la lista en orden inverso al alfabético\n",
    "nombres.sort(reverse = True)\n",
    "nombres"
   ]
  },
  {
   "cell_type": "markdown",
   "id": "df1f2b6f-6283-4739-828c-b78292908188",
   "metadata": {},
   "source": [
    "# Itera y tranforma:\n",
    "\n",
    "Usa el siguiente código como inicio para lo que se te pide, entiende primero lo que hace y resuelve lo que se te pide."
   ]
  },
  {
   "cell_type": "code",
   "execution_count": 9,
   "id": "78675f71-d530-4478-b705-7e935b5d693d",
   "metadata": {},
   "outputs": [
    {
     "data": {
      "text/plain": [
       "['DIEGO', 'KevIn', 'gaby', 'greciA', 'GRECIA', 'greciA', 'CeLeStE', 'memo']"
      ]
     },
     "execution_count": 9,
     "metadata": {},
     "output_type": "execute_result"
    }
   ],
   "source": [
    "nombre = [\"DIEGO\", \"KevIn\", \"gaby\", \"greciA\", \"GRECIA\", \"greciA\", \"CeLeStE\", \"memo\"]\n",
    "\n",
    "nombre_transformado = []\n",
    "for n in nombre:\n",
    "    nombre_transformado.append(n)\n",
    "\n",
    "nombre_transformado"
   ]
  },
  {
   "cell_type": "code",
   "execution_count": 10,
   "id": "8256b573-858b-4de7-a3cf-fb14e30686b2",
   "metadata": {},
   "outputs": [
    {
     "data": {
      "text/plain": [
       "['DIEGO', 'KevIn', 'gaby', 'greciA', 'GRECIA', 'greciA', 'CeLeStE', 'memo']"
      ]
     },
     "execution_count": 10,
     "metadata": {},
     "output_type": "execute_result"
    }
   ],
   "source": [
    "#Tambien se puede asi\n",
    "nombre = [\"DIEGO\", \"KevIn\", \"gaby\", \"greciA\", \"GRECIA\", \"greciA\", \"CeLeStE\", \"memo\"]\n",
    "\n",
    "nombre_transformado = [n for n in nombre]\n",
    "\n",
    "nombre_transformado"
   ]
  },
  {
   "cell_type": "code",
   "execution_count": 11,
   "id": "b1e60157-7be9-4003-984e-3d147190789f",
   "metadata": {},
   "outputs": [
    {
     "data": {
      "text/plain": [
       "['DIEGO', 'KEVIN', 'GABY', 'GRECIA', 'GRECIA', 'GRECIA', 'CELESTE', 'MEMO']"
      ]
     },
     "execution_count": 11,
     "metadata": {},
     "output_type": "execute_result"
    }
   ],
   "source": [
    "# Pasa todos los nombres a mayusculas en una lista nueva\n",
    "nombre_transformado1 = [n.upper() for n in nombre]\n",
    "nombre_transformado1"
   ]
  },
  {
   "cell_type": "code",
   "execution_count": 12,
   "id": "23a41855-f565-4616-a524-ba4ad14c9c73",
   "metadata": {},
   "outputs": [
    {
     "name": "stdout",
     "output_type": "stream",
     "text": [
      "Hay  5  nombres con la letra \"g\"\n"
     ]
    }
   ],
   "source": [
    "# Cuenta los nombres que tienen la letra g, mayúscula o minúscula, no elimines repetidos\n",
    "nombre = [\"DIEGO\", \"KevIn\", \"gaby\", \"greciA\", \"GRECIA\", \"greciA\", \"CeLeStE\", \"memo\"]\n",
    "\n",
    "nombre_mayus = [n.upper() for n in nombre]\n",
    "\n",
    "cont_G = 0\n",
    "\n",
    "for n in nombre_mayus:\n",
    "    y = n.find('G')\n",
    "    if y > -1:                                 #El comando .find() devuelve el indice de lo que se esta buscando, si no aparece, pone el valor de -1, por eso\n",
    "        cont_G = cont_G + 1                    #le puse que si el indice es mayor a -1 para cada nombre en nombre_transformado1 sume 1 al contador de G\n",
    "print('Hay ',cont_G,' nombres con la letra \"g\"')\n",
    "\n",
    "# NOTA: El comando .find() solo devuelve el indice del primer elementoe ncontrado, entonces si en la lista hubiese nombres con mas de una g,\n",
    "# no los registraría doble o triple. por ejemplo, si fuera Georgia, devolveria el indice 0, pero ya no buscaria la otra g"
   ]
  },
  {
   "cell_type": "code",
   "execution_count": 13,
   "id": "0c478181-8ebe-4e22-b725-a742e5b45d31",
   "metadata": {},
   "outputs": [
    {
     "data": {
      "text/plain": [
       "{'CELESTE', 'DIEGO', 'GABY', 'GRECIA', 'KEVIN', 'MEMO'}"
      ]
     },
     "execution_count": 13,
     "metadata": {},
     "output_type": "execute_result"
    }
   ],
   "source": [
    "# Elimina los nombres duplicados sin importar si están en mayúscula o minúscula\n",
    "nombre = [\"DIEGO\", \"KevIn\", \"gaby\", \"greciA\", \"GRECIA\", \"greciA\", \"CeLeStE\", \"memo\"]\n",
    "nombre_mayus = [n.upper() for n in nombre]\n",
    "nombre_unico = (set(nombre_mayus))\n",
    "nombre_unico                                            #El unico detalle es que se ordenaron alfabeticamente"
   ]
  },
  {
   "cell_type": "code",
   "execution_count": 14,
   "id": "55c9258e-87c2-4365-afcf-fd2f007f1f4b",
   "metadata": {
    "scrolled": true
   },
   "outputs": [
    {
     "data": {
      "text/plain": [
       "[5, 5, 4, 6, 6, 6, 7, 4]"
      ]
     },
     "execution_count": 14,
     "metadata": {},
     "output_type": "execute_result"
    }
   ],
   "source": [
    "# haz una lista con el total de letras de cada nombre\n",
    "nombre = [\"DIEGO\", \"KevIn\", \"gaby\", \"greciA\", \"GRECIA\", \"greciA\", \"CeLeStE\", \"memo\"]\n",
    "\n",
    "cont_letras = [len(n) for n in nombre]\n",
    "cont_letras"
   ]
  }
 ],
 "metadata": {
  "kernelspec": {
   "display_name": "Python 3 (ipykernel)",
   "language": "python",
   "name": "python3"
  },
  "language_info": {
   "codemirror_mode": {
    "name": "ipython",
    "version": 3
   },
   "file_extension": ".py",
   "mimetype": "text/x-python",
   "name": "python",
   "nbconvert_exporter": "python",
   "pygments_lexer": "ipython3",
   "version": "3.12.5"
  }
 },
 "nbformat": 4,
 "nbformat_minor": 5
}
