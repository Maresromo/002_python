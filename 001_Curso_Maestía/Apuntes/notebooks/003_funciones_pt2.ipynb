{
 "cells": [
  {
   "cell_type": "code",
   "execution_count": 1,
   "id": "060c079a-9b18-4145-b8cf-955b66b40ab3",
   "metadata": {},
   "outputs": [],
   "source": [
    "def saluda1():\n",
    "    \"\"\"\n",
    "    Te saluda  Aqui aparece una documentacion\n",
    "    \"\"\"\n",
    "    print(\"Hola mundo\")"
   ]
  },
  {
   "cell_type": "code",
   "execution_count": 2,
   "id": "f919e9a9-8c6a-4b4b-9323-d51e1d2d236b",
   "metadata": {},
   "outputs": [
    {
     "name": "stdout",
     "output_type": "stream",
     "text": [
      "Hola mundo\n"
     ]
    }
   ],
   "source": [
    "saluda1()"
   ]
  },
  {
   "cell_type": "code",
   "execution_count": 3,
   "id": "ebb190d4-95ab-4a7b-8e51-68673c975bc5",
   "metadata": {},
   "outputs": [],
   "source": [
    "def saluda2(amigue=\"Diego\"):\n",
    "    \"\"\"\n",
    "    Te saluda\n",
    "    \"\"\"\n",
    "    print(f\"Hola {amigue}\")"
   ]
  },
  {
   "cell_type": "code",
   "execution_count": 4,
   "id": "60011ce5-96dd-4ab5-b241-054edecf0254",
   "metadata": {},
   "outputs": [
    {
     "name": "stdout",
     "output_type": "stream",
     "text": [
      "Hola Erick\n"
     ]
    }
   ],
   "source": [
    "saluda2(\"Erick\")"
   ]
  },
  {
   "cell_type": "code",
   "execution_count": 6,
   "id": "100e7072-7d66-4f35-a9ab-cfe347046cc8",
   "metadata": {},
   "outputs": [],
   "source": [
    "def saluda3(alumnos,estudiantes,profes=[\"Diego\",\"Meno\"]):\n",
    "    \"\"\"\n",
    "    Te saluda\n",
    "    \"\"\"\n",
    "    print(f\"Hola {alumnos},{estudiantes},{profes}\")"
   ]
  },
  {
   "cell_type": "code",
   "execution_count": 7,
   "id": "7af89088-2b90-446b-9352-d7d53b38bf5c",
   "metadata": {},
   "outputs": [
    {
     "name": "stdout",
     "output_type": "stream",
     "text": [
      "Hola ['Alvaro', 'Xochi'],['Kenjo', 'Nazli'],['Diego', 'Meno']\n"
     ]
    }
   ],
   "source": [
    "saluda3([\"Alvaro\",\"Xochi\"],[\"Kenjo\",\"Nazli\"])"
   ]
  },
  {
   "cell_type": "code",
   "execution_count": 9,
   "id": "11656f81-b0a9-4c7f-98d5-94fda3e8402e",
   "metadata": {
    "scrolled": true
   },
   "outputs": [
    {
     "name": "stdout",
     "output_type": "stream",
     "text": [
      "Hola ['Kenjo', 'Nazli'],['Alvaro', 'Xochi'],['Diego', 'Meno']\n"
     ]
    }
   ],
   "source": [
    "saluda3(estudiantes=[\"Alvaro\",\"Xochi\"],alumnos=[\"Kenjo\",\"Nazli\"]) #Si aca le especificamos la variable que queremos poner, \n",
    "                                                                    #no importa el orden en que las pongamos, va a respetar lo que es cada una\n"
   ]
  },
  {
   "cell_type": "code",
   "execution_count": 10,
   "id": "efe3b707-a8f4-4a24-b8ef-ceacea433057",
   "metadata": {},
   "outputs": [
    {
     "name": "stdout",
     "output_type": "stream",
     "text": [
      "Hola ['Kenjo', 'Nazli'],['Alvaro', 'Xochi'],['Huelz', 'Jorge']\n"
     ]
    }
   ],
   "source": [
    "saluda3(estudiantes=[\"Alvaro\",\"Xochi\"],alumnos=[\"Kenjo\",\"Nazli\"],profes=[\"Huelz\",\"Jorge\"]) #Si aca le especificamos la variable que queremos poner, \n",
    "                                                                    #no importa el orden en que las pongamos, va a respetar lo que es cada una\n"
   ]
  },
  {
   "cell_type": "code",
   "execution_count": 11,
   "id": "b7a600f1-d4c2-4e29-8cbc-9acd6d514ff0",
   "metadata": {},
   "outputs": [],
   "source": [
    "def saluda3(alumnos,estudiantes,profes=[\"Diego\",\"Meno\"]):\n",
    "    \"\"\"\n",
    "    Te saluda\n",
    "    \"\"\"\n",
    "    saludo=(f\"Hola {alumnos},{estudiantes},{profes}\")\n",
    "    return saludo,estudiantes,len(profes)               #Como son varias salidas nos regresa una tupla con los elementos"
   ]
  },
  {
   "cell_type": "code",
   "execution_count": 14,
   "id": "8c9acfd3-1589-4d15-a951-4e6d2abc3b5d",
   "metadata": {},
   "outputs": [
    {
     "data": {
      "text/plain": [
       "(\"Hola ['Kenjo', 'Nazli'],['Alvaro', 'Xochi'],['Diego', 'Meno']\",\n",
       " ['Alvaro', 'Xochi'],\n",
       " 2)"
      ]
     },
     "execution_count": 14,
     "metadata": {},
     "output_type": "execute_result"
    }
   ],
   "source": [
    "algo=saluda3(estudiantes=[\"Alvaro\",\"Xochi\"],alumnos=[\"Kenjo\",\"Nazli\"])\n",
    "algo"
   ]
  },
  {
   "cell_type": "code",
   "execution_count": 15,
   "id": "b56039d6-ce41-4891-bb41-bf1e9f9e1e7c",
   "metadata": {},
   "outputs": [
    {
     "data": {
      "text/plain": [
       "[\"Hola ['Kenjo', 'Nazli'],['Alvaro', 'Xochi'],['Diego', 'Meno']\",\n",
       " ['Alvaro', 'Xochi'],\n",
       " 2]"
      ]
     },
     "execution_count": 15,
     "metadata": {},
     "output_type": "execute_result"
    }
   ],
   "source": [
    "algo=list(saluda3(estudiantes=[\"Alvaro\",\"Xochi\"],alumnos=[\"Kenjo\",\"Nazli\"]))  #Asi lo cambiamos a lista\n",
    "algo"
   ]
  },
  {
   "cell_type": "code",
   "execution_count": 16,
   "id": "58a0f76a-6bb6-41d1-82c1-54f198478021",
   "metadata": {},
   "outputs": [
    {
     "data": {
      "text/plain": [
       "[\"Hola ['Kenjo', 'Nazli'],['Alvaro', 'Xochi'],['Diego', 'Meno']\",\n",
       " ['Alvaro', 'Xochi'],\n",
       " 2]"
      ]
     },
     "execution_count": 16,
     "metadata": {},
     "output_type": "execute_result"
    }
   ],
   "source": [
    "saludo,estudian,x=saluda3(estudiantes=[\"Alvaro\",\"Xochi\"],alumnos=[\"Kenjo\",\"Nazli\"])  #Nos guarda cada salida en una variable diferente\n",
    "algo"
   ]
  },
  {
   "cell_type": "code",
   "execution_count": 20,
   "id": "fa09f70c-1492-4fd7-b167-f9cc2b13e1bf",
   "metadata": {},
   "outputs": [
    {
     "data": {
      "text/plain": [
       "(\"Hola ['Kenjo', 'Nazli'],['Alvaro', 'Xochi'],['Diego', 'Meno']\",\n",
       " ['Alvaro', 'Xochi'])"
      ]
     },
     "execution_count": 20,
     "metadata": {},
     "output_type": "execute_result"
    }
   ],
   "source": [
    "saludo,estudian,_=saluda3(estudiantes=[\"Alvaro\",\"Xochi\"],alumnos=[\"Kenjo\",\"Nazli\"])  #Le ponemos el guion si no queremos el ultimo \n",
    "saludo,estudian"
   ]
  },
  {
   "cell_type": "code",
   "execution_count": 19,
   "id": "d1c1e00c-e35f-4214-bf36-6449fc558e19",
   "metadata": {},
   "outputs": [
    {
     "data": {
      "text/plain": [
       "\"Hola ['Kenjo', 'Nazli'],['Alvaro', 'Xochi'],['Diego', 'Meno']\""
      ]
     },
     "execution_count": 19,
     "metadata": {},
     "output_type": "execute_result"
    }
   ],
   "source": [
    "saludo,*_=saluda3(estudiantes=[\"Alvaro\",\"Xochi\"],alumnos=[\"Kenjo\",\"Nazli\"])  #Le ponemos el *_ si no queremos los demas \n",
    "saludo"
   ]
  },
  {
   "cell_type": "code",
   "execution_count": 23,
   "id": "0a98980c-3e54-4418-8ac4-8df06f2e479f",
   "metadata": {},
   "outputs": [
    {
     "data": {
      "text/plain": [
       "['Alvaro', 'Xochi']"
      ]
     },
     "execution_count": 23,
     "metadata": {},
     "output_type": "execute_result"
    }
   ],
   "source": [
    "_,estudian,_=saluda3(estudiantes=[\"Alvaro\",\"Xochi\"],alumnos=[\"Kenjo\",\"Nazli\"])  #Le ponemos el *_ si no queremos los demas \n",
    "estudian"
   ]
  },
  {
   "cell_type": "code",
   "execution_count": 25,
   "id": "29f6b324-bab2-4e63-8109-08a050c69194",
   "metadata": {},
   "outputs": [
    {
     "data": {
      "text/plain": [
       "(['Alvaro', 'Xochi'], 2)"
      ]
     },
     "execution_count": 25,
     "metadata": {},
     "output_type": "execute_result"
    }
   ],
   "source": [
    "x,estudian,x=saluda3(estudiantes=[\"Alvaro\",\"Xochi\"],alumnos=[\"Kenjo\",\"Nazli\"])  #Le ponemos el *_ si no queremos los demas \n",
    "estudian,x"
   ]
  },
  {
   "cell_type": "code",
   "execution_count": null,
   "id": "9396d7ac-a30a-41d8-8ec1-7cb8130cbdc3",
   "metadata": {},
   "outputs": [],
   "source": []
  }
 ],
 "metadata": {
  "kernelspec": {
   "display_name": "Python 3 (ipykernel)",
   "language": "python",
   "name": "python3"
  },
  "language_info": {
   "codemirror_mode": {
    "name": "ipython",
    "version": 3
   },
   "file_extension": ".py",
   "mimetype": "text/x-python",
   "name": "python",
   "nbconvert_exporter": "python",
   "pygments_lexer": "ipython3",
   "version": "3.12.5"
  }
 },
 "nbformat": 4,
 "nbformat_minor": 5
}
