{
 "cells": [
  {
   "cell_type": "code",
   "execution_count": 1,
   "id": "ee580f82-2ce7-4602-8d0d-89bd9f6bf7ee",
   "metadata": {},
   "outputs": [],
   "source": [
    "import pandas as pd\n",
    "from dateutil.parser import parse"
   ]
  },
  {
   "cell_type": "markdown",
   "id": "0ffe9e0a-9153-431f-a6df-9db449645d3c",
   "metadata": {},
   "source": [
    "COn las operaciones de parse podemos obtener intervalos de fechas al restar y al sumar un intervalo a una fecha obtenemnos una fecha "
   ]
  },
  {
   "cell_type": "code",
   "execution_count": 2,
   "id": "ded23762-a8c1-4e77-9d7f-11978cc568d2",
   "metadata": {},
   "outputs": [
    {
     "data": {
      "text/plain": [
       "datetime.datetime(2024, 1, 1, 12, 30)"
      ]
     },
     "execution_count": 2,
     "metadata": {},
     "output_type": "execute_result"
    }
   ],
   "source": [
    "f1 = parse('2024-01-01 12:30.01')\n",
    "f1"
   ]
  },
  {
   "cell_type": "code",
   "execution_count": 3,
   "id": "e330fa3a-b504-4939-abcb-4eb516b36f54",
   "metadata": {},
   "outputs": [
    {
     "data": {
      "text/plain": [
       "datetime.datetime(2024, 1, 2, 18, 0)"
      ]
     },
     "execution_count": 3,
     "metadata": {},
     "output_type": "execute_result"
    }
   ],
   "source": [
    "f2 = f1 + pd.Timedelta('1D5h30min')\n",
    "f2"
   ]
  },
  {
   "cell_type": "code",
   "execution_count": 4,
   "id": "4111d263-1df1-4b80-82d6-f761e74a938a",
   "metadata": {},
   "outputs": [
    {
     "data": {
      "text/plain": [
       "datetime.timedelta(days=1, seconds=19800)"
      ]
     },
     "execution_count": 4,
     "metadata": {},
     "output_type": "execute_result"
    }
   ],
   "source": [
    "f2 - f1"
   ]
  },
  {
   "cell_type": "code",
   "execution_count": null,
   "id": "63c95715-71e1-456f-a34b-c8153b795e8b",
   "metadata": {},
   "outputs": [],
   "source": []
  }
 ],
 "metadata": {
  "kernelspec": {
   "display_name": "Python 3 (ipykernel)",
   "language": "python",
   "name": "python3"
  },
  "language_info": {
   "codemirror_mode": {
    "name": "ipython",
    "version": 3
   },
   "file_extension": ".py",
   "mimetype": "text/x-python",
   "name": "python",
   "nbconvert_exporter": "python",
   "pygments_lexer": "ipython3",
   "version": "3.12.3"
  }
 },
 "nbformat": 4,
 "nbformat_minor": 5
}
