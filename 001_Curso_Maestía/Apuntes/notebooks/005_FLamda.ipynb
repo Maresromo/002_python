{
 "cells": [
  {
   "cell_type": "code",
   "execution_count": 2,
   "id": "1071b882-6d77-4873-9ead-5e1045d07f3e",
   "metadata": {},
   "outputs": [],
   "source": [
    "import pandas as pd"
   ]
  },
  {
   "cell_type": "code",
   "execution_count": 3,
   "id": "4f27f90d-afb1-4005-b9f7-78b73a82efcf",
   "metadata": {},
   "outputs": [
    {
     "data": {
      "text/plain": [
       "<function __main__.<lambda>(num)>"
      ]
     },
     "execution_count": 3,
     "metadata": {},
     "output_type": "execute_result"
    }
   ],
   "source": [
    "lambda num: num**2      #Son funciones como def, tienen la ventaja de poder ser creadas mas rapido"
   ]
  },
  {
   "cell_type": "code",
   "execution_count": 6,
   "id": "fdacee60-88de-4f2d-85a4-36da41741841",
   "metadata": {},
   "outputs": [
    {
     "data": {
      "text/plain": [
       "9"
      ]
     },
     "execution_count": 6,
     "metadata": {},
     "output_type": "execute_result"
    }
   ],
   "source": [
    "potencia = lambda num: num**2\n",
    "potencia(3)"
   ]
  },
  {
   "cell_type": "markdown",
   "id": "4f3f4b5d-8004-4c4a-b944-0e907986bb20",
   "metadata": {},
   "source": [
    "## Cuando usar una funcion lambda\n",
    "La usamos para crear funciones simples y especifica, las cuales solo se usaran una vez (a lo mejor), hay que evitar el uso de funciones complejas como for, if\n",
    "\n",
    "Son funciones anonimas ua que no es necesario guardarlas, se usan una vez y luego se destruyen\n",
    "\n",
    "Son nativas de python"
   ]
  },
  {
   "cell_type": "code",
   "execution_count": 15,
   "id": "03c7371a-9372-446a-a489-7980cd8079e5",
   "metadata": {
    "scrolled": true
   },
   "outputs": [
    {
     "data": {
      "text/plain": [
       "<function __main__.<lambda>(x)>"
      ]
     },
     "execution_count": 15,
     "metadata": {},
     "output_type": "execute_result"
    }
   ],
   "source": [
    "lambda x: x**3"
   ]
  },
  {
   "cell_type": "code",
   "execution_count": 16,
   "id": "71596ccc-ffb9-4737-9bee-d9331311dbca",
   "metadata": {},
   "outputs": [
    {
     "data": {
      "text/plain": [
       "125"
      ]
     },
     "execution_count": 16,
     "metadata": {},
     "output_type": "execute_result"
    }
   ],
   "source": [
    "_(5)"
   ]
  },
  {
   "cell_type": "code",
   "execution_count": 19,
   "id": "3d2c88f8-3932-4637-8bbf-b004fd2f07a9",
   "metadata": {},
   "outputs": [],
   "source": [
    "# _(5)    # Solo funciona uina vez y luego se destruye "
   ]
  },
  {
   "cell_type": "code",
   "execution_count": 20,
   "id": "c7683c2e-ee45-46c2-ab66-99f641639f23",
   "metadata": {},
   "outputs": [
    {
     "data": {
      "text/plain": [
       "<function __main__.<lambda>(x, y, z)>"
      ]
     },
     "execution_count": 20,
     "metadata": {},
     "output_type": "execute_result"
    }
   ],
   "source": [
    "lambda x,y,z: x**y + z**y"
   ]
  },
  {
   "cell_type": "code",
   "execution_count": 21,
   "id": "2a4274c3-e083-4f6d-8a71-6b932dc96c1e",
   "metadata": {},
   "outputs": [
    {
     "data": {
      "text/plain": [
       "133"
      ]
     },
     "execution_count": 21,
     "metadata": {},
     "output_type": "execute_result"
    }
   ],
   "source": [
    "_(y=3, x=2, z=5)"
   ]
  },
  {
   "cell_type": "markdown",
   "id": "9998e223-dffa-4008-b4cd-ca97536641bb",
   "metadata": {},
   "source": [
    "## Otras funciones nativas de python son las Built-in functions\n",
    "por ejemplo: map(), filter()"
   ]
  },
  {
   "cell_type": "markdown",
   "id": "b760bb21-fd0a-4311-a756-2980d79ade2c",
   "metadata": {},
   "source": [
    "## map()\n",
    "Aplica una funcion a cada elemento dde un iterable y devuelve un objeto map, se utiliza para realizar una operacion en cada elemento del iterable\n",
    "Es util ya que si nosotros definieramos una funcion, no la podemos iterar en cada elemento de la lista (se puede con un ciclo for), pero el mapeo map() si nos deja irerar\n",
    "\n",
    "**map(funcion,iterable)**"
   ]
  },
  {
   "cell_type": "code",
   "execution_count": 22,
   "id": "542667c1-0014-4cd0-ad56-102d6123d422",
   "metadata": {},
   "outputs": [],
   "source": [
    "numeros = [1,2,3,4,5,6,7,8,9]"
   ]
  },
  {
   "cell_type": "code",
   "execution_count": 23,
   "id": "284ea0cb-0e95-43b8-ace2-e7b35512f122",
   "metadata": {},
   "outputs": [
    {
     "data": {
      "text/plain": [
       "[1, 4, 9, 16, 25, 36, 49, 64, 81]"
      ]
     },
     "execution_count": 23,
     "metadata": {},
     "output_type": "execute_result"
    }
   ],
   "source": [
    "list(map(lambda num: num**2, numeros))"
   ]
  },
  {
   "cell_type": "markdown",
   "id": "70931c6a-7a93-47db-ae0e-765296d25e54",
   "metadata": {},
   "source": [
    "1. Dafas dos listas donde la primera son las bases y la seguna los exponenetes, calcula los resultados"
   ]
  },
  {
   "cell_type": "code",
   "execution_count": 28,
   "id": "482384c5-0312-47ac-bac7-39fdc33bedd3",
   "metadata": {},
   "outputs": [
    {
     "data": {
      "text/plain": [
       "[49, 160000, 3125]"
      ]
     },
     "execution_count": 28,
     "metadata": {},
     "output_type": "execute_result"
    }
   ],
   "source": [
    "base = [7,20,5]\n",
    "exp = [2,4,5]\n",
    "\n",
    "res = list(map(lambda x,y: x**y, base,exp))\n",
    "res"
   ]
  },
  {
   "cell_type": "markdown",
   "id": "d8686582-f1db-4dac-8b28-ade2d30661ec",
   "metadata": {},
   "source": [
    "## filter()\n",
    "Filtra los elementos de un iterable utilizando una funcion quue devuelve T o F, retorna un objeto filter con los elementos que cumplen la condicion\n",
    "\n",
    "**filter(funcion,iterable)**"
   ]
  },
  {
   "cell_type": "code",
   "execution_count": 33,
   "id": "c31099c9-1aed-4170-abec-baca96968b72",
   "metadata": {},
   "outputs": [],
   "source": [
    "numeros = [1,2,3,4,5,6,7,8,9]"
   ]
  },
  {
   "cell_type": "code",
   "execution_count": 34,
   "id": "8e9ce846-6db1-431c-85c6-41f0ab2781ca",
   "metadata": {},
   "outputs": [
    {
     "data": {
      "text/plain": [
       "False"
      ]
     },
     "execution_count": 34,
     "metadata": {},
     "output_type": "execute_result"
    }
   ],
   "source": [
    "5%2 == 0     #% nos devuelve el reciduo de la division, al poner == comparamos si es igual a cero, devuelve True o False"
   ]
  },
  {
   "cell_type": "code",
   "execution_count": 36,
   "id": "84e1398e-a37e-4ce0-baea-2af223ca5418",
   "metadata": {},
   "outputs": [
    {
     "data": {
      "text/plain": [
       "[2, 4, 6, 8]"
      ]
     },
     "execution_count": 36,
     "metadata": {},
     "output_type": "execute_result"
    }
   ],
   "source": [
    "list(filter(lambda num: num%2 == 0, numeros))   # Aca queremos filtar los numeros pares"
   ]
  },
  {
   "cell_type": "markdown",
   "id": "114dcd6a-3558-4da7-8371-8b37871d7572",
   "metadata": {},
   "source": [
    "## sorted()\n",
    "Es una funcion que ordena los elementos de un iterable y devuelve la lista ordenadada\n",
    "\n",
    "**sorted(iterable, key=None, reverse=False)**\n",
    "\n",
    "En key podemos poner una funcion \n",
    "\n",
    "Esto se escribe al reves de filter, ya que ahi teniamos funcion y luego iterable, y aca tenemos iterable y luego key"
   ]
  },
  {
   "cell_type": "code",
   "execution_count": 39,
   "id": "e362ada6-645b-452c-9741-d3296b21a612",
   "metadata": {},
   "outputs": [
    {
     "data": {
      "text/plain": [
       "['Xoc', 'Ara', 'Sopi', 'Erick']"
      ]
     },
     "execution_count": 39,
     "metadata": {},
     "output_type": "execute_result"
    }
   ],
   "source": [
    "nombres = ('Sopi','Xoc','Erick','Ara')\n",
    "sorted(nombres, key = lambda x: len(x))         #Aca ordenamos los nombres por el numero de caracteres"
   ]
  },
  {
   "cell_type": "markdown",
   "id": "28633bb8-8ba9-449b-b888-67f8bcce19b3",
   "metadata": {},
   "source": [
    "2. Ordena la siguiente lista de acuerdo al orden alfabetico del tercer elemento de cada tupla\n"
   ]
  },
  {
   "cell_type": "code",
   "execution_count": 47,
   "id": "1a4af4bd-3d19-4754-9d2e-f634e3b9ba20",
   "metadata": {},
   "outputs": [
    {
     "data": {
      "text/plain": [
       "[(2, 'kg', 'leche'), (3, 'pieza', 'pan'), (2, 'kg', 'verdura')]"
      ]
     },
     "execution_count": 47,
     "metadata": {},
     "output_type": "execute_result"
    }
   ],
   "source": [
    "tuplas = [(2,'kg','verdura'),(3,'pieza','pan'),(2,'kg','leche')]\n",
    "\n",
    "sorted(tuplas, key = lambda x: x[2])    #Aca x es la tupla dentro de la lista de tuplas de la cual queremos extraer el segundo elemento x[2]"
   ]
  },
  {
   "cell_type": "markdown",
   "id": "b9437e61-d512-4fe1-934c-1e345e4dffc0",
   "metadata": {},
   "source": [
    "## apply()\n",
    "Es utilizado para aplicar funciones en un eje de un Dataframe. Un eje son filas 0 o columnas 1\n",
    "\n",
    "**df[\"column\"].apply(function)**\n",
    "\n",
    "La funcion no tiene que ser encesariamente lambda, tambien puede ser una def"
   ]
  },
  {
   "cell_type": "code",
   "execution_count": 49,
   "id": "ed405571-1636-41bb-a6ad-f269f9bed044",
   "metadata": {},
   "outputs": [
    {
     "data": {
      "text/html": [
       "<div>\n",
       "<style scoped>\n",
       "    .dataframe tbody tr th:only-of-type {\n",
       "        vertical-align: middle;\n",
       "    }\n",
       "\n",
       "    .dataframe tbody tr th {\n",
       "        vertical-align: top;\n",
       "    }\n",
       "\n",
       "    .dataframe thead th {\n",
       "        text-align: right;\n",
       "    }\n",
       "</style>\n",
       "<table border=\"1\" class=\"dataframe\">\n",
       "  <thead>\n",
       "    <tr style=\"text-align: right;\">\n",
       "      <th></th>\n",
       "      <th>Producto</th>\n",
       "      <th>Costo</th>\n",
       "    </tr>\n",
       "  </thead>\n",
       "  <tbody>\n",
       "    <tr>\n",
       "      <th>0</th>\n",
       "      <td>Helado</td>\n",
       "      <td>24</td>\n",
       "    </tr>\n",
       "    <tr>\n",
       "      <th>1</th>\n",
       "      <td>pan</td>\n",
       "      <td>8</td>\n",
       "    </tr>\n",
       "    <tr>\n",
       "      <th>2</th>\n",
       "      <td>Shampoo</td>\n",
       "      <td>67</td>\n",
       "    </tr>\n",
       "    <tr>\n",
       "      <th>3</th>\n",
       "      <td>Desodorante</td>\n",
       "      <td>50</td>\n",
       "    </tr>\n",
       "  </tbody>\n",
       "</table>\n",
       "</div>"
      ],
      "text/plain": [
       "      Producto  Costo\n",
       "0       Helado     24\n",
       "1          pan      8\n",
       "2      Shampoo     67\n",
       "3  Desodorante     50"
      ]
     },
     "execution_count": 49,
     "metadata": {},
     "output_type": "execute_result"
    }
   ],
   "source": [
    "df = pd.DataFrame({\n",
    "    'Producto':['Helado','pan','Shampoo','Desodorante'],\n",
    "    'Costo': [24,8,67,50]  \n",
    "})\n",
    "\n",
    "df"
   ]
  },
  {
   "cell_type": "code",
   "execution_count": 52,
   "id": "832cbeae-1255-4f89-b057-23e8b404054d",
   "metadata": {},
   "outputs": [
    {
     "data": {
      "text/html": [
       "<div>\n",
       "<style scoped>\n",
       "    .dataframe tbody tr th:only-of-type {\n",
       "        vertical-align: middle;\n",
       "    }\n",
       "\n",
       "    .dataframe tbody tr th {\n",
       "        vertical-align: top;\n",
       "    }\n",
       "\n",
       "    .dataframe thead th {\n",
       "        text-align: right;\n",
       "    }\n",
       "</style>\n",
       "<table border=\"1\" class=\"dataframe\">\n",
       "  <thead>\n",
       "    <tr style=\"text-align: right;\">\n",
       "      <th></th>\n",
       "      <th>Producto</th>\n",
       "      <th>Costo</th>\n",
       "      <th>IVA</th>\n",
       "    </tr>\n",
       "  </thead>\n",
       "  <tbody>\n",
       "    <tr>\n",
       "      <th>0</th>\n",
       "      <td>Helado</td>\n",
       "      <td>24</td>\n",
       "      <td>3.84</td>\n",
       "    </tr>\n",
       "    <tr>\n",
       "      <th>1</th>\n",
       "      <td>pan</td>\n",
       "      <td>8</td>\n",
       "      <td>1.28</td>\n",
       "    </tr>\n",
       "    <tr>\n",
       "      <th>2</th>\n",
       "      <td>Shampoo</td>\n",
       "      <td>67</td>\n",
       "      <td>10.72</td>\n",
       "    </tr>\n",
       "    <tr>\n",
       "      <th>3</th>\n",
       "      <td>Desodorante</td>\n",
       "      <td>50</td>\n",
       "      <td>8.00</td>\n",
       "    </tr>\n",
       "  </tbody>\n",
       "</table>\n",
       "</div>"
      ],
      "text/plain": [
       "      Producto  Costo    IVA\n",
       "0       Helado     24   3.84\n",
       "1          pan      8   1.28\n",
       "2      Shampoo     67  10.72\n",
       "3  Desodorante     50   8.00"
      ]
     },
     "execution_count": 52,
     "metadata": {},
     "output_type": "execute_result"
    }
   ],
   "source": [
    "df['IVA'] = df.Costo*0.16     #Esto se puede con nuemros pero no con strings, para eso necesitamos apply()\n",
    "df"
   ]
  },
  {
   "cell_type": "code",
   "execution_count": 58,
   "id": "51963706-966d-40ee-bfdd-3dcc6e85a254",
   "metadata": {},
   "outputs": [
    {
     "data": {
      "text/plain": [
       "0         HELADO\n",
       "1            PAN\n",
       "2        SHAMPOO\n",
       "3    DESODORANTE\n",
       "Name: Producto, dtype: object"
      ]
     },
     "execution_count": 58,
     "metadata": {},
     "output_type": "execute_result"
    }
   ],
   "source": [
    "df['Producto'].apply(lambda n: n.upper())   # Aca no hemos modificado el df, para eso necesitariamos "
   ]
  },
  {
   "cell_type": "code",
   "execution_count": 60,
   "id": "439e9ecc-f918-46cc-b60b-c8f783ff68f9",
   "metadata": {},
   "outputs": [
    {
     "data": {
      "text/html": [
       "<div>\n",
       "<style scoped>\n",
       "    .dataframe tbody tr th:only-of-type {\n",
       "        vertical-align: middle;\n",
       "    }\n",
       "\n",
       "    .dataframe tbody tr th {\n",
       "        vertical-align: top;\n",
       "    }\n",
       "\n",
       "    .dataframe thead th {\n",
       "        text-align: right;\n",
       "    }\n",
       "</style>\n",
       "<table border=\"1\" class=\"dataframe\">\n",
       "  <thead>\n",
       "    <tr style=\"text-align: right;\">\n",
       "      <th></th>\n",
       "      <th>Producto</th>\n",
       "      <th>Costo</th>\n",
       "      <th>IVA</th>\n",
       "      <th>QUE_ES</th>\n",
       "    </tr>\n",
       "  </thead>\n",
       "  <tbody>\n",
       "    <tr>\n",
       "      <th>0</th>\n",
       "      <td>Helado</td>\n",
       "      <td>24</td>\n",
       "      <td>3.84</td>\n",
       "      <td>Barato</td>\n",
       "    </tr>\n",
       "    <tr>\n",
       "      <th>1</th>\n",
       "      <td>pan</td>\n",
       "      <td>8</td>\n",
       "      <td>1.28</td>\n",
       "      <td>Barato</td>\n",
       "    </tr>\n",
       "    <tr>\n",
       "      <th>2</th>\n",
       "      <td>Shampoo</td>\n",
       "      <td>67</td>\n",
       "      <td>10.72</td>\n",
       "      <td>Caro</td>\n",
       "    </tr>\n",
       "    <tr>\n",
       "      <th>3</th>\n",
       "      <td>Desodorante</td>\n",
       "      <td>50</td>\n",
       "      <td>8.00</td>\n",
       "      <td>Caro</td>\n",
       "    </tr>\n",
       "  </tbody>\n",
       "</table>\n",
       "</div>"
      ],
      "text/plain": [
       "      Producto  Costo    IVA  QUE_ES\n",
       "0       Helado     24   3.84  Barato\n",
       "1          pan      8   1.28  Barato\n",
       "2      Shampoo     67  10.72    Caro\n",
       "3  Desodorante     50   8.00    Caro"
      ]
     },
     "execution_count": 60,
     "metadata": {},
     "output_type": "execute_result"
    }
   ],
   "source": [
    "df['QUE_ES']=df['Costo'].apply(lambda precio: 'Barato' if precio <= 30 else 'Caro')\n",
    "df"
   ]
  },
  {
   "cell_type": "code",
   "execution_count": 62,
   "id": "e7f40e1e-2ebf-4ffc-ba64-87ee609d14df",
   "metadata": {},
   "outputs": [
    {
     "data": {
      "text/plain": [
       "0         Helado_24\n",
       "1             pan_8\n",
       "2        Shampoo_67\n",
       "3    Desodorante_50\n",
       "dtype: object"
      ]
     },
     "execution_count": 62,
     "metadata": {},
     "output_type": "execute_result"
    }
   ],
   "source": [
    "df[[\"Producto\", \"Costo\"]].apply(lambda column: column[\"Producto\"]+\"_\"+str(column[\"Costo\"]), axis=1)  #axis=1 es para que agarre la primera columna, \n",
    "# ya que por default agarra el indice axis=0"
   ]
  },
  {
   "cell_type": "code",
   "execution_count": null,
   "id": "74d3232f-59ca-43f9-a9a5-db1dedf0c7ac",
   "metadata": {},
   "outputs": [],
   "source": []
  }
 ],
 "metadata": {
  "kernelspec": {
   "display_name": "Python 3 (ipykernel)",
   "language": "python",
   "name": "python3"
  },
  "language_info": {
   "codemirror_mode": {
    "name": "ipython",
    "version": 3
   },
   "file_extension": ".py",
   "mimetype": "text/x-python",
   "name": "python",
   "nbconvert_exporter": "python",
   "pygments_lexer": "ipython3",
   "version": "3.12.3"
  }
 },
 "nbformat": 4,
 "nbformat_minor": 5
}
