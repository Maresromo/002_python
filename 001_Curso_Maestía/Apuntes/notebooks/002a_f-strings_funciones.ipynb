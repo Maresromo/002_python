{
 "cells": [
  {
   "cell_type": "code",
   "execution_count": 1,
   "id": "15cab9ac-2b6c-4d07-8056-46a4919a43c3",
   "metadata": {},
   "outputs": [],
   "source": [
    "nombre = \"Diego Canul\"\n",
    "edad = 28"
   ]
  },
  {
   "cell_type": "code",
   "execution_count": 2,
   "id": "1fe602ba-9102-4b08-b5b5-5fdd8bcb5532",
   "metadata": {},
   "outputs": [],
   "source": [
    "#\"hola mi nombre es\" + nombre + \"y tengo\" +edad + \"año\""
   ]
  },
  {
   "cell_type": "code",
   "execution_count": 3,
   "id": "7ca29260-dd57-4946-acbc-d42f35527095",
   "metadata": {},
   "outputs": [
    {
     "data": {
      "text/plain": [
       "'hola mi nombre esDiego Canuly tengo 28 años'"
      ]
     },
     "execution_count": 3,
     "metadata": {},
     "output_type": "execute_result"
    }
   ],
   "source": [
    "\"hola mi nombre es\" + nombre + \"y tengo \" +str(edad) + \" años\""
   ]
  },
  {
   "cell_type": "markdown",
   "id": "1bc711cb-bbac-4a66-8b36-883e8b9c6c68",
   "metadata": {},
   "source": [
    "# 2. Operador %"
   ]
  },
  {
   "cell_type": "code",
   "execution_count": 4,
   "id": "1dd0c3f0-b763-402b-8613-57fdf33f386a",
   "metadata": {},
   "outputs": [],
   "source": [
    "nombre = \"diego\"\n",
    "edad = 28"
   ]
  },
  {
   "cell_type": "code",
   "execution_count": 5,
   "id": "9122ecff-84d4-45c2-8a65-bb46b5624b61",
   "metadata": {},
   "outputs": [
    {
     "data": {
      "text/plain": [
       "'hola mi nombre es diego y tengo 28.000000 años'"
      ]
     },
     "execution_count": 5,
     "metadata": {},
     "output_type": "execute_result"
    }
   ],
   "source": [
    "\"hola mi nombre es %s y tengo %f años\"%(nombre, edad)\n",
    "# %f=flotante"
   ]
  },
  {
   "cell_type": "code",
   "execution_count": 6,
   "id": "9133842b-056f-43b9-8fc4-bb33270398a5",
   "metadata": {},
   "outputs": [
    {
     "data": {
      "text/plain": [
       "'hola mi nombre es diego y tengo 28 años'"
      ]
     },
     "execution_count": 6,
     "metadata": {},
     "output_type": "execute_result"
    }
   ],
   "source": [
    "\"hola mi nombre es %s y tengo %d años\"%(nombre, edad)\n",
    "# %d = entero"
   ]
  },
  {
   "cell_type": "code",
   "execution_count": 7,
   "id": "0b501cbb-68e0-43f7-86da-687109458868",
   "metadata": {},
   "outputs": [
    {
     "data": {
      "text/plain": [
       "'Hola mi nombre diego y tengo 28 años, este año cumplo 29'"
      ]
     },
     "execution_count": 7,
     "metadata": {},
     "output_type": "execute_result"
    }
   ],
   "source": [
    "\"Hola mi nombre %s y tengo %d años, este año cumplo %d\"%(nombre, edad, edad+1)"
   ]
  },
  {
   "cell_type": "markdown",
   "id": "9746505b-8bea-4613-a872-d30359ea5252",
   "metadata": {},
   "source": [
    "# 3. metodo .format"
   ]
  },
  {
   "cell_type": "code",
   "execution_count": 8,
   "id": "0ae8e2d3-db7f-4c38-a73b-ce450074875a",
   "metadata": {},
   "outputs": [
    {
     "data": {
      "text/plain": [
       "'hola mi nombre es diego y tengo 28'"
      ]
     },
     "execution_count": 8,
     "metadata": {},
     "output_type": "execute_result"
    }
   ],
   "source": [
    "\"hola mi nombre es {} y tengo {}\".format(nombre, edad, edad+1)"
   ]
  },
  {
   "cell_type": "code",
   "execution_count": 9,
   "id": "e3f65eb4-2e26-44d8-a7b5-64a29a2a714a",
   "metadata": {},
   "outputs": [
    {
     "data": {
      "text/plain": [
       "'hola mi nombre es diego y tengo 29'"
      ]
     },
     "execution_count": 9,
     "metadata": {},
     "output_type": "execute_result"
    }
   ],
   "source": [
    "\"hola mi nombre es {0} y tengo {2}\".format(nombre, edad, edad+1)"
   ]
  },
  {
   "cell_type": "code",
   "execution_count": 10,
   "id": "b88df092-7360-43c4-ac97-af55f861787d",
   "metadata": {},
   "outputs": [
    {
     "data": {
      "text/plain": [
       "'hola mi nombre es yuri y tengo 42'"
      ]
     },
     "execution_count": 10,
     "metadata": {},
     "output_type": "execute_result"
    }
   ],
   "source": [
    "\"hola mi nombre es {nombre} y tengo {edad}\".format(nombre=\"yuri\", edad=42)"
   ]
  },
  {
   "cell_type": "markdown",
   "id": "2a529924-361c-497f-8361-0c8592ff8441",
   "metadata": {},
   "source": [
    "# 4 El estilo mas pythonico: f-strings"
   ]
  },
  {
   "cell_type": "code",
   "execution_count": 11,
   "id": "e2209793-91c0-4bf8-9614-49e87d8e83d8",
   "metadata": {},
   "outputs": [
    {
     "data": {
      "text/plain": [
       "'hola mi nombre es diego y tengo 28'"
      ]
     },
     "execution_count": 11,
     "metadata": {},
     "output_type": "execute_result"
    }
   ],
   "source": [
    "f\"hola mi nombre es {nombre} y tengo {edad}\"\n",
    "#f al inicio para que reconosca que estoy usando variables dentro de mi string"
   ]
  },
  {
   "cell_type": "code",
   "execution_count": 12,
   "id": "cfc354e4-a068-4632-b5ca-48a171f65267",
   "metadata": {},
   "outputs": [
    {
     "data": {
      "text/plain": [
       "'hola mi nombre es Diego y tengo 28'"
      ]
     },
     "execution_count": 12,
     "metadata": {},
     "output_type": "execute_result"
    }
   ],
   "source": [
    "f\"hola mi nombre es {nombre.title()} y tengo {edad}\""
   ]
  },
  {
   "cell_type": "code",
   "execution_count": 13,
   "id": "2aaf6db4-f82d-4e85-b4d5-64a73bf852db",
   "metadata": {},
   "outputs": [
    {
     "data": {
      "text/plain": [
       "'hola mi nombre es Diego y tengo 28 años'"
      ]
     },
     "execution_count": 13,
     "metadata": {},
     "output_type": "execute_result"
    }
   ],
   "source": [
    "f\"hola mi nombre es {nombre.title()[0:5]} y tengo {edad} años\""
   ]
  },
  {
   "cell_type": "code",
   "execution_count": 14,
   "id": "03531a18-8cce-48b0-a1de-d0090101e361",
   "metadata": {},
   "outputs": [
    {
     "data": {
      "text/plain": [
       "'hola mi nombre es  y tengo 28 años'"
      ]
     },
     "execution_count": 14,
     "metadata": {},
     "output_type": "execute_result"
    }
   ],
   "source": [
    "f\"hola mi nombre es {nombre.title()[:-6]} y tengo {edad} años\""
   ]
  },
  {
   "cell_type": "code",
   "execution_count": 15,
   "id": "53d93219-353c-4dbe-af25-02a46b2811f5",
   "metadata": {},
   "outputs": [
    {
     "data": {
      "text/plain": [
       "'Dentro de 5 años tendre 33'"
      ]
     },
     "execution_count": 15,
     "metadata": {},
     "output_type": "execute_result"
    }
   ],
   "source": [
    "f\"Dentro de 5 años tendre {edad+5}\""
   ]
  },
  {
   "cell_type": "code",
   "execution_count": 16,
   "id": "a7bc61c2-3365-4ea3-a31b-a3833fa508b2",
   "metadata": {},
   "outputs": [],
   "source": [
    "pi = 3.14159265"
   ]
  },
  {
   "cell_type": "code",
   "execution_count": 17,
   "id": "040bc0fd-9cf7-4833-bf2c-7f487671bc65",
   "metadata": {},
   "outputs": [
    {
     "data": {
      "text/plain": [
       "'El valor de pi es 3.14159265'"
      ]
     },
     "execution_count": 17,
     "metadata": {},
     "output_type": "execute_result"
    }
   ],
   "source": [
    "f\"El valor de pi es {pi}\""
   ]
  },
  {
   "cell_type": "code",
   "execution_count": 18,
   "id": "08ec500a-81b8-4889-a204-695476cba403",
   "metadata": {},
   "outputs": [
    {
     "data": {
      "text/plain": [
       "'El valor de pi es 3.14'"
      ]
     },
     "execution_count": 18,
     "metadata": {},
     "output_type": "execute_result"
    }
   ],
   "source": [
    "f\"El valor de pi es {pi:.2f}\"  #El :.2f indica que será un flotante con 2 decimales"
   ]
  },
  {
   "cell_type": "code",
   "execution_count": 19,
   "id": "4abf59b0-8d3d-48e3-b171-64ecda85c733",
   "metadata": {},
   "outputs": [
    {
     "data": {
      "text/plain": [
       "'El numero es 1,000,000'"
      ]
     },
     "execution_count": 19,
     "metadata": {},
     "output_type": "execute_result"
    }
   ],
   "source": [
    "num = 1000000\n",
    "f\"El numero es {num:,}\""
   ]
  },
  {
   "cell_type": "code",
   "execution_count": 20,
   "id": "a6178bae-f846-4628-b45a-c0c5327f961b",
   "metadata": {},
   "outputs": [],
   "source": [
    "numero = 7"
   ]
  },
  {
   "cell_type": "code",
   "execution_count": 21,
   "id": "a71c72d1-52ce-4c74-b97f-5ce8ff40a6b3",
   "metadata": {},
   "outputs": [
    {
     "data": {
      "text/plain": [
       "'Estamos en la libreta 007'"
      ]
     },
     "execution_count": 21,
     "metadata": {},
     "output_type": "execute_result"
    }
   ],
   "source": [
    "f\"Estamos en la libreta {numero:03d}\""
   ]
  },
  {
   "cell_type": "code",
   "execution_count": 22,
   "id": "b96582ac-3c6e-40ce-b042-1b4db1143c3b",
   "metadata": {},
   "outputs": [
    {
     "data": {
      "text/plain": [
       "'Estamos en la libreta 7.000'"
      ]
     },
     "execution_count": 22,
     "metadata": {},
     "output_type": "execute_result"
    }
   ],
   "source": [
    "f\"Estamos en la libreta {numero:.03f}\""
   ]
  },
  {
   "cell_type": "markdown",
   "id": "9e02542e-8794-423c-8db5-83f5b3f5a027",
   "metadata": {},
   "source": [
    "# dado un dia, mes y año como variables enteras, crea una f-string que imprima la fecha en el formato dd/mm/aaa \n",
    "# asegurandote de que el dia y el mes siempre tnengan dos digitos"
   ]
  },
  {
   "cell_type": "code",
   "execution_count": 23,
   "id": "53c7afb0-42d7-4bb3-9c7d-8dad97349b45",
   "metadata": {},
   "outputs": [],
   "source": [
    "dia = 1\n",
    "mes = 8\n",
    "año = 2024"
   ]
  },
  {
   "cell_type": "code",
   "execution_count": 24,
   "id": "c992996b-cab2-4e7a-86bd-a52910693858",
   "metadata": {},
   "outputs": [
    {
     "data": {
      "text/plain": [
       "'la fecha de hoy es 01/8/2024'"
      ]
     },
     "execution_count": 24,
     "metadata": {},
     "output_type": "execute_result"
    }
   ],
   "source": [
    "f\"la fecha de hoy es {dia:02d}/{mes}/{año}\""
   ]
  },
  {
   "cell_type": "code",
   "execution_count": 25,
   "id": "949a74e3-c925-4d5b-93cf-f32f0615cf24",
   "metadata": {},
   "outputs": [
    {
     "data": {
      "text/plain": [
       "'la fecha de hoy es 01/08/2024'"
      ]
     },
     "execution_count": 25,
     "metadata": {},
     "output_type": "execute_result"
    }
   ],
   "source": [
    "f\"la fecha de hoy es {dia:02d}/{mes:02d}/{año}\""
   ]
  },
  {
   "cell_type": "code",
   "execution_count": 26,
   "id": "f0ecd3f8-0517-4203-82d8-51a2ff87ba4e",
   "metadata": {},
   "outputs": [
    {
     "data": {
      "text/plain": [
       "'la fecha de hoy es 01/08/24'"
      ]
     },
     "execution_count": 26,
     "metadata": {},
     "output_type": "execute_result"
    }
   ],
   "source": [
    "f\"la fecha de hoy es {dia:02d}/{mes:02d}/{str(año)[-2:]}\""
   ]
  },
  {
   "cell_type": "markdown",
   "id": "926dda11-5a92-411d-ba7f-deed45636fb1",
   "metadata": {},
   "source": [
    "# E2 dada una lista de productos con sus precios, utiliza una f-string para imprimir cada prodducto con su precio, formateado a dos decimales"
   ]
  },
  {
   "cell_type": "code",
   "execution_count": 27,
   "id": "02347eb4-685e-472f-9c77-92b25cbeb024",
   "metadata": {},
   "outputs": [
    {
     "name": "stdout",
     "output_type": "stream",
     "text": [
      "Manzanas 1.50\n",
      "Naranjas 2.75\n",
      "Platanos 0.99\n"
     ]
    }
   ],
   "source": [
    "productos = [(\"Manzanas\",1.5),(\"Naranjas\",2.75),(\"Platanos\",0.99)]\n",
    "\n",
    "for producto in productos:\n",
    "    print(f\"{producto[0]} {producto[1]:.2f}\")"
   ]
  },
  {
   "cell_type": "markdown",
   "id": "43222e19-d6a7-4eea-a2c2-ba037166f1e8",
   "metadata": {},
   "source": [
    "for elemento in productos:\n",
    "    print(elemento[0], elemento[1])"
   ]
  },
  {
   "cell_type": "code",
   "execution_count": 28,
   "id": "c1020275-6c26-4fa6-a2e8-9099b70b0efa",
   "metadata": {},
   "outputs": [
    {
     "name": "stdout",
     "output_type": "stream",
     "text": [
      "Manzanas 1.5\n",
      "Naranjas 2.75\n",
      "Platanos 0.99\n"
     ]
    }
   ],
   "source": [
    "for producto, precio in productos:\n",
    "    print(producto, precio)"
   ]
  },
  {
   "cell_type": "code",
   "execution_count": 29,
   "id": "3b7090d8-15b7-4f6a-ae1f-d329122b1a45",
   "metadata": {},
   "outputs": [
    {
     "name": "stdout",
     "output_type": "stream",
     "text": [
      "Manzanas: 1.50\n",
      "Naranjas: 2.75\n",
      "Platanos: 0.99\n"
     ]
    }
   ],
   "source": [
    "for producto, precio in productos:\n",
    "    print(f\"{producto}: {precio:.2f}\")"
   ]
  },
  {
   "cell_type": "markdown",
   "id": "323f4c4f-bc31-40a8-a6e5-e00f1ea78699",
   "metadata": {},
   "source": [
    "# E3 dada una lista"
   ]
  },
  {
   "cell_type": "code",
   "execution_count": 30,
   "id": "46ef2e6c-048f-44a9-b0d8-7c557dbcbfbd",
   "metadata": {},
   "outputs": [],
   "source": [
    "dias = [\"lunes\", \"martes\",\"miercoles\"]\n",
    "temperatura = {\n",
    "    \"maximas\": [30, 28, 27],\n",
    "    \"minimas\": [20, 18, 17]\n",
    "}\n",
    "\n",
    "#resultados esperados\n",
    "#lunes: temperatura promedio: 25.0°C\n"
   ]
  },
  {
   "cell_type": "code",
   "execution_count": 31,
   "id": "a385fae1-070f-4c7a-8dab-05a3dcce511a",
   "metadata": {},
   "outputs": [
    {
     "data": {
      "text/plain": [
       "['lunes: temperatura promedio: 25.0 °C',\n",
       " 'martes: temperatura promedio: 23.0 °C',\n",
       " 'miercoles: temperatura promedio: 22.0 °C']"
      ]
     },
     "execution_count": 31,
     "metadata": {},
     "output_type": "execute_result"
    }
   ],
   "source": [
    "T_prom = []\n",
    "\n",
    "for dia in range(len(dias)):\n",
    "    t_prom = (temperatura[\"maximas\"][dia]+temperatura[\"minimas\"][dia])/2\n",
    "    T_prom.append(f\"{dias[dia]}: temperatura promedio: {t_prom} °C\")\n",
    "\n",
    "T_prom"
   ]
  },
  {
   "cell_type": "markdown",
   "id": "704d8437-09c6-41cb-bca4-f468dcc14ae1",
   "metadata": {},
   "source": [
    "# intro funciones"
   ]
  },
  {
   "cell_type": "code",
   "execution_count": 32,
   "id": "2dba2c09-fde2-49c6-ba42-ad3a05a4c25b",
   "metadata": {},
   "outputs": [],
   "source": [
    "num_1 = 10\n",
    "num_2 = 25"
   ]
  },
  {
   "cell_type": "code",
   "execution_count": 33,
   "id": "f54b1f4e-d3f1-4cd2-ac67-5c1aea5d0656",
   "metadata": {},
   "outputs": [
    {
     "data": {
      "text/plain": [
       "17.5"
      ]
     },
     "execution_count": 33,
     "metadata": {},
     "output_type": "execute_result"
    }
   ],
   "source": [
    "promedio = (num_1+num_2)/2\n",
    "promedio"
   ]
  },
  {
   "cell_type": "code",
   "execution_count": 34,
   "id": "e9fdaec2-9c59-40c1-9f9f-38311f59dc4b",
   "metadata": {},
   "outputs": [],
   "source": [
    "def promedio(num_1, num_2):\n",
    "    prom = (num_1 + num_2)/2\n",
    "    print(prom)"
   ]
  },
  {
   "cell_type": "code",
   "execution_count": 35,
   "id": "1f31e19c-adda-4b22-98eb-2004a2c7af89",
   "metadata": {},
   "outputs": [
    {
     "name": "stdout",
     "output_type": "stream",
     "text": [
      "17.5\n"
     ]
    }
   ],
   "source": [
    "prom_ingreso = promedio(10,25)"
   ]
  },
  {
   "cell_type": "code",
   "execution_count": 36,
   "id": "5b43de90-a7ca-4aa1-9014-bc3541b178c8",
   "metadata": {},
   "outputs": [],
   "source": [
    "def promedio(num_1, num_2):\n",
    "    prom = (num_1+num_2)/2\n",
    "    return(prom)"
   ]
  },
  {
   "cell_type": "code",
   "execution_count": 37,
   "id": "72150051-b2e3-4dc9-b601-d3a1943675c3",
   "metadata": {},
   "outputs": [],
   "source": [
    "prom_retornado = promedio(10,25)"
   ]
  },
  {
   "cell_type": "code",
   "execution_count": 45,
   "id": "526e57a5-ea28-4d6c-84b3-4443c6f8e8c9",
   "metadata": {
    "scrolled": true
   },
   "outputs": [
    {
     "data": {
      "text/plain": [
       "35.0"
      ]
     },
     "execution_count": 45,
     "metadata": {},
     "output_type": "execute_result"
    }
   ],
   "source": [
    "2*promedio(10,25)"
   ]
  },
  {
   "cell_type": "code",
   "execution_count": 39,
   "id": "277ef55e-f71e-4a7d-b83c-a8bd9cd8f9be",
   "metadata": {},
   "outputs": [],
   "source": [
    "#---------------------------"
   ]
  },
  {
   "cell_type": "markdown",
   "id": "e9d1455f-cac8-4d04-bd8f-5c90e652b0f5",
   "metadata": {},
   "source": [
    "# Escribe una funcion para calcular la energia generada por un panel solar, dado su area, la irradiancia solar "
   ]
  },
  {
   "attachments": {
    "f29c3e77-f003-4b0b-87f8-c5adb65c8f14.png": {
     "image/png": "[encoded data removed]"
    }
   },
   "cell_type": "markdown",
   "id": "f927b293-2d1e-4d96-8071-2cca3370f0d2",
   "metadata": {},
   "source": [
    "![image.png](attachment:f29c3e77-f003-4b0b-87f8-c5adb65c8f14.png)"
   ]
  },
  {
   "cell_type": "code",
   "execution_count": 41,
   "id": "90490bcd-699d-4bf4-ae27-4e9fb3df11f9",
   "metadata": {},
   "outputs": [],
   "source": [
    "def calcular_potencia(irradiacia, area, eficiencia):\n",
    "    pot = irradiacia*area*eficiencia\n",
    "    return pot"
   ]
  },
  {
   "cell_type": "code",
   "execution_count": 42,
   "id": "e6d4726c-2276-42d7-a787-2ca0a8b5da16",
   "metadata": {},
   "outputs": [
    {
     "data": {
      "text/plain": [
       "144.0"
      ]
     },
     "execution_count": 42,
     "metadata": {},
     "output_type": "execute_result"
    }
   ],
   "source": [
    "calcular_potencia(800, 1, 0.18)"
   ]
  },
  {
   "cell_type": "markdown",
   "id": "60ed1490-2f75-40ba-8208-d4c5f4d2367f",
   "metadata": {},
   "source": [
    "# problema de cfe\n",
    "\n",
    "La declaración raise ValueError en Python se utiliza para generar (o \"lanzar\") una excepción cuando se detecta un error en tu programa. Específicamente, ValueError es un tipo de excepción que indica que una función ha recibido un argumento con el tipo de dato correcto pero con un valor inadecuado o inapropiado.\n",
    "\n",
    "La función **round()** en Python se utiliza para redondear un número a un número específico de decimales.\n",
    "round(numero, ndigits)\n",
    "\n",
    "Los operadores += y -= son operadores de asignación compuesta en Python que permiten actualizar el valor de una variable de forma más concisa. Suma y asigna): Explicación: Suma el valor a la derecha del operador al valor actual de la variable y luego asigna el resultado de nuevo a la variable."
   ]
  },
  {
   "cell_type": "code",
   "execution_count": 50,
   "id": "c4b3b8c5-4e53-4c26-a3f0-dbf472a083fa",
   "metadata": {},
   "outputs": [
    {
     "name": "stdout",
     "output_type": "stream",
     "text": [
      "285.0\n",
      "1715.65\n"
     ]
    }
   ],
   "source": [
    "def costo(consumo):  \n",
    "    if consumo < 0:  \n",
    "        raise ValueError(\"El consumo no puede ser negativo.\")  \n",
    "    \n",
    "    total_costo = 0.0  \n",
    "\n",
    "    # Primer tramo: 0 a 150 kWh  \n",
    "    if consumo > 150:  \n",
    "        total_costo += 150 * 0.86  \n",
    "        consumo -= 150  \n",
    "    else:  \n",
    "        total_costo += consumo * 0.86  \n",
    "        return round(total_costo, 2)  \n",
    "    \n",
    "    # Segundo tramo: 151 a 350 kWh  \n",
    "    if consumo > 200:  \n",
    "        total_costo += 200 * 1.04  \n",
    "        consumo -= 200  \n",
    "    else:  \n",
    "        total_costo += consumo * 1.04  \n",
    "        return round(total_costo, 2)  \n",
    "\n",
    "    # Tercer tramo: más de 350 kWh  \n",
    "    total_costo += consumo * 3.03  \n",
    "\n",
    "    return round(total_costo, 2)  \n",
    "\n",
    "# Ejemplo de uso  \n",
    "print(costo(300))  # Debería mostrar el costo para 300 kWh  \n",
    "print(costo(805))  # Debería mostrar el costo para 805 kWh"
   ]
  },
  {
   "cell_type": "code",
   "execution_count": 52,
   "id": "1e420872-b652-4df6-93bc-e74e18632408",
   "metadata": {},
   "outputs": [
    {
     "name": "stdout",
     "output_type": "stream",
     "text": [
      "86.991\n"
     ]
    }
   ],
   "source": [
    "print(costo(101.1523))  "
   ]
  }
 ],
 "metadata": {
  "kernelspec": {
   "display_name": "Python 3 (ipykernel)",
   "language": "python",
   "name": "python3"
  },
  "language_info": {
   "codemirror_mode": {
    "name": "ipython",
    "version": 3
   },
   "file_extension": ".py",
   "mimetype": "text/x-python",
   "name": "python",
   "nbconvert_exporter": "python",
   "pygments_lexer": "ipython3",
   "version": "3.12.5"
  }
 },
 "nbformat": 4,
 "nbformat_minor": 5
}
