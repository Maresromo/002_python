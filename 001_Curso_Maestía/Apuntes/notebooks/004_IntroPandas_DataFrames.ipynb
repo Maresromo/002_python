{
 "cells": [
  {
   "cell_type": "markdown",
   "id": "bbfac5cb-70e6-4bf4-948a-c660e23e6c96",
   "metadata": {},
   "source": [
    "**Pandas se dedican a Data frames y series**:Data frame es un arreglo de datos bidimencional; esta formado por series las cuales son arreglos unidimensionales.\n",
    "\n",
    "Pandas puede leer muchos formatos de datos como csv,xls,xlsx,sql,gdf,.."
   ]
  },
  {
   "cell_type": "code",
   "execution_count": 1,
   "id": "d6edd193-2d24-43ef-b20c-71c6e3a3dc32",
   "metadata": {},
   "outputs": [],
   "source": [
    "import pandas as pd"
   ]
  },
  {
   "cell_type": "code",
   "execution_count": 2,
   "id": "9f372c7e-38f0-4c54-8ee9-fda03cb87227",
   "metadata": {},
   "outputs": [
    {
     "data": {
      "text/plain": [
       "'2.2.2'"
      ]
     },
     "execution_count": 2,
     "metadata": {},
     "output_type": "execute_result"
    }
   ],
   "source": [
    "pd.__version__"
   ]
  },
  {
   "cell_type": "code",
   "execution_count": 3,
   "id": "db53004c-5904-4a4e-a461-2478f6c09bfc",
   "metadata": {},
   "outputs": [
    {
     "data": {
      "text/html": [
       "<div>\n",
       "<style scoped>\n",
       "    .dataframe tbody tr th:only-of-type {\n",
       "        vertical-align: middle;\n",
       "    }\n",
       "\n",
       "    .dataframe tbody tr th {\n",
       "        vertical-align: top;\n",
       "    }\n",
       "\n",
       "    .dataframe thead th {\n",
       "        text-align: right;\n",
       "    }\n",
       "</style>\n",
       "<table border=\"1\" class=\"dataframe\">\n",
       "  <thead>\n",
       "    <tr style=\"text-align: right;\">\n",
       "      <th></th>\n",
       "      <th>Colores</th>\n",
       "      <th>Animales</th>\n",
       "    </tr>\n",
       "  </thead>\n",
       "  <tbody>\n",
       "    <tr>\n",
       "      <th>0</th>\n",
       "      <td>morado</td>\n",
       "      <td>morado</td>\n",
       "    </tr>\n",
       "    <tr>\n",
       "      <th>1</th>\n",
       "      <td>verde</td>\n",
       "      <td>verde</td>\n",
       "    </tr>\n",
       "    <tr>\n",
       "      <th>2</th>\n",
       "      <td>amarilo</td>\n",
       "      <td>amarilo</td>\n",
       "    </tr>\n",
       "    <tr>\n",
       "      <th>3</th>\n",
       "      <td>lila</td>\n",
       "      <td>lila</td>\n",
       "    </tr>\n",
       "    <tr>\n",
       "      <th>4</th>\n",
       "      <td>azul</td>\n",
       "      <td>azul</td>\n",
       "    </tr>\n",
       "    <tr>\n",
       "      <th>5</th>\n",
       "      <td>rojo</td>\n",
       "      <td>rojo</td>\n",
       "    </tr>\n",
       "    <tr>\n",
       "      <th>6</th>\n",
       "      <td>cian</td>\n",
       "      <td>cian</td>\n",
       "    </tr>\n",
       "    <tr>\n",
       "      <th>7</th>\n",
       "      <td>marron</td>\n",
       "      <td>marron</td>\n",
       "    </tr>\n",
       "    <tr>\n",
       "      <th>8</th>\n",
       "      <td>naranja</td>\n",
       "      <td>naranja</td>\n",
       "    </tr>\n",
       "    <tr>\n",
       "      <th>9</th>\n",
       "      <td>negro</td>\n",
       "      <td>negro</td>\n",
       "    </tr>\n",
       "    <tr>\n",
       "      <th>10</th>\n",
       "      <td>dorado</td>\n",
       "      <td>dorado</td>\n",
       "    </tr>\n",
       "    <tr>\n",
       "      <th>11</th>\n",
       "      <td>plateado</td>\n",
       "      <td>plateado</td>\n",
       "    </tr>\n",
       "    <tr>\n",
       "      <th>12</th>\n",
       "      <td>negro_claro</td>\n",
       "      <td>negro_claro</td>\n",
       "    </tr>\n",
       "    <tr>\n",
       "      <th>13</th>\n",
       "      <td>blanco</td>\n",
       "      <td>blanco</td>\n",
       "    </tr>\n",
       "    <tr>\n",
       "      <th>14</th>\n",
       "      <td>magenta</td>\n",
       "      <td>magenta</td>\n",
       "    </tr>\n",
       "    <tr>\n",
       "      <th>15</th>\n",
       "      <td>orange</td>\n",
       "      <td>orange</td>\n",
       "    </tr>\n",
       "    <tr>\n",
       "      <th>16</th>\n",
       "      <td>bermellón</td>\n",
       "      <td>bermellón</td>\n",
       "    </tr>\n",
       "  </tbody>\n",
       "</table>\n",
       "</div>"
      ],
      "text/plain": [
       "        Colores     Animales\n",
       "0        morado       morado\n",
       "1         verde        verde\n",
       "2       amarilo      amarilo\n",
       "3          lila         lila\n",
       "4          azul         azul\n",
       "5          rojo         rojo\n",
       "6          cian         cian\n",
       "7        marron       marron\n",
       "8       naranja      naranja\n",
       "9         negro        negro\n",
       "10       dorado       dorado\n",
       "11     plateado     plateado\n",
       "12  negro_claro  negro_claro\n",
       "13       blanco       blanco\n",
       "14      magenta      magenta\n",
       "15       orange       orange\n",
       "16    bermellón    bermellón"
      ]
     },
     "execution_count": 3,
     "metadata": {},
     "output_type": "execute_result"
    }
   ],
   "source": [
    "pd.DataFrame(\n",
    "    {\"Colores\":[\"morado\", \n",
    "                   \"verde\",\n",
    "                   \"amarilo\",\n",
    "                   \"lila\",\"azul\",\n",
    "                   \"rojo\",\n",
    "                   \"cian\",\n",
    "                   \"marron\",\n",
    "                   \"naranja\",\n",
    "                   \"negro\",\n",
    "                   \"dorado\",\n",
    "                   \"plateado\",\n",
    "                   \"negro_claro\",\n",
    "                   \"blanco\",\n",
    "                   \"magenta\",\n",
    "                   \"orange\",\n",
    "                   \"bermellón\"],\n",
    "     \"Animales\":[\"morado\", \n",
    "                   \"verde\",\n",
    "                   \"amarilo\",\n",
    "                   \"lila\",\"azul\",\n",
    "                   \"rojo\",\n",
    "                   \"cian\",\n",
    "                   \"marron\",\n",
    "                   \"naranja\",\n",
    "                   \"negro\",\n",
    "                   \"dorado\",\n",
    "                   \"plateado\",\n",
    "                   \"negro_claro\",\n",
    "                   \"blanco\",\n",
    "                   \"magenta\",\n",
    "                   \"orange\",\n",
    "                   \"bermellón\"],\n",
    "#     \"uno\":[1],\n",
    "    }\n",
    ")\n",
    "#Asi se pone un dataframe, la priemr columna es le indice, si no se modifica pone por default el numero"
   ]
  },
  {
   "cell_type": "code",
   "execution_count": 9,
   "id": "4eb3ee1f-4156-4c87-bd8e-b66dc13b64fc",
   "metadata": {},
   "outputs": [],
   "source": [
    "xy = pd.DataFrame(\n",
    "    {\n",
    "        \"x\":[1,2,3,4,5,6,7,8,9],\n",
    "        \"y\":[9,7,8,5,3,7,6,2,7.0],\n",
    "        \"z\":[7,8,5,3,7,6,2,\"ND\",7.0]\n",
    "    }\n",
    ")"
   ]
  },
  {
   "cell_type": "code",
   "execution_count": 10,
   "id": "389d4d62-fafd-4a62-90ef-4e381574c91c",
   "metadata": {},
   "outputs": [
    {
     "data": {
      "text/plain": [
       "pandas.core.frame.DataFrame"
      ]
     },
     "execution_count": 10,
     "metadata": {},
     "output_type": "execute_result"
    }
   ],
   "source": [
    "type(xy)"
   ]
  },
  {
   "cell_type": "code",
   "execution_count": 11,
   "id": "7bc69134-c2f1-4a36-b568-b99a9ca9e9cd",
   "metadata": {
    "scrolled": true
   },
   "outputs": [
    {
     "name": "stdout",
     "output_type": "stream",
     "text": [
      "<class 'pandas.core.frame.DataFrame'>\n",
      "RangeIndex: 9 entries, 0 to 8\n",
      "Data columns (total 3 columns):\n",
      " #   Column  Non-Null Count  Dtype  \n",
      "---  ------  --------------  -----  \n",
      " 0   x       9 non-null      int64  \n",
      " 1   y       9 non-null      float64\n",
      " 2   z       9 non-null      object \n",
      "dtypes: float64(1), int64(1), object(1)\n",
      "memory usage: 348.0+ bytes\n"
     ]
    }
   ],
   "source": [
    "xy.info() #Si un solo valor es flotante, cambia el tipo de toda su columna, lo mismo pasa si uno es string o complejo, etc"
   ]
  },
  {
   "cell_type": "code",
   "execution_count": 12,
   "id": "0e52a9a5-c19b-400d-94b5-ff28c445b230",
   "metadata": {},
   "outputs": [
    {
     "data": {
      "text/html": [
       "<div>\n",
       "<style scoped>\n",
       "    .dataframe tbody tr th:only-of-type {\n",
       "        vertical-align: middle;\n",
       "    }\n",
       "\n",
       "    .dataframe tbody tr th {\n",
       "        vertical-align: top;\n",
       "    }\n",
       "\n",
       "    .dataframe thead th {\n",
       "        text-align: right;\n",
       "    }\n",
       "</style>\n",
       "<table border=\"1\" class=\"dataframe\">\n",
       "  <thead>\n",
       "    <tr style=\"text-align: right;\">\n",
       "      <th></th>\n",
       "      <th>x</th>\n",
       "      <th>y</th>\n",
       "    </tr>\n",
       "  </thead>\n",
       "  <tbody>\n",
       "    <tr>\n",
       "      <th>count</th>\n",
       "      <td>9.000000</td>\n",
       "      <td>9.000000</td>\n",
       "    </tr>\n",
       "    <tr>\n",
       "      <th>mean</th>\n",
       "      <td>5.000000</td>\n",
       "      <td>6.000000</td>\n",
       "    </tr>\n",
       "    <tr>\n",
       "      <th>std</th>\n",
       "      <td>2.738613</td>\n",
       "      <td>2.291288</td>\n",
       "    </tr>\n",
       "    <tr>\n",
       "      <th>min</th>\n",
       "      <td>1.000000</td>\n",
       "      <td>2.000000</td>\n",
       "    </tr>\n",
       "    <tr>\n",
       "      <th>25%</th>\n",
       "      <td>3.000000</td>\n",
       "      <td>5.000000</td>\n",
       "    </tr>\n",
       "    <tr>\n",
       "      <th>50%</th>\n",
       "      <td>5.000000</td>\n",
       "      <td>7.000000</td>\n",
       "    </tr>\n",
       "    <tr>\n",
       "      <th>75%</th>\n",
       "      <td>7.000000</td>\n",
       "      <td>7.000000</td>\n",
       "    </tr>\n",
       "    <tr>\n",
       "      <th>max</th>\n",
       "      <td>9.000000</td>\n",
       "      <td>9.000000</td>\n",
       "    </tr>\n",
       "  </tbody>\n",
       "</table>\n",
       "</div>"
      ],
      "text/plain": [
       "              x         y\n",
       "count  9.000000  9.000000\n",
       "mean   5.000000  6.000000\n",
       "std    2.738613  2.291288\n",
       "min    1.000000  2.000000\n",
       "25%    3.000000  5.000000\n",
       "50%    5.000000  7.000000\n",
       "75%    7.000000  7.000000\n",
       "max    9.000000  9.000000"
      ]
     },
     "execution_count": 12,
     "metadata": {},
     "output_type": "execute_result"
    }
   ],
   "source": [
    "xy.describe()  #Si en un dato tenemos texto, el describe no nos describira esa columna"
   ]
  },
  {
   "cell_type": "code",
   "execution_count": 14,
   "id": "59e558d9-7fce-49f6-88a0-7ab9b074d0c1",
   "metadata": {
    "scrolled": true
   },
   "outputs": [
    {
     "data": {
      "text/plain": [
       "x      int64\n",
       "y    float64\n",
       "z     object\n",
       "dtype: object"
      ]
     },
     "execution_count": 14,
     "metadata": {},
     "output_type": "execute_result"
    }
   ],
   "source": [
    "xy.dtypes"
   ]
  },
  {
   "cell_type": "code",
   "execution_count": 15,
   "id": "e7356dcb-be02-4047-aeed-25623b7215ab",
   "metadata": {},
   "outputs": [
    {
     "data": {
      "text/plain": [
       "Index(['x', 'y', 'z'], dtype='object')"
      ]
     },
     "execution_count": 15,
     "metadata": {},
     "output_type": "execute_result"
    }
   ],
   "source": [
    "xy.columns"
   ]
  },
  {
   "cell_type": "code",
   "execution_count": 17,
   "id": "37541973-f6e7-439c-b1f1-7e4629be91d7",
   "metadata": {
    "scrolled": true
   },
   "outputs": [
    {
     "data": {
      "text/plain": [
       "RangeIndex(start=0, stop=9, step=1)"
      ]
     },
     "execution_count": 17,
     "metadata": {},
     "output_type": "execute_result"
    }
   ],
   "source": [
    "xy.index"
   ]
  },
  {
   "attachments": {
    "6f3b0ba8-1c48-4529-bcd9-2e5487195655.png": {
     "image/png": "[encoded data removed]"
    }
   },
   "cell_type": "markdown",
   "id": "48537fe0-d878-48f5-81d3-e3d352e22742",
   "metadata": {},
   "source": [
    "![image.png](attachment:6f3b0ba8-1c48-4529-bcd9-2e5487195655.png)\n",
    "\n",
    "Aca lo podemos exportar a algun formato, para ver los formatos es con TAB \n",
    "Y con SHIFT + Tab podemos ver la documentacion"
   ]
  },
  {
   "cell_type": "code",
   "execution_count": 20,
   "id": "b590c41c-32e8-4778-8cea-125855f4a6f3",
   "metadata": {},
   "outputs": [
    {
     "name": "stdout",
     "output_type": "stream",
     "text": [
      "\\begin{tabular}{lrrl}\n",
      "\\toprule\n",
      " & x & y & z \\\\\n",
      "\\midrule\n",
      "0 & 1 & 9.000000 & 7 \\\\\n",
      "1 & 2 & 7.000000 & 8 \\\\\n",
      "2 & 3 & 8.000000 & 5 \\\\\n",
      "3 & 4 & 5.000000 & 3 \\\\\n",
      "4 & 5 & 3.000000 & 7 \\\\\n",
      "5 & 6 & 7.000000 & 6 \\\\\n",
      "6 & 7 & 6.000000 & 2 \\\\\n",
      "7 & 8 & 2.000000 & ND \\\\\n",
      "8 & 9 & 7.000000 & 7.000000 \\\\\n",
      "\\bottomrule\n",
      "\\end{tabular}\n",
      "\n"
     ]
    }
   ],
   "source": [
    "print(xy.to_latex())"
   ]
  },
  {
   "cell_type": "code",
   "execution_count": 30,
   "id": "d8567529-5540-486e-8b38-48a95a5d5358",
   "metadata": {},
   "outputs": [],
   "source": [
    "xy.to_latex(\"Resultados/tabla_xy.tex\")"
   ]
  },
  {
   "cell_type": "code",
   "execution_count": null,
   "id": "c9e5b886-7ee3-40d4-874b-145130504a97",
   "metadata": {},
   "outputs": [],
   "source": []
  },
  {
   "cell_type": "code",
   "execution_count": null,
   "id": "cc381fb7-c673-4995-99ee-8f19a16d40ca",
   "metadata": {},
   "outputs": [],
   "source": []
  }
 ],
 "metadata": {
  "kernelspec": {
   "display_name": "Python 3 (ipykernel)",
   "language": "python",
   "name": "python3"
  },
  "language_info": {
   "codemirror_mode": {
    "name": "ipython",
    "version": 3
   },
   "file_extension": ".py",
   "mimetype": "text/x-python",
   "name": "python",
   "nbconvert_exporter": "python",
   "pygments_lexer": "ipython3",
   "version": "3.12.5"
  }
 },
 "nbformat": 4,
 "nbformat_minor": 5
}
