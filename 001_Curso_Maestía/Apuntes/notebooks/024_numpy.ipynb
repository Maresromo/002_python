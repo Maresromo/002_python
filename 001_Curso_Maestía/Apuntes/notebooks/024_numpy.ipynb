{
 "cells": [
  {
   "cell_type": "code",
   "execution_count": 1,
   "id": "9b780c17-bdbd-49d9-89b0-56aef1030484",
   "metadata": {},
   "outputs": [],
   "source": [
    "import numpy as np"
   ]
  },
  {
   "cell_type": "markdown",
   "id": "13f0433c-bca1-42c8-8569-29a2200f77bd",
   "metadata": {},
   "source": [
    "#  Numpy\n",
    "Es la paqueteria fundamental para el computo cientifico en python. Se especializa en arreglos de n-dimensiones. Es muy util para algebra lineal"
   ]
  },
  {
   "cell_type": "markdown",
   "id": "91600c9c-6bd7-4831-8538-2df2b7bcd012",
   "metadata": {},
   "source": [
    "## 1 array\n",
    "**El arreglo tiene que ser cuadrado o rectangular**\n",
    "\n",
    "Atributos basicos:\n",
    "- shape: nos da una tupla que contiene el numero de elementos para cada dimension (axis)\n",
    "- size: numero total de elementos en el array\n",
    "- ndim: numero de dimensiones o ejes (axes)"
   ]
  },
  {
   "cell_type": "code",
   "execution_count": 2,
   "id": "0670abed-1f4a-42bc-a455-3199633de104",
   "metadata": {},
   "outputs": [
    {
     "data": {
      "text/plain": [
       "array([1, 2, 3, 4, 5])"
      ]
     },
     "execution_count": 2,
     "metadata": {},
     "output_type": "execute_result"
    }
   ],
   "source": [
    "lista = [1,2,3,4,5]\n",
    "arr = np.array(lista)\n",
    "arr"
   ]
  },
  {
   "cell_type": "code",
   "execution_count": 3,
   "id": "b9c336fe-3e5e-4ed9-b702-b75c5774c898",
   "metadata": {},
   "outputs": [
    {
     "data": {
      "text/plain": [
       "array([[1, 2, 3],\n",
       "       [4, 5, 6]])"
      ]
     },
     "execution_count": 3,
     "metadata": {},
     "output_type": "execute_result"
    }
   ],
   "source": [
    "arr = np.array([[1,2,3],[4,5,6]])\n",
    "arr"
   ]
  },
  {
   "cell_type": "code",
   "execution_count": 4,
   "id": "7261b463-d620-4ced-8daf-88146fad94a3",
   "metadata": {},
   "outputs": [
    {
     "data": {
      "text/plain": [
       "(2, 3)"
      ]
     },
     "execution_count": 4,
     "metadata": {},
     "output_type": "execute_result"
    }
   ],
   "source": [
    "arr.shape  #En la primera dimension tenemos dos elementos (listas) y en la segunda dimension tenemos 3 elementos (numeros)"
   ]
  },
  {
   "cell_type": "code",
   "execution_count": 5,
   "id": "4d683ad4-2417-4e04-8b2b-3ee8f5fffc84",
   "metadata": {},
   "outputs": [
    {
     "data": {
      "text/plain": [
       "6"
      ]
     },
     "execution_count": 5,
     "metadata": {},
     "output_type": "execute_result"
    }
   ],
   "source": [
    "arr.size  #El num total de elemnetos"
   ]
  },
  {
   "cell_type": "code",
   "execution_count": 6,
   "id": "b52c71c7-dbbc-4c61-939a-d879cc3fc013",
   "metadata": {},
   "outputs": [
    {
     "data": {
      "text/plain": [
       "2"
      ]
     },
     "execution_count": 6,
     "metadata": {},
     "output_type": "execute_result"
    }
   ],
   "source": [
    "arr.ndim       #Numero de dimensiones que tenemos"
   ]
  },
  {
   "cell_type": "code",
   "execution_count": 7,
   "id": "26aa191c-2268-4294-beb6-e7c786c4ffb1",
   "metadata": {},
   "outputs": [
    {
     "data": {
      "text/plain": [
       "array([[ 1.,  2.,  3.],\n",
       "       [ 4.,  5., nan],\n",
       "       [ 7.,  8.,  9.]])"
      ]
     },
     "execution_count": 7,
     "metadata": {},
     "output_type": "execute_result"
    }
   ],
   "source": [
    "arr = np.array([[1,2,3],\n",
    "                [4,5,np.nan],\n",
    "               [ 7,8,9]])  #Al agregar el NaN podemos formar el arreglo a pesar de no tener la matriz de forma cuadrada\n",
    "arr"
   ]
  },
  {
   "cell_type": "markdown",
   "id": "fb6ed310-b982-4681-b9c2-f940ec3d49de",
   "metadata": {},
   "source": [
    "## 2. Formas de crear arrays"
   ]
  },
  {
   "cell_type": "code",
   "execution_count": 8,
   "id": "d13fa27d-9341-4dc1-bd72-c5265fb4df66",
   "metadata": {},
   "outputs": [
    {
     "data": {
      "text/plain": [
       "array([[0., 0., 0., 0.],\n",
       "       [0., 0., 0., 0.],\n",
       "       [0., 0., 0., 0.],\n",
       "       [0., 0., 0., 0.],\n",
       "       [0., 0., 0., 0.]])"
      ]
     },
     "execution_count": 8,
     "metadata": {},
     "output_type": "execute_result"
    }
   ],
   "source": [
    "np.zeros((5,4))  #Crea una matriz de ceros, hay que darle la shape (y,x)"
   ]
  },
  {
   "cell_type": "code",
   "execution_count": 9,
   "id": "565c611e-8e9f-451a-84f1-82db4598d272",
   "metadata": {},
   "outputs": [
    {
     "data": {
      "text/plain": [
       "array([[[0., 0., 0., 0.],\n",
       "        [0., 0., 0., 0.],\n",
       "        [0., 0., 0., 0.]],\n",
       "\n",
       "       [[0., 0., 0., 0.],\n",
       "        [0., 0., 0., 0.],\n",
       "        [0., 0., 0., 0.]]])"
      ]
     },
     "execution_count": 9,
     "metadata": {},
     "output_type": "execute_result"
    }
   ],
   "source": [
    "np.zeros((2,3,4))  #Crea una matriz de ceros, hay que darle la shape (y,x,z) si la queremos de mas dimensiones"
   ]
  },
  {
   "cell_type": "code",
   "execution_count": 10,
   "id": "aa8f76e7-32b4-46c7-8c4f-610bf60d4b28",
   "metadata": {},
   "outputs": [
    {
     "data": {
      "text/plain": [
       "array([[1., 1., 1., 1.],\n",
       "       [1., 1., 1., 1.],\n",
       "       [1., 1., 1., 1.]])"
      ]
     },
     "execution_count": 10,
     "metadata": {},
     "output_type": "execute_result"
    }
   ],
   "source": [
    "np.ones((3,4))"
   ]
  },
  {
   "cell_type": "code",
   "execution_count": 11,
   "id": "3394b150-549b-47f2-b9a4-c452e8d6cd4e",
   "metadata": {
    "scrolled": true
   },
   "outputs": [
    {
     "data": {
      "text/plain": [
       "array([[1, 0, 0, 0, 0],\n",
       "       [0, 2, 0, 0, 0],\n",
       "       [0, 0, 3, 0, 0],\n",
       "       [0, 0, 0, 4, 0],\n",
       "       [0, 0, 0, 0, 5]])"
      ]
     },
     "execution_count": 11,
     "metadata": {},
     "output_type": "execute_result"
    }
   ],
   "source": [
    "np.diag([1,2,3,4,5])  #Todo lo que no esta en la diagonal le pone ceros"
   ]
  },
  {
   "cell_type": "markdown",
   "id": "99298095-dbfd-4fd9-a5eb-227644dec2f4",
   "metadata": {},
   "source": [
    "Para crear arreglos con un incremento dado"
   ]
  },
  {
   "cell_type": "code",
   "execution_count": 12,
   "id": "b5b62c08-004e-46a5-97b2-c23191b2c5d5",
   "metadata": {},
   "outputs": [
    {
     "data": {
      "text/plain": [
       "array([3. , 3.5, 4. , 4.5, 5. , 5.5, 6. , 6.5, 7. , 7.5, 8. , 8.5, 9. ,\n",
       "       9.5])"
      ]
     },
     "execution_count": 12,
     "metadata": {},
     "output_type": "execute_result"
    }
   ],
   "source": [
    "np.arange(3,10,0.5)  #Necsitamos indicarle (inicio,final,pasos), el final no es inclusivo"
   ]
  },
  {
   "cell_type": "markdown",
   "id": "3eb27499-3080-4eb7-9fcd-b5dc45985779",
   "metadata": {},
   "source": [
    "Para crear arreglos con un nuemro especifico de elementos utilizamos np.linspace()"
   ]
  },
  {
   "cell_type": "code",
   "execution_count": 13,
   "id": "3d8e1fbe-f28f-49ee-b017-721f5d2064e2",
   "metadata": {},
   "outputs": [
    {
     "data": {
      "text/plain": [
       "array([ 3.        ,  3.36842105,  3.73684211,  4.10526316,  4.47368421,\n",
       "        4.84210526,  5.21052632,  5.57894737,  5.94736842,  6.31578947,\n",
       "        6.68421053,  7.05263158,  7.42105263,  7.78947368,  8.15789474,\n",
       "        8.52631579,  8.89473684,  9.26315789,  9.63157895, 10.        ])"
      ]
     },
     "execution_count": 13,
     "metadata": {},
     "output_type": "execute_result"
    }
   ],
   "source": [
    "np.linspace(3,10,20)  #Afuerzas hay que decirle donde inicia y donde acaba, entre ambos elementos hay 50 cosas, el final es inclusivo, \n",
    "                   # el tercer numero nos indica cuantos elementos le vamos a poner enmedio"
   ]
  },
  {
   "cell_type": "code",
   "execution_count": 14,
   "id": "d963e02e-2dfd-4759-8219-cb6f34a42066",
   "metadata": {},
   "outputs": [
    {
     "data": {
      "text/plain": [
       "50"
      ]
     },
     "execution_count": 14,
     "metadata": {},
     "output_type": "execute_result"
    }
   ],
   "source": [
    "np.linspace(3,10).size "
   ]
  },
  {
   "cell_type": "markdown",
   "id": "b400ca9f-eeb5-4a4b-b22f-cc8cbea8da93",
   "metadata": {},
   "source": [
    "Como crear matrices de diferentes dimensiones"
   ]
  },
  {
   "cell_type": "code",
   "execution_count": 15,
   "id": "b4983590-1ead-44e8-a970-2a69aebb6e10",
   "metadata": {},
   "outputs": [
    {
     "data": {
      "text/plain": [
       "array([ 1,  2,  3,  4,  5,  6,  7,  8,  9, 10, 11, 12, 13, 14, 15, 16, 17,\n",
       "       18, 19, 20])"
      ]
     },
     "execution_count": 15,
     "metadata": {},
     "output_type": "execute_result"
    }
   ],
   "source": [
    "arr = np.arange(1,21)\n",
    "arr"
   ]
  },
  {
   "cell_type": "code",
   "execution_count": 16,
   "id": "d6b0079c-d165-4678-82f2-bf645ca1d8d2",
   "metadata": {},
   "outputs": [
    {
     "data": {
      "text/plain": [
       "array([[ 1,  2,  3,  4,  5],\n",
       "       [ 6,  7,  8,  9, 10],\n",
       "       [11, 12, 13, 14, 15],\n",
       "       [16, 17, 18, 19, 20]])"
      ]
     },
     "execution_count": 16,
     "metadata": {},
     "output_type": "execute_result"
    }
   ],
   "source": [
    "arr.reshape(4,5)  #Con esto redimensionamos los datos "
   ]
  },
  {
   "cell_type": "code",
   "execution_count": 17,
   "id": "2f5421d4-8b90-40b9-ac08-8720cdba9b58",
   "metadata": {},
   "outputs": [
    {
     "data": {
      "text/plain": [
       "array([[ 1,  2,  3,  4,  5],\n",
       "       [ 6,  7,  8,  9, 10],\n",
       "       [11, 12, 13, 14, 15],\n",
       "       [16, 17, 18, 19, 20]])"
      ]
     },
     "execution_count": 17,
     "metadata": {},
     "output_type": "execute_result"
    }
   ],
   "source": [
    "arr = np.arange(1,21).reshape(4,5) \n",
    "arr"
   ]
  },
  {
   "cell_type": "code",
   "execution_count": 18,
   "id": "43d5835b-73df-4e4e-be43-ca0c595d44bc",
   "metadata": {},
   "outputs": [
    {
     "data": {
      "text/plain": [
       "np.int64(12)"
      ]
     },
     "execution_count": 18,
     "metadata": {},
     "output_type": "execute_result"
    }
   ],
   "source": [
    "arr[2,1]"
   ]
  },
  {
   "cell_type": "markdown",
   "id": "d2dd28a9-ed47-418b-8e5b-21c9c2fef63b",
   "metadata": {},
   "source": [
    "## 3. Indexing y slicing\n",
    "Para acceder a algun elemento del array la nomenclatura es la misma que para las listas\n",
    "\n",
    "[inicio:final:step]"
   ]
  },
  {
   "cell_type": "code",
   "execution_count": 19,
   "id": "e46b8aa2-c79a-43a6-a0b6-7f0d9ee74dd6",
   "metadata": {},
   "outputs": [
    {
     "data": {
      "text/plain": [
       "array([  0,  10,  20,  30,  40,  50,  60,  70,  80,  90, 100])"
      ]
     },
     "execution_count": 19,
     "metadata": {},
     "output_type": "execute_result"
    }
   ],
   "source": [
    "arr_id = np.arange(0,102,10)\n",
    "arr_id"
   ]
  },
  {
   "cell_type": "code",
   "execution_count": 20,
   "id": "ecebc6e3-433c-491b-99af-4dc47ceac895",
   "metadata": {},
   "outputs": [
    {
     "data": {
      "text/plain": [
       "np.int64(100)"
      ]
     },
     "execution_count": 20,
     "metadata": {},
     "output_type": "execute_result"
    }
   ],
   "source": [
    "arr_id[-1]  #Para acceder a algun elemento del array la nomenclatura es la misma que para las listas"
   ]
  },
  {
   "cell_type": "code",
   "execution_count": 21,
   "id": "eeff1111-b56c-494e-80da-cd94b6c32330",
   "metadata": {},
   "outputs": [
    {
     "data": {
      "text/plain": [
       "array([ 1,  2,  3,  4,  5,  6,  7,  8,  9, 10, 11, 12, 13, 14, 15, 16, 17,\n",
       "       18, 19, 20])"
      ]
     },
     "execution_count": 21,
     "metadata": {},
     "output_type": "execute_result"
    }
   ],
   "source": [
    "arr = np.arange(1,21)\n",
    "arr"
   ]
  },
  {
   "cell_type": "code",
   "execution_count": 22,
   "id": "eaa808a8-342f-478c-b73c-50fca9b78aaa",
   "metadata": {},
   "outputs": [
    {
     "data": {
      "text/plain": [
       "array([3, 4, 5])"
      ]
     },
     "execution_count": 22,
     "metadata": {},
     "output_type": "execute_result"
    }
   ],
   "source": [
    "arr[2:5]   "
   ]
  },
  {
   "cell_type": "code",
   "execution_count": 23,
   "id": "7463ae5b-c2ff-45e1-b5a7-660e58dd2c66",
   "metadata": {},
   "outputs": [
    {
     "data": {
      "text/plain": [
       "array([20, 18, 16, 14, 12, 10,  8,  6,  4,  2])"
      ]
     },
     "execution_count": 23,
     "metadata": {},
     "output_type": "execute_result"
    }
   ],
   "source": [
    "arr[-1::-2]   #lsita inversa cada 2 elementos, el final no es inclusivo, por eso si ponemos 0 no nos incluira el primer elemento"
   ]
  },
  {
   "cell_type": "code",
   "execution_count": 24,
   "id": "b29383d2-6e26-4d42-9b10-3bde90979daa",
   "metadata": {},
   "outputs": [
    {
     "data": {
      "text/plain": [
       "array([[[ 0,  1],\n",
       "        [ 2,  3],\n",
       "        [ 4,  5]],\n",
       "\n",
       "       [[ 6,  7],\n",
       "        [ 8,  9],\n",
       "        [10, 11]]])"
      ]
     },
     "execution_count": 24,
     "metadata": {},
     "output_type": "execute_result"
    }
   ],
   "source": [
    "arr = np.arange(0,12).reshape(2,-1,2)    #El primero indica el numero de filas, al poner -1 ajusta el numero de columnas si es \n",
    "                                        #que se puede hacer el arreglo\n",
    "arr"
   ]
  },
  {
   "cell_type": "code",
   "execution_count": 25,
   "id": "51748906-60c1-4eea-8974-6954f76d7b3a",
   "metadata": {},
   "outputs": [
    {
     "data": {
      "text/plain": [
       "array([[ 0,  1,  2,  3],\n",
       "       [ 4,  5,  6,  7],\n",
       "       [ 8,  9, 10, 11]])"
      ]
     },
     "execution_count": 25,
     "metadata": {},
     "output_type": "execute_result"
    }
   ],
   "source": [
    "arr2d = np.arange(0,12).reshape(3,-1)    #El primero indica el numero de filas, al poner -1 ajusta el numero de columnas si es \n",
    "                                        #que se puede hacer el arreglo\n",
    "arr2d"
   ]
  },
  {
   "cell_type": "code",
   "execution_count": 26,
   "id": "81f7f091-766e-4b62-b90e-cfa8e8923d8d",
   "metadata": {},
   "outputs": [
    {
     "data": {
      "text/plain": [
       "np.int64(3)"
      ]
     },
     "execution_count": 26,
     "metadata": {},
     "output_type": "execute_result"
    }
   ],
   "source": [
    "arr2d[0,3]"
   ]
  },
  {
   "cell_type": "code",
   "execution_count": 27,
   "id": "dede3720-0a05-47e3-af57-9f2be84a0faf",
   "metadata": {},
   "outputs": [
    {
     "data": {
      "text/plain": [
       "array([4, 5, 6, 7])"
      ]
     },
     "execution_count": 27,
     "metadata": {},
     "output_type": "execute_result"
    }
   ],
   "source": [
    "arr2d[1]"
   ]
  },
  {
   "cell_type": "code",
   "execution_count": 28,
   "id": "1df86f75-8af5-4e59-a8ef-9a3499583e2d",
   "metadata": {},
   "outputs": [
    {
     "data": {
      "text/plain": [
       "array([ 2,  6, 10])"
      ]
     },
     "execution_count": 28,
     "metadata": {},
     "output_type": "execute_result"
    }
   ],
   "source": [
    "arr2d[:,2]  #asi nos puede regresar la tercera columna"
   ]
  },
  {
   "cell_type": "code",
   "execution_count": 29,
   "id": "b0bc079c-cb4a-4fcd-99a8-a50b3a14ed1a",
   "metadata": {},
   "outputs": [
    {
     "data": {
      "text/plain": [
       "array([[0, 1, 2],\n",
       "       [4, 5, 6]])"
      ]
     },
     "execution_count": 29,
     "metadata": {},
     "output_type": "execute_result"
    }
   ],
   "source": [
    "arr2d[:2,0:3] "
   ]
  },
  {
   "cell_type": "code",
   "execution_count": 30,
   "id": "4fc10915-c256-4a39-a939-c6afc96ec734",
   "metadata": {},
   "outputs": [
    {
     "data": {
      "text/plain": [
       "array([[ 5,  6,  7],\n",
       "       [ 9, 10, 11]])"
      ]
     },
     "execution_count": 30,
     "metadata": {},
     "output_type": "execute_result"
    }
   ],
   "source": [
    "arr2d[1:3,1:4] "
   ]
  },
  {
   "cell_type": "markdown",
   "id": "80671b10-1941-4ef2-93de-f25d955d02ea",
   "metadata": {},
   "source": [
    "## 4. Operaciones con arrays"
   ]
  },
  {
   "cell_type": "code",
   "execution_count": 31,
   "id": "032b5351-1cab-49b3-8d3c-1ffd91563427",
   "metadata": {},
   "outputs": [],
   "source": [
    "l1 = [1,2,3,4]\n",
    "l2 = [5,6,7,8]"
   ]
  },
  {
   "cell_type": "code",
   "execution_count": 32,
   "id": "ad92f38c-ce0c-4cef-a93f-b62aeeac1fb1",
   "metadata": {},
   "outputs": [
    {
     "data": {
      "text/plain": [
       "[1, 2, 3, 4, 5, 6, 7, 8]"
      ]
     },
     "execution_count": 32,
     "metadata": {},
     "output_type": "execute_result"
    }
   ],
   "source": [
    "l1 + l2   #Esto lo concatena"
   ]
  },
  {
   "cell_type": "code",
   "execution_count": 33,
   "id": "79d9ec12-dd11-4364-bcf6-a6a65d30cc23",
   "metadata": {},
   "outputs": [
    {
     "data": {
      "text/plain": [
       "[6, 8, 10, 12]"
      ]
     },
     "execution_count": 33,
     "metadata": {},
     "output_type": "execute_result"
    }
   ],
   "source": [
    " list(map(lambda x,y: x+y, l1,l2))  #Esto suma elemento uno con elemenot 2"
   ]
  },
  {
   "cell_type": "code",
   "execution_count": 34,
   "id": "4ec8498f-e754-4c64-84be-aa06a649a4b5",
   "metadata": {},
   "outputs": [],
   "source": [
    "arr1 = np.array([1,2,3,4])\n",
    "arr2 = np.array([5,6,7,8])"
   ]
  },
  {
   "cell_type": "code",
   "execution_count": 35,
   "id": "c9df5f69-01a3-48e8-9301-84315635087a",
   "metadata": {},
   "outputs": [
    {
     "data": {
      "text/plain": [
       "array([ 6,  8, 10, 12])"
      ]
     },
     "execution_count": 35,
     "metadata": {},
     "output_type": "execute_result"
    }
   ],
   "source": [
    "arr1 + arr2   #Esto suma el elemnto i de cada lista, ambos arreglos necesitan tener la misma longitud"
   ]
  },
  {
   "cell_type": "code",
   "execution_count": 36,
   "id": "70be456f-1484-46c7-b918-d77dc4be7180",
   "metadata": {},
   "outputs": [],
   "source": [
    "mat1 = np.array([[1,2],[3,4]])\n",
    "mat2 = np.array([[5,6],[7,8]])"
   ]
  },
  {
   "cell_type": "code",
   "execution_count": 37,
   "id": "8e493153-0d36-4e27-8f42-57e1c462315d",
   "metadata": {},
   "outputs": [
    {
     "data": {
      "text/plain": [
       "array([[ 6,  8],\n",
       "       [10, 12]])"
      ]
     },
     "execution_count": 37,
     "metadata": {},
     "output_type": "execute_result"
    }
   ],
   "source": [
    "mat1+mat2"
   ]
  },
  {
   "cell_type": "code",
   "execution_count": 38,
   "id": "21869b0d-d5f5-4c6a-9f4c-18994e9ae2bc",
   "metadata": {},
   "outputs": [
    {
     "data": {
      "text/plain": [
       "array([[0.1, 0.2],\n",
       "       [0.3, 0.4]])"
      ]
     },
     "execution_count": 38,
     "metadata": {},
     "output_type": "execute_result"
    }
   ],
   "source": [
    "mat1/10"
   ]
  },
  {
   "cell_type": "code",
   "execution_count": 39,
   "id": "bc136aae-a40f-47f1-962e-7500d35523d0",
   "metadata": {},
   "outputs": [
    {
     "data": {
      "text/plain": [
       "array([[19, 22],\n",
       "       [43, 50]])"
      ]
     },
     "execution_count": 39,
     "metadata": {},
     "output_type": "execute_result"
    }
   ],
   "source": [
    "mat1@mat2  #El @ da un producto punto"
   ]
  },
  {
   "cell_type": "code",
   "execution_count": 40,
   "id": "02d34cb1-c224-4226-ad32-f7da706d13e0",
   "metadata": {},
   "outputs": [
    {
     "data": {
      "text/plain": [
       "array([[19, 22],\n",
       "       [43, 50]])"
      ]
     },
     "execution_count": 40,
     "metadata": {},
     "output_type": "execute_result"
    }
   ],
   "source": [
    "np.dot(mat1,mat2)  #Tambien esto"
   ]
  },
  {
   "cell_type": "code",
   "execution_count": null,
   "id": "e88aa2eb-4459-4537-90f0-9f7a16bf2698",
   "metadata": {},
   "outputs": [],
   "source": []
  }
 ],
 "metadata": {
  "kernelspec": {
   "display_name": "Python 3 (ipykernel)",
   "language": "python",
   "name": "python3"
  },
  "language_info": {
   "codemirror_mode": {
    "name": "ipython",
    "version": 3
   },
   "file_extension": ".py",
   "mimetype": "text/x-python",
   "name": "python",
   "nbconvert_exporter": "python",
   "pygments_lexer": "ipython3",
   "version": "3.12.5"
  }
 },
 "nbformat": 4,
 "nbformat_minor": 5
}
