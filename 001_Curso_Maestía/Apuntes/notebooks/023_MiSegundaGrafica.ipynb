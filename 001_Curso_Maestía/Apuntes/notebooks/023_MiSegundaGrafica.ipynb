{
 "cells": [
  {
   "cell_type": "code",
   "execution_count": 1,
   "id": "4a8ed054-e352-46a6-86f5-5381fc899b6c",
   "metadata": {},
   "outputs": [],
   "source": [
    "import pandas as pd\n",
    "import glob as glob\n",
    "import matplotlib.pyplot as plt"
   ]
  },
  {
   "cell_type": "code",
   "execution_count": 2,
   "id": "0dd75bb4-bbfa-4d1f-9b69-5c821f2d4bb2",
   "metadata": {},
   "outputs": [
    {
     "data": {
      "text/plain": [
       "['./data/data_sept_10\\\\2016-04-tmix_hora_L1.csv',\n",
       " './data/data_sept_10\\\\2016-05-tmix_hora_L1.csv',\n",
       " './data/data_sept_10\\\\2016-09-tmix_hora_L1.csv',\n",
       " './data/data_sept_10\\\\2017-03-tmix_hora_L1.csv',\n",
       " './data/data_sept_10\\\\2017-08-tmix_hora_L1.csv',\n",
       " './data/data_sept_10\\\\2018-02-tmix_hora_L1.csv',\n",
       " './data/data_sept_10\\\\2019-03-tmix_hora_L1.csv',\n",
       " './data/data_sept_10\\\\2019-04-tmix_hora_L1.csv',\n",
       " './data/data_sept_10\\\\2019-07-tmix_hora_L1.csv',\n",
       " './data/data_sept_10\\\\2021-02-tmix_hora_L1.csv',\n",
       " './data/data_sept_10\\\\2021-03-tmix_hora_L1.csv',\n",
       " './data/data_sept_10\\\\2022-abr-tmix_hora_L1.csv',\n",
       " './data/data_sept_10\\\\2022-ago-tmix_hora_L1.csv',\n",
       " './data/data_sept_10\\\\2022-dic-tmix_hora_L1.csv',\n",
       " './data/data_sept_10\\\\2022-ene-tmix_hora_L1.csv',\n",
       " './data/data_sept_10\\\\2022-feb-tmix_hora_L1.csv',\n",
       " './data/data_sept_10\\\\2022-jul-tmix_hora_L1.csv',\n",
       " './data/data_sept_10\\\\2022-jun-tmix_hora_L1.csv',\n",
       " './data/data_sept_10\\\\2022-mar-tmix_hora_L1.csv',\n",
       " './data/data_sept_10\\\\2022-may-tmix_hora_L1.csv']"
      ]
     },
     "execution_count": 2,
     "metadata": {},
     "output_type": "execute_result"
    }
   ],
   "source": [
    "paths = glob.glob('./data/data_sept_10/*-tmix_*')   #Los * indican lo que sea antes o despues segun donde esten colocados\n",
    "paths"
   ]
  },
  {
   "cell_type": "code",
   "execution_count": 3,
   "id": "41ffc4c5-a705-4530-8d51-15864ea35a02",
   "metadata": {},
   "outputs": [
    {
     "data": {
      "text/html": [
       "<div>\n",
       "<style scoped>\n",
       "    .dataframe tbody tr th:only-of-type {\n",
       "        vertical-align: middle;\n",
       "    }\n",
       "\n",
       "    .dataframe tbody tr th {\n",
       "        vertical-align: top;\n",
       "    }\n",
       "\n",
       "    .dataframe thead th {\n",
       "        text-align: right;\n",
       "    }\n",
       "</style>\n",
       "<table border=\"1\" class=\"dataframe\">\n",
       "  <thead>\n",
       "    <tr style=\"text-align: right;\">\n",
       "      <th></th>\n",
       "      <th>Temp_Avg</th>\n",
       "      <th>RH_Avg</th>\n",
       "      <th>WSpeed_Avg</th>\n",
       "      <th>WSpeed_Max</th>\n",
       "      <th>WDir_Avg</th>\n",
       "      <th>Rain_Tot</th>\n",
       "      <th>Press_Avg</th>\n",
       "      <th>Rad_Avg</th>\n",
       "    </tr>\n",
       "    <tr>\n",
       "      <th>TIMESTAMP</th>\n",
       "      <th></th>\n",
       "      <th></th>\n",
       "      <th></th>\n",
       "      <th></th>\n",
       "      <th></th>\n",
       "      <th></th>\n",
       "      <th></th>\n",
       "      <th></th>\n",
       "    </tr>\n",
       "  </thead>\n",
       "  <tbody>\n",
       "    <tr>\n",
       "      <th>2016-04-01 00:00:00</th>\n",
       "      <td>NaN</td>\n",
       "      <td>NaN</td>\n",
       "      <td>NaN</td>\n",
       "      <td>NaN</td>\n",
       "      <td>NaN</td>\n",
       "      <td>NaN</td>\n",
       "      <td>NaN</td>\n",
       "      <td>NaN</td>\n",
       "    </tr>\n",
       "    <tr>\n",
       "      <th>2016-04-01 01:00:00</th>\n",
       "      <td>NaN</td>\n",
       "      <td>NaN</td>\n",
       "      <td>NaN</td>\n",
       "      <td>NaN</td>\n",
       "      <td>NaN</td>\n",
       "      <td>NaN</td>\n",
       "      <td>NaN</td>\n",
       "      <td>NaN</td>\n",
       "    </tr>\n",
       "    <tr>\n",
       "      <th>2016-04-01 02:00:00</th>\n",
       "      <td>NaN</td>\n",
       "      <td>NaN</td>\n",
       "      <td>NaN</td>\n",
       "      <td>NaN</td>\n",
       "      <td>NaN</td>\n",
       "      <td>NaN</td>\n",
       "      <td>NaN</td>\n",
       "      <td>NaN</td>\n",
       "    </tr>\n",
       "    <tr>\n",
       "      <th>2016-04-01 03:00:00</th>\n",
       "      <td>NaN</td>\n",
       "      <td>NaN</td>\n",
       "      <td>NaN</td>\n",
       "      <td>NaN</td>\n",
       "      <td>NaN</td>\n",
       "      <td>NaN</td>\n",
       "      <td>NaN</td>\n",
       "      <td>NaN</td>\n",
       "    </tr>\n",
       "    <tr>\n",
       "      <th>2016-04-01 04:00:00</th>\n",
       "      <td>NaN</td>\n",
       "      <td>NaN</td>\n",
       "      <td>NaN</td>\n",
       "      <td>NaN</td>\n",
       "      <td>NaN</td>\n",
       "      <td>NaN</td>\n",
       "      <td>NaN</td>\n",
       "      <td>NaN</td>\n",
       "    </tr>\n",
       "    <tr>\n",
       "      <th>...</th>\n",
       "      <td>...</td>\n",
       "      <td>...</td>\n",
       "      <td>...</td>\n",
       "      <td>...</td>\n",
       "      <td>...</td>\n",
       "      <td>...</td>\n",
       "      <td>...</td>\n",
       "      <td>...</td>\n",
       "    </tr>\n",
       "    <tr>\n",
       "      <th>2016-04-30 19:00:00</th>\n",
       "      <td>30.94</td>\n",
       "      <td>11.76</td>\n",
       "      <td>0.745</td>\n",
       "      <td>NaN</td>\n",
       "      <td>176.2</td>\n",
       "      <td>0.0</td>\n",
       "      <td>NaN</td>\n",
       "      <td>41.5</td>\n",
       "    </tr>\n",
       "    <tr>\n",
       "      <th>2016-04-30 20:00:00</th>\n",
       "      <td>28.55</td>\n",
       "      <td>16.23</td>\n",
       "      <td>2.165</td>\n",
       "      <td>NaN</td>\n",
       "      <td>346.0</td>\n",
       "      <td>0.0</td>\n",
       "      <td>NaN</td>\n",
       "      <td>0.0</td>\n",
       "    </tr>\n",
       "    <tr>\n",
       "      <th>2016-04-30 21:00:00</th>\n",
       "      <td>26.20</td>\n",
       "      <td>18.60</td>\n",
       "      <td>2.970</td>\n",
       "      <td>NaN</td>\n",
       "      <td>324.5</td>\n",
       "      <td>0.0</td>\n",
       "      <td>NaN</td>\n",
       "      <td>0.0</td>\n",
       "    </tr>\n",
       "    <tr>\n",
       "      <th>2016-04-30 22:00:00</th>\n",
       "      <td>24.97</td>\n",
       "      <td>20.44</td>\n",
       "      <td>1.396</td>\n",
       "      <td>NaN</td>\n",
       "      <td>341.2</td>\n",
       "      <td>0.0</td>\n",
       "      <td>NaN</td>\n",
       "      <td>0.0</td>\n",
       "    </tr>\n",
       "    <tr>\n",
       "      <th>2016-04-30 23:00:00</th>\n",
       "      <td>24.33</td>\n",
       "      <td>21.78</td>\n",
       "      <td>2.429</td>\n",
       "      <td>NaN</td>\n",
       "      <td>347.7</td>\n",
       "      <td>0.0</td>\n",
       "      <td>NaN</td>\n",
       "      <td>0.0</td>\n",
       "    </tr>\n",
       "  </tbody>\n",
       "</table>\n",
       "<p>720 rows × 8 columns</p>\n",
       "</div>"
      ],
      "text/plain": [
       "                     Temp_Avg  RH_Avg  WSpeed_Avg  WSpeed_Max  WDir_Avg  \\\n",
       "TIMESTAMP                                                                 \n",
       "2016-04-01 00:00:00       NaN     NaN         NaN         NaN       NaN   \n",
       "2016-04-01 01:00:00       NaN     NaN         NaN         NaN       NaN   \n",
       "2016-04-01 02:00:00       NaN     NaN         NaN         NaN       NaN   \n",
       "2016-04-01 03:00:00       NaN     NaN         NaN         NaN       NaN   \n",
       "2016-04-01 04:00:00       NaN     NaN         NaN         NaN       NaN   \n",
       "...                       ...     ...         ...         ...       ...   \n",
       "2016-04-30 19:00:00     30.94   11.76       0.745         NaN     176.2   \n",
       "2016-04-30 20:00:00     28.55   16.23       2.165         NaN     346.0   \n",
       "2016-04-30 21:00:00     26.20   18.60       2.970         NaN     324.5   \n",
       "2016-04-30 22:00:00     24.97   20.44       1.396         NaN     341.2   \n",
       "2016-04-30 23:00:00     24.33   21.78       2.429         NaN     347.7   \n",
       "\n",
       "                     Rain_Tot  Press_Avg  Rad_Avg  \n",
       "TIMESTAMP                                          \n",
       "2016-04-01 00:00:00       NaN        NaN      NaN  \n",
       "2016-04-01 01:00:00       NaN        NaN      NaN  \n",
       "2016-04-01 02:00:00       NaN        NaN      NaN  \n",
       "2016-04-01 03:00:00       NaN        NaN      NaN  \n",
       "2016-04-01 04:00:00       NaN        NaN      NaN  \n",
       "...                       ...        ...      ...  \n",
       "2016-04-30 19:00:00       0.0        NaN     41.5  \n",
       "2016-04-30 20:00:00       0.0        NaN      0.0  \n",
       "2016-04-30 21:00:00       0.0        NaN      0.0  \n",
       "2016-04-30 22:00:00       0.0        NaN      0.0  \n",
       "2016-04-30 23:00:00       0.0        NaN      0.0  \n",
       "\n",
       "[720 rows x 8 columns]"
      ]
     },
     "execution_count": 3,
     "metadata": {},
     "output_type": "execute_result"
    }
   ],
   "source": [
    "pd.read_csv(paths[0],\n",
    "            skiprows=[0,1,2,3,4,5,7],\n",
    "           encoding=\"ANSI\",\n",
    "           index_col=0, parse_dates=True)"
   ]
  },
  {
   "cell_type": "code",
   "execution_count": 4,
   "id": "8ac84c14-7965-4626-906b-f0a27cd91b0a",
   "metadata": {},
   "outputs": [],
   "source": [
    "def importa(f):\n",
    "    tmx = pd.read_csv(f,\n",
    "            skiprows=[0,1,2,3,4,5,7],\n",
    "           encoding=\"ANSI\",\n",
    "           index_col=0, parse_dates=True)\n",
    "    return tmx"
   ]
  },
  {
   "cell_type": "code",
   "execution_count": 5,
   "id": "f01e8778-9fa1-421c-b5ef-0382b8dfb4c0",
   "metadata": {},
   "outputs": [
    {
     "name": "stdout",
     "output_type": "stream",
     "text": [
      "<class 'pandas.core.frame.DataFrame'>\n",
      "DatetimeIndex: 14544 entries, 2016-04-01 00:00:00 to 2022-12-31 23:00:00\n",
      "Data columns (total 8 columns):\n",
      " #   Column      Non-Null Count  Dtype  \n",
      "---  ------      --------------  -----  \n",
      " 0   Temp_Avg    14094 non-null  float64\n",
      " 1   RH_Avg      14094 non-null  float64\n",
      " 2   WSpeed_Avg  14094 non-null  float64\n",
      " 3   WSpeed_Max  11572 non-null  float64\n",
      " 4   WDir_Avg    14094 non-null  float64\n",
      " 5   Rain_Tot    14086 non-null  float64\n",
      " 6   Press_Avg   12496 non-null  float64\n",
      " 7   Rad_Avg     14093 non-null  float64\n",
      "dtypes: float64(8)\n",
      "memory usage: 1022.6 KB\n"
     ]
    }
   ],
   "source": [
    "tmx = pd.concat([importa(path) for path in paths],axis=0)\n",
    "tmx.sort_index(inplace=True)\n",
    "tmx.to_csv('./data/tmix_complete.csv')\n",
    "tmx.info()"
   ]
  },
  {
   "cell_type": "code",
   "execution_count": 6,
   "id": "d12f1eb7-5558-4546-9939-cffdd164e5cd",
   "metadata": {},
   "outputs": [
    {
     "data": {
      "text/plain": [
       "20"
      ]
     },
     "execution_count": 6,
     "metadata": {},
     "output_type": "execute_result"
    }
   ],
   "source": [
    "len(paths)"
   ]
  },
  {
   "cell_type": "code",
   "execution_count": 9,
   "id": "5ac6d3f4-7f45-46b0-a210-b0e26f56cb63",
   "metadata": {},
   "outputs": [
    {
     "data": {
      "text/plain": [
       "<Axes: xlabel='TIMESTAMP'>"
      ]
     },
     "execution_count": 9,
     "metadata": {},
     "output_type": "execute_result"
    },
    {
     "data": {
      "image/png": "[encoded data removed]",
      "text/plain": [
       "<Figure size 1000x600 with 1 Axes>"
      ]
     },
     "metadata": {},
     "output_type": "display_data"
    }
   ],
   "source": [
    "tmp = pd.read_csv(\"./data/tmix_complete.csv\",\n",
    "        index_col=0, parse_dates=True)\n",
    "tmp.Temp_Avg.plot(figsize=(10, 6))"
   ]
  },
  {
   "cell_type": "code",
   "execution_count": null,
   "id": "4a20a1a0-8a34-40c1-a65d-7ff45f75bd6a",
   "metadata": {},
   "outputs": [],
   "source": []
  }
 ],
 "metadata": {
  "kernelspec": {
   "display_name": "Python 3 (ipykernel)",
   "language": "python",
   "name": "python3"
  },
  "language_info": {
   "codemirror_mode": {
    "name": "ipython",
    "version": 3
   },
   "file_extension": ".py",
   "mimetype": "text/x-python",
   "name": "python",
   "nbconvert_exporter": "python",
   "pygments_lexer": "ipython3",
   "version": "3.12.3"
  }
 },
 "nbformat": 4,
 "nbformat_minor": 5
}
