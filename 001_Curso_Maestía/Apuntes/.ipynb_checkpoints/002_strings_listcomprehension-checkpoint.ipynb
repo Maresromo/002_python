{
 "cells": [
  {
   "cell_type": "markdown",
   "id": "f7d8b999-c894-4986-8f24-905eb3734e00",
   "metadata": {},
   "source": [
    "En el power shell se puede escribir \"CTRL\" + \"r\" y escribir alldays o notebook y te lo acompleta"
   ]
  },
  {
   "cell_type": "code",
   "execution_count": 1,
   "id": "18d3024a-9539-4bca-acdb-c1832e4ccc52",
   "metadata": {},
   "outputs": [],
   "source": [
    "dia = 3\n",
    "mes = \"agosto\"\n",
    "year = 2024"
   ]
  },
  {
   "cell_type": "markdown",
   "id": "d9e8d7fa-819d-4b41-8061-b37025cece48",
   "metadata": {},
   "source": [
    "si hacemos dia + mes + year, no nos va a dejar, tenemos que cambiar el tipo de variable"
   ]
  },
  {
   "cell_type": "code",
   "execution_count": 2,
   "id": "11fbf248-0979-4c40-8e56-764d754508a4",
   "metadata": {},
   "outputs": [
    {
     "data": {
      "text/plain": [
       "'3agosto2024'"
      ]
     },
     "execution_count": 2,
     "metadata": {},
     "output_type": "execute_result"
    }
   ],
   "source": [
    "str(dia) + mes + str(year)"
   ]
  },
  {
   "cell_type": "markdown",
   "id": "93d5de95-e540-40a2-b2a7-f8f94bb7d469",
   "metadata": {},
   "source": [
    "# Slicing"
   ]
  },
  {
   "cell_type": "code",
   "execution_count": 5,
   "id": "bcc3f35b-bd5e-45eb-a827-f83c24a4f7cf",
   "metadata": {},
   "outputs": [],
   "source": [
    "frase = \"Arriba yo mi ama y la chona\""
   ]
  },
  {
   "cell_type": "markdown",
   "id": "eadb7373-0a9e-4cb7-b6ab-60a159c134e7",
   "metadata": {},
   "source": [
    "frase[inicio:final:paso]"
   ]
  },
  {
   "cell_type": "code",
   "execution_count": 6,
   "id": "196ec1d3-3e59-4ffb-815a-a4b4a902f47d",
   "metadata": {},
   "outputs": [
    {
     "data": {
      "text/plain": [
       "'Arb om m  acoa'"
      ]
     },
     "execution_count": 6,
     "metadata": {},
     "output_type": "execute_result"
    }
   ],
   "source": [
    "frase[::2]\n"
   ]
  },
  {
   "cell_type": "markdown",
   "id": "37d0b2fe-b1a1-4b4c-a98a-2ce3d4716c50",
   "metadata": {},
   "source": [
    "Para quitar los espcaios en blanco "
   ]
  },
  {
   "cell_type": "code",
   "execution_count": 15,
   "id": "bb3dc08a-2a03-4883-96b6-ab2a0e03cb22",
   "metadata": {},
   "outputs": [
    {
     "data": {
      "text/plain": [
       "'Arriba yo mi ama y la chona'"
      ]
     },
     "execution_count": 15,
     "metadata": {},
     "output_type": "execute_result"
    }
   ],
   "source": [
    "frase = \" Arriba yo mi ama y la chona \"\n",
    "frase.rstrip().lstrip()"
   ]
  },
  {
   "cell_type": "code",
   "execution_count": 17,
   "id": "6fc06f0d-4f51-49d6-9bda-dad26ea6201b",
   "metadata": {},
   "outputs": [
    {
     "data": {
      "text/plain": [
       "'Arribayomiamaylachona'"
      ]
     },
     "execution_count": 17,
     "metadata": {},
     "output_type": "execute_result"
    }
   ],
   "source": [
    "#Tambien se puede con:\n",
    "frase = \" Arriba yo mi ama y la chona \"\n",
    "frase.replace(\" \",\"\")\n",
    "# pero quita todos los espacios"
   ]
  },
  {
   "cell_type": "code",
   "execution_count": 19,
   "id": "06f0419a-7ab7-4204-bcff-5fcd4026be22",
   "metadata": {},
   "outputs": [
    {
     "data": {
      "text/plain": [
       "True"
      ]
     },
     "execution_count": 19,
     "metadata": {},
     "output_type": "execute_result"
    }
   ],
   "source": [
    "frase = \" Arriba yo mi ama y la chona \"\n",
    "\"r\" in frase"
   ]
  },
  {
   "cell_type": "code",
   "execution_count": 21,
   "id": "b26e2f1a-7bca-4c4a-a24f-ae5d04e3932b",
   "metadata": {},
   "outputs": [
    {
     "name": "stdout",
     "output_type": "stream",
     "text": [
      "Si tiene r\n"
     ]
    }
   ],
   "source": [
    "#Tambien se puede agregar otras cosas como if o for\n",
    "frase = \" Arriba yo mi ama y la chona \"\n",
    "if \"r\" in frase:\n",
    "    print(\"Si tiene r\")"
   ]
  },
  {
   "cell_type": "code",
   "execution_count": 24,
   "id": "665bc056-b404-44c1-9ec5-73e1d9fc96b1",
   "metadata": {},
   "outputs": [
    {
     "name": "stdout",
     "output_type": "stream",
     "text": [
      "Arriba tiene a/A\n",
      "ama tiene a/A\n",
      "la tiene a/A\n",
      "chona tiene a/A\n"
     ]
    }
   ],
   "source": [
    "frase = \" Arriba yo mi ama y la chona \"\n",
    "for palabra in frase.rstrip().lstrip().split():\n",
    "    if \"a\" in palabra.lower():\n",
    "        print(palabra,\"tiene a/A\")"
   ]
  },
  {
   "cell_type": "markdown",
   "id": "6eb71dd1-5d1e-4101-a3c0-dce61edae607",
   "metadata": {},
   "source": [
    "# Comandos magicos"
   ]
  },
  {
   "cell_type": "markdown",
   "id": "c7bb4910-3a77-4e13-ab4c-1b1c31f4a6cb",
   "metadata": {},
   "source": [
    "% permite usar comandos como si fuera terminal\n",
    "con lo de aca bajo nos muestra todos los que existen"
   ]
  },
  {
   "cell_type": "code",
   "execution_count": 30,
   "id": "035316c9-cc30-4e1d-a640-fe555aa89697",
   "metadata": {},
   "outputs": [
    {
     "data": {
      "application/json": {
       "cell": {
        "!": "OSMagics",
        "HTML": "Other",
        "SVG": "Other",
        "bash": "Other",
        "capture": "ExecutionMagics",
        "cmd": "Other",
        "code_wrap": "ExecutionMagics",
        "debug": "ExecutionMagics",
        "file": "Other",
        "html": "DisplayMagics",
        "javascript": "DisplayMagics",
        "js": "DisplayMagics",
        "latex": "DisplayMagics",
        "markdown": "DisplayMagics",
        "perl": "Other",
        "prun": "ExecutionMagics",
        "pypy": "Other",
        "python": "Other",
        "python2": "Other",
        "python3": "Other",
        "ruby": "Other",
        "script": "ScriptMagics",
        "sh": "Other",
        "svg": "DisplayMagics",
        "sx": "OSMagics",
        "system": "OSMagics",
        "time": "ExecutionMagics",
        "timeit": "ExecutionMagics",
        "writefile": "OSMagics"
       },
       "line": {
        "alias": "OSMagics",
        "alias_magic": "BasicMagics",
        "autoawait": "AsyncMagics",
        "autocall": "AutoMagics",
        "automagic": "AutoMagics",
        "autosave": "KernelMagics",
        "bookmark": "OSMagics",
        "cd": "OSMagics",
        "clear": "KernelMagics",
        "cls": "KernelMagics",
        "code_wrap": "ExecutionMagics",
        "colors": "BasicMagics",
        "conda": "PackagingMagics",
        "config": "ConfigMagics",
        "connect_info": "KernelMagics",
        "copy": "Other",
        "ddir": "Other",
        "debug": "ExecutionMagics",
        "dhist": "OSMagics",
        "dirs": "OSMagics",
        "doctest_mode": "BasicMagics",
        "echo": "Other",
        "ed": "Other",
        "edit": "KernelMagics",
        "env": "OSMagics",
        "gui": "BasicMagics",
        "hist": "Other",
        "history": "HistoryMagics",
        "killbgscripts": "ScriptMagics",
        "ldir": "Other",
        "less": "KernelMagics",
        "load": "CodeMagics",
        "load_ext": "ExtensionMagics",
        "loadpy": "CodeMagics",
        "logoff": "LoggingMagics",
        "logon": "LoggingMagics",
        "logstart": "LoggingMagics",
        "logstate": "LoggingMagics",
        "logstop": "LoggingMagics",
        "ls": "Other",
        "lsmagic": "BasicMagics",
        "macro": "ExecutionMagics",
        "magic": "BasicMagics",
        "mamba": "PackagingMagics",
        "matplotlib": "PylabMagics",
        "micromamba": "PackagingMagics",
        "mkdir": "Other",
        "more": "KernelMagics",
        "notebook": "BasicMagics",
        "page": "BasicMagics",
        "pastebin": "CodeMagics",
        "pdb": "ExecutionMagics",
        "pdef": "NamespaceMagics",
        "pdoc": "NamespaceMagics",
        "pfile": "NamespaceMagics",
        "pinfo": "NamespaceMagics",
        "pinfo2": "NamespaceMagics",
        "pip": "PackagingMagics",
        "popd": "OSMagics",
        "pprint": "BasicMagics",
        "precision": "BasicMagics",
        "prun": "ExecutionMagics",
        "psearch": "NamespaceMagics",
        "psource": "NamespaceMagics",
        "pushd": "OSMagics",
        "pwd": "OSMagics",
        "pycat": "OSMagics",
        "pylab": "PylabMagics",
        "qtconsole": "KernelMagics",
        "quickref": "BasicMagics",
        "recall": "HistoryMagics",
        "rehashx": "OSMagics",
        "reload_ext": "ExtensionMagics",
        "ren": "Other",
        "rep": "Other",
        "rerun": "HistoryMagics",
        "reset": "NamespaceMagics",
        "reset_selective": "NamespaceMagics",
        "rmdir": "Other",
        "run": "ExecutionMagics",
        "save": "CodeMagics",
        "sc": "OSMagics",
        "set_env": "OSMagics",
        "store": "StoreMagics",
        "sx": "OSMagics",
        "system": "OSMagics",
        "tb": "ExecutionMagics",
        "time": "ExecutionMagics",
        "timeit": "ExecutionMagics",
        "unalias": "OSMagics",
        "unload_ext": "ExtensionMagics",
        "who": "NamespaceMagics",
        "who_ls": "NamespaceMagics",
        "whos": "NamespaceMagics",
        "xdel": "NamespaceMagics",
        "xmode": "BasicMagics"
       }
      },
      "text/plain": [
       "Available line magics:\n",
       "%alias  %alias_magic  %autoawait  %autocall  %automagic  %autosave  %bookmark  %cd  %clear  %cls  %code_wrap  %colors  %conda  %config  %connect_info  %copy  %ddir  %debug  %dhist  %dirs  %doctest_mode  %echo  %ed  %edit  %env  %gui  %hist  %history  %killbgscripts  %ldir  %less  %load  %load_ext  %loadpy  %logoff  %logon  %logstart  %logstate  %logstop  %ls  %lsmagic  %macro  %magic  %mamba  %matplotlib  %micromamba  %mkdir  %more  %notebook  %page  %pastebin  %pdb  %pdef  %pdoc  %pfile  %pinfo  %pinfo2  %pip  %popd  %pprint  %precision  %prun  %psearch  %psource  %pushd  %pwd  %pycat  %pylab  %qtconsole  %quickref  %recall  %rehashx  %reload_ext  %ren  %rep  %rerun  %reset  %reset_selective  %rmdir  %run  %save  %sc  %set_env  %store  %sx  %system  %tb  %time  %timeit  %unalias  %unload_ext  %who  %who_ls  %whos  %xdel  %xmode\n",
       "\n",
       "Available cell magics:\n",
       "%%!  %%HTML  %%SVG  %%bash  %%capture  %%cmd  %%code_wrap  %%debug  %%file  %%html  %%javascript  %%js  %%latex  %%markdown  %%perl  %%prun  %%pypy  %%python  %%python2  %%python3  %%ruby  %%script  %%sh  %%svg  %%sx  %%system  %%time  %%timeit  %%writefile\n",
       "\n",
       "Automagic is ON, % prefix IS NOT needed for line magics."
      ]
     },
     "execution_count": 30,
     "metadata": {},
     "output_type": "execute_result"
    }
   ],
   "source": [
    "%lsmagic"
   ]
  },
  {
   "cell_type": "code",
   "execution_count": 25,
   "id": "a3609cef-3a19-475a-8b37-812a457133ab",
   "metadata": {
    "scrolled": true
   },
   "outputs": [
    {
     "name": "stdout",
     "output_type": "stream",
     "text": [
      " El volumen de la unidad C es Windows\n",
      " El n£mero de serie del volumen es: 92E1-2FA2\n",
      "\n",
      " Directorio de C:\\Users\\roele\\Documents\\002_ClasePython\\Apuntes\n",
      "\n",
      "20/08/2024  03:36 p. m.    <DIR>          .\n",
      "20/08/2024  03:05 p. m.    <DIR>          ..\n",
      "20/08/2024  03:08 p. m.    <DIR>          .ipynb_checkpoints\n",
      "20/08/2024  03:36 p. m.             5,222 20_08_2024.ipynb\n",
      "               1 archivos          5,222 bytes\n",
      "               3 dirs  153,680,945,152 bytes libres\n"
     ]
    }
   ],
   "source": [
    "%ls"
   ]
  },
  {
   "cell_type": "markdown",
   "id": "255fd18d-3c3e-4d8a-8d0f-55fdce35690c",
   "metadata": {},
   "source": [
    "Muestra todas las variables que tenemos en la libreta y el tipo que son"
   ]
  },
  {
   "cell_type": "markdown",
   "id": "cb9fe451-ce3f-4a14-969b-81ea36be2ced",
   "metadata": {},
   "source": [
    "#con el ? nos da la documentacion\n"
   ]
  },
  {
   "cell_type": "code",
   "execution_count": 37,
   "id": "3db80124-12ef-429d-bd49-15d908273000",
   "metadata": {
    "scrolled": true
   },
   "outputs": [
    {
     "data": {
      "text/plain": [
       "\u001b[1;31mDocstring:\u001b[0m\n",
       "Like %who, but gives some extra information about each variable.\n",
       "\n",
       "The same type filtering of %who can be applied here.\n",
       "\n",
       "For all variables, the type is printed. Additionally it prints:\n",
       "\n",
       "  - For {},[],(): their length.\n",
       "\n",
       "  - For numpy arrays, a summary with shape, number of\n",
       "    elements, typecode and size in memory.\n",
       "\n",
       "  - Everything else: a string representation, snipping their middle if\n",
       "    too long.\n",
       "\n",
       "Examples\n",
       "--------\n",
       "Define two variables and list them with whos::\n",
       "\n",
       "  In [1]: alpha = 123\n",
       "\n",
       "  In [2]: beta = 'test'\n",
       "\n",
       "  In [3]: %whos\n",
       "  Variable   Type        Data/Info\n",
       "  --------------------------------\n",
       "  alpha      int         123\n",
       "  beta       str         test\n",
       "\u001b[1;31mFile:\u001b[0m      c:\\users\\roele\\appdata\\local\\programs\\python\\python312\\lib\\site-packages\\ipython\\core\\magics\\namespace.py"
      ]
     },
     "metadata": {},
     "output_type": "display_data"
    }
   ],
   "source": [
    "%whos?"
   ]
  },
  {
   "cell_type": "markdown",
   "id": "ea3d12f6-68d9-4d66-bec6-7269a40dc320",
   "metadata": {},
   "source": [
    "El sifuiente nos permite escribir en un txt que aparecera en la carpeta donde estemos y tendra escrito lo que le poongamos abajo"
   ]
  },
  {
   "cell_type": "code",
   "execution_count": 42,
   "id": "9ebdc001-e775-488d-9cc3-a50a13bcd5e1",
   "metadata": {},
   "outputs": [
    {
     "name": "stdout",
     "output_type": "stream",
     "text": [
      "Writing prueba.py\n"
     ]
    }
   ],
   "source": [
    "%%writefile prueba.py\n",
    "print(\"Arramacara\")\n",
    "print(\"si\")    \n",
    "print(\"Arramacara\")\n",
    "print(\"no\")"
   ]
  },
  {
   "cell_type": "code",
   "execution_count": 43,
   "id": "cf96f637-c00c-4a37-b6cb-526b3841cd4f",
   "metadata": {},
   "outputs": [
    {
     "name": "stdout",
     "output_type": "stream",
     "text": [
      " El volumen de la unidad C es Windows\n",
      " El n£mero de serie del volumen es: 92E1-2FA2\n",
      "\n",
      " Directorio de C:\\Users\\roele\\Documents\\002_ClasePython\\Apuntes\n",
      "\n",
      "20/08/2024  03:47 p. m.    <DIR>          .\n",
      "20/08/2024  03:05 p. m.    <DIR>          ..\n",
      "20/08/2024  03:08 p. m.    <DIR>          .ipynb_checkpoints\n",
      "20/08/2024  03:46 p. m.            14,566 20_08_2024.ipynb\n",
      "20/08/2024  03:47 p. m.                72 prueba.py\n",
      "               2 archivos         14,638 bytes\n",
      "               3 dirs  153,659,334,656 bytes libres\n"
     ]
    }
   ],
   "source": [
    "%ls"
   ]
  },
  {
   "cell_type": "code",
   "execution_count": 44,
   "id": "47e9b963-2ee0-43f8-a213-524b382649da",
   "metadata": {},
   "outputs": [
    {
     "name": "stdout",
     "output_type": "stream",
     "text": [
      "Arramacara\n",
      "si\n",
      "Arramacara\n",
      "no\n"
     ]
    }
   ],
   "source": [
    "%run prueba.py"
   ]
  },
  {
   "cell_type": "code",
   "execution_count": 46,
   "id": "877ec58c-c668-4055-b62f-533cb37642dc",
   "metadata": {},
   "outputs": [
    {
     "name": "stdout",
     "output_type": "stream",
     "text": [
      "Arramacara\n",
      "si\n",
      "a\n",
      "no\n"
     ]
    }
   ],
   "source": [
    "# %load prueba.py\n",
    "print(\"Arramacara\")\n",
    "print(\"si\")    \n",
    "print(\"a\")\n",
    "print(\"no\")\n"
   ]
  },
  {
   "cell_type": "code",
   "execution_count": 47,
   "id": "d100f36b-ae06-4dac-a16b-b2aa2dc4b6c8",
   "metadata": {},
   "outputs": [
    {
     "name": "stdout",
     "output_type": "stream",
     "text": [
      "Arramacara\n",
      "si\n",
      "Arramacara\n",
      "no\n"
     ]
    }
   ],
   "source": [
    "%run prueba.py"
   ]
  },
  {
   "cell_type": "markdown",
   "id": "43b96d48-5689-442b-aef4-8e093aa6a042",
   "metadata": {},
   "source": [
    "# List comprehension SOLO EXISTE EN PTHON\n"
   ]
  },
  {
   "cell_type": "code",
   "execution_count": 50,
   "id": "e6171a5e-21a7-4a58-a53b-851b221114a0",
   "metadata": {},
   "outputs": [],
   "source": [
    "colores = [\"morado\", \"verde\",\"amarilo\",\"lila\",\"azul\",\"rojo\",\"cian\",\"marron\",\"naranja\",\"negro\",\"dorado\",\"plateado\",\"negro_claro\",\"blanco\",\"magenta\",\"orange\",\"bermellón\"]"
   ]
  },
  {
   "cell_type": "code",
   "execution_count": 61,
   "id": "daae3bd3-a47e-4947-b3fd-ea4777338b3c",
   "metadata": {},
   "outputs": [
    {
     "data": {
      "text/plain": [
       "['morado',\n",
       " 'verde',\n",
       " 'amarilo',\n",
       " 'marron',\n",
       " 'naranja',\n",
       " 'negro',\n",
       " 'dorado',\n",
       " 'plateado',\n",
       " 'negro_claro',\n",
       " 'blanco',\n",
       " 'magenta',\n",
       " 'orange',\n",
       " 'bermellón']"
      ]
     },
     "execution_count": 61,
     "metadata": {},
     "output_type": "execute_result"
    }
   ],
   "source": [
    "mas_cuatro = []\n",
    "for color in colores:\n",
    "    if len(color) > 4:\n",
    "        mas_cuatro.append(color)\n",
    "\n",
    "mas_cuatro"
   ]
  },
  {
   "cell_type": "code",
   "execution_count": 63,
   "id": "81b95806-86d6-4263-a2f0-d68d2141a595",
   "metadata": {},
   "outputs": [
    {
     "data": {
      "text/plain": [
       "['LILA', 'AZUL', 'ROJO', 'CIAN']"
      ]
     },
     "execution_count": 63,
     "metadata": {},
     "output_type": "execute_result"
    }
   ],
   "source": [
    "#El list comprehension nos permite hacerlo asi:\n",
    "solo_cuatro = [color.upper() for color in colores if len(color) == 4]\n",
    "solo_cuatro "
   ]
  },
  {
   "cell_type": "markdown",
   "id": "cf2ba60e-045b-499a-a07d-b7b50cadae81",
   "metadata": {},
   "source": [
    "Con \"CTRL\" + \"/\" comentamos o descomentamos lo que tengamos seleccionado\n",
    "\n",
    "con \"CTRL\" \"clic\" podemos editar en varios lugares y poner lo mismo"
   ]
  },
  {
   "cell_type": "code",
   "execution_count": 65,
   "id": "c130525e-6ad6-4e0f-93ab-5beba4ffa840",
   "metadata": {},
   "outputs": [
    {
     "data": {
      "text/plain": [
       "['LILA', 'AZUL', 'ROJO', 'CIAN']"
      ]
     },
     "execution_count": 65,
     "metadata": {},
     "output_type": "execute_result"
    }
   ],
   "source": [
    "# Se pueden hacer varias cosas \n",
    "solo_cuatro = [color.upper() for color in colores if len(color) == 4]\n",
    "solo_cuatro "
   ]
  },
  {
   "cell_type": "code",
   "execution_count": 67,
   "id": "517d790f-69d4-4dfc-9fe8-933c2d64dfba",
   "metadata": {},
   "outputs": [
    {
     "data": {
      "text/plain": [
       "[2, 4, 6, 8, 0]"
      ]
     },
     "execution_count": 67,
     "metadata": {},
     "output_type": "execute_result"
    }
   ],
   "source": [
    "num = [1,2,3,4,5,6,7,8,9,0]\n",
    "[n for n in num if n%2 ==0]"
   ]
  },
  {
   "cell_type": "code",
   "execution_count": null,
   "id": "bdd655dc-7fcb-4147-9261-09714b1cd345",
   "metadata": {},
   "outputs": [],
   "source": []
  }
 ],
 "metadata": {
  "kernelspec": {
   "display_name": "Python 3 (ipykernel)",
   "language": "python",
   "name": "python3"
  },
  "language_info": {
   "codemirror_mode": {
    "name": "ipython",
    "version": 3
   },
   "file_extension": ".py",
   "mimetype": "text/x-python",
   "name": "python",
   "nbconvert_exporter": "python",
   "pygments_lexer": "ipython3",
   "version": "3.12.5"
  }
 },
 "nbformat": 4,
 "nbformat_minor": 5
}
