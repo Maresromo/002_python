{
 "cells": [
  {
   "cell_type": "markdown",
   "id": "ea4a0240-8032-4730-ae8c-f23bca45043a",
   "metadata": {},
   "source": [
    "## if"
   ]
  },
  {
   "cell_type": "markdown",
   "id": "f39a8e21-9999-4da3-a6bf-cdb72883eb6b",
   "metadata": {},
   "source": [
    "if CONDICION:\n",
    "\n",
    "    aqui van las ordenes que se ejecutan si la condicion es cierta\n",
    "\n",
    "\n",
    "La ejecucion de esta instruccion es la siguiente: \n",
    "\n",
    "La condicion se evalua siempre. Si el resultado es True, se ejecuta el bloque de sentencias. Si el resultado es False no se ejecuta el bloque de sentencias."
   ]
  },
  {
   "cell_type": "code",
   "execution_count": 1,
   "id": "8a18a8b6-283d-4b4b-9a78-7a7617c691a6",
   "metadata": {},
   "outputs": [
    {
     "name": "stdout",
     "output_type": "stream",
     "text": [
      "x es menor que 20\n",
      "hola\n"
     ]
    }
   ],
   "source": [
    "x = 19\n",
    "if x < 20:\n",
    "    print(\"x es menor que 20\")\n",
    "print(\"hola\")"
   ]
  },
  {
   "cell_type": "markdown",
   "id": "123e9813-20f8-4f10-ad94-88b22e38e34b",
   "metadata": {},
   "source": [
    "Si la condicion es verdadera, se hace lo del bloque y lo que está fuera (no indentado), pero si es falsa solo se hace lo que está fuera del bloque"
   ]
  },
  {
   "cell_type": "code",
   "execution_count": 2,
   "id": "bcb21d4a-4bbf-455d-bd25-2e948647e5c2",
   "metadata": {},
   "outputs": [],
   "source": [
    "valores = [1,2,3,4,6]\n",
    "if 5 in valores:\n",
    "    print(\"si\")"
   ]
  },
  {
   "cell_type": "markdown",
   "id": "08626108-2955-4005-a030-21aff88aa502",
   "metadata": {},
   "source": [
    "En este caso revisa si el valor se encuentra en la lista "
   ]
  },
  {
   "cell_type": "markdown",
   "id": "815e464d-18d5-41ae-9e9f-6efe5210a788",
   "metadata": {},
   "source": [
    "## if else \n",
    "if condición: \n",
    "    Orden a ejecutarse si la condicion es cierta\n",
    "else: \n",
    "    Si la priemra condicion no se cumple, se cumplirá esta orden"
   ]
  },
  {
   "cell_type": "code",
   "execution_count": 3,
   "id": "19f0d3a6-dea6-423e-a38f-b10ddd07a563",
   "metadata": {},
   "outputs": [
    {
     "name": "stdout",
     "output_type": "stream",
     "text": [
      "mayor que 3\n",
      "El numero es \n"
     ]
    }
   ],
   "source": [
    "n = 5\n",
    "if n < 3:\n",
    "    print(\"menor que 3\")\n",
    "else:\n",
    "    print(\"mayor que 3\")\n",
    "print(\"El numero es \")"
   ]
  },
  {
   "cell_type": "markdown",
   "id": "a28e57fa-0572-4370-961e-359adcaab00a",
   "metadata": {},
   "source": [
    "También se pueden poner varias opciones con\n",
    "if condicion1:\n",
    "    Algo\n",
    "elif cond2:\n",
    "    Algo2\n",
    "elif cond3:\n",
    "    Algo3\n",
    "else:\n",
    "    Algo 4 si no se cumple ninguna de las anteriores\n"
   ]
  },
  {
   "cell_type": "code",
   "execution_count": 4,
   "id": "f9c607a2-e7a3-4534-9aca-08f4955e028a",
   "metadata": {},
   "outputs": [
    {
     "name": "stdout",
     "output_type": "stream",
     "text": [
      "menor a 2\n"
     ]
    }
   ],
   "source": [
    "x = 1\n",
    "if x < 2:\n",
    "    print(\"menor a 2\")\n",
    "elif x > 2:\n",
    "    print(\"mayor a 2\")\n",
    "else:\n",
    "    print(\"es 2\")"
   ]
  },
  {
   "cell_type": "markdown",
   "id": "520a6849-d3f9-46e0-a741-4552f733024f",
   "metadata": {},
   "source": [
    "También se pueden tener if anidados"
   ]
  },
  {
   "cell_type": "code",
   "execution_count": 5,
   "id": "8cf129ee-10f5-4fdd-a3a5-f369fa6ab578",
   "metadata": {},
   "outputs": [
    {
     "name": "stdout",
     "output_type": "stream",
     "text": [
      "menor a 2\n",
      "mayor a 1\n"
     ]
    }
   ],
   "source": [
    "x = 1.5\n",
    "if x < 2:\n",
    "    print(\"menor a 2\")\n",
    "    if x > 1:\n",
    "        print(\"mayor a 1\")\n",
    "else:\n",
    "    print(\"es 2\")"
   ]
  },
  {
   "cell_type": "markdown",
   "id": "88dab5f0-73e5-4dad-bafa-6f9ae9cc6af8",
   "metadata": {},
   "source": [
    "También se puede hacer mas compacto con las tablas de control"
   ]
  },
  {
   "cell_type": "code",
   "execution_count": 6,
   "id": "b4667746-46ea-455b-aefb-778ec4aa6785",
   "metadata": {},
   "outputs": [
    {
     "name": "stdout",
     "output_type": "stream",
     "text": [
      "x es menor a 2 y mayor a 1\n"
     ]
    }
   ],
   "source": [
    "x = 1.9\n",
    "if (x < 2) and (x > 1):\n",
    "    print(\"x es menor a 2 y mayor a 1\")\n",
    "else:\n",
    "    print(\"a no se\")"
   ]
  },
  {
   "cell_type": "code",
   "execution_count": 7,
   "id": "4a7c47fe-4750-4663-af5a-b37b2391b163",
   "metadata": {},
   "outputs": [
    {
     "name": "stdout",
     "output_type": "stream",
     "text": [
      "X está fuera del rango de 0 a 10\n"
     ]
    }
   ],
   "source": [
    "x = 11\n",
    "if (x < 0) or (x > 10):\n",
    "    print(\"X está fuera del rango de 0 a 10\")"
   ]
  },
  {
   "cell_type": "markdown",
   "id": "c8df039d-c576-47a4-8ed3-4048f78efb1c",
   "metadata": {},
   "source": [
    "## for\n",
    "for es un bucle que repite instrucciones (cuerpo de bucle) un numero determinado de veces (iteraciones) o hasta que se cumpla una condición\n",
    "\n",
    "No es necesario definir la variable de control antes del bucle, aunque se puede utilizar como variable de cointrol una variable ya definida en el programa"
   ]
  },
  {
   "cell_type": "markdown",
   "id": "0544e383-d66d-467d-9255-2cbe84d33214",
   "metadata": {},
   "source": [
    "for variable in elemento iterable (lista, cadena, rango, etc.):\n",
    "    cuerpo del bucle\n",
    "Aqui se pueden poner cosas que se corran cuando termine el ciclo for"
   ]
  },
  {
   "cell_type": "markdown",
   "id": "e3680f2b-e41a-4496-b204-5d639205e5d1",
   "metadata": {},
   "source": [
    "El cuerpo del bucle se ejecuta tantas veces como elementos tenga el el elemnto recorrible"
   ]
  },
  {
   "cell_type": "code",
   "execution_count": 8,
   "id": "2e3c3462-91e7-4f19-aa7e-83cb1634675f",
   "metadata": {},
   "outputs": [
    {
     "name": "stdout",
     "output_type": "stream",
     "text": [
      "H\n",
      "O\n",
      "L\n",
      "A\n",
      " \n",
      "P\n",
      "E\n",
      "L\n",
      "U\n",
      "C\n",
      "H\n",
      "E\n"
     ]
    }
   ],
   "source": [
    "mensaje = \"hola peluche\"\n",
    "\n",
    "for letra in mensaje:\n",
    "    print (letra.upper())"
   ]
  },
  {
   "cell_type": "code",
   "execution_count": 9,
   "id": "90fc93d6-5ee0-4d8c-8087-ed76debded51",
   "metadata": {},
   "outputs": [
    {
     "name": "stdout",
     "output_type": "stream",
     "text": [
      "1\n",
      "2\n",
      "3\n",
      "4\n",
      "5\n",
      "6\n",
      "7\n",
      "8\n",
      "9\n",
      "ya acabe\n"
     ]
    }
   ],
   "source": [
    "for x in (1,2,3,4,5,6,7,8,9):\n",
    "    print(x)\n",
    "print(\"ya acabe\")"
   ]
  },
  {
   "cell_type": "markdown",
   "id": "0066b09e-e8d7-4785-bad7-8bc9ad1a97a4",
   "metadata": {},
   "source": [
    "### Range \n",
    "La funcion range() retorna una sucesión de nùmeros enteros"
   ]
  },
  {
   "cell_type": "code",
   "execution_count": 10,
   "id": "0035d55c-34ec-4776-a9fc-00f2199873cf",
   "metadata": {},
   "outputs": [
    {
     "name": "stdout",
     "output_type": "stream",
     "text": [
      "0\n",
      "1\n",
      "2\n",
      "3\n",
      "4\n"
     ]
    }
   ],
   "source": [
    "for i in range(5):\n",
    "    print(i)"
   ]
  },
  {
   "cell_type": "markdown",
   "id": "59736250-ec29-4c2a-8eaf-2e47030c2f0d",
   "metadata": {},
   "source": [
    "También podemos usar range(x,y,z) donde x = limite inferior, y = lim superior, z = los pasos que da"
   ]
  },
  {
   "cell_type": "code",
   "execution_count": 23,
   "id": "8bcd859e-3332-48cf-b9a9-2f5e1f6778f5",
   "metadata": {},
   "outputs": [
    {
     "name": "stdout",
     "output_type": "stream",
     "text": [
      "0\n",
      "2\n",
      "4\n",
      "6\n",
      "8\n"
     ]
    }
   ],
   "source": [
    "for i in range(0,10,2):\n",
    "    print(i)"
   ]
  },
  {
   "cell_type": "markdown",
   "id": "91f04a29-0107-40dd-af0c-b2a8a31a83d4",
   "metadata": {},
   "source": [
    "El rango puede ser obtenido como una variable, por ejemplo:"
   ]
  },
  {
   "cell_type": "code",
   "execution_count": 29,
   "id": "ea2c8869-0f03-4eec-8f34-1ebe87e8c87c",
   "metadata": {},
   "outputs": [
    {
     "name": "stdout",
     "output_type": "stream",
     "text": [
      "0 H\n",
      "1 o\n",
      "2 l\n",
      "3 a\n",
      "4  \n",
      "5 P\n",
      "6 e\n",
      "7 l\n",
      "8 u\n",
      "9 c\n",
      "10 h\n",
      "11 e\n"
     ]
    }
   ],
   "source": [
    "mensaje = \"Hola Peluche\"\n",
    "z = len(mensaje)\n",
    "for i in range(z):\n",
    "    print(i,mensaje[i])"
   ]
  },
  {
   "cell_type": "code",
   "execution_count": 15,
   "id": "fc496865-ff59-46fd-b450-e0639ba700fa",
   "metadata": {},
   "outputs": [],
   "source": [
    "texto = \"Energy is the ability to do work Energy comes in different forms: Heat (thermal)Light (radiant)Motion (kinetic) ElectricalChemicalNuclear energy Gravitational People use energy for everything from walking to sending astronauts into space. There are two types of energy:Stored (potential) energy  Working (kinetic) energy For example, the food a person eats contains chemical energy, and a person's body stores this energy until he or she uses it as kinetic energy during work or play. Energy sources can be categorized as renewable or nonrenewable When people use electricity in their homes, the electrical power is probably generated by burning coal or natural gas, by a nuclear reaction, or by a hydroelectric plant on a river, to name just a few sources. When people fill up a car’s gasoline tank, the energy source is petroleum (gasoline) refined from crude oil and may include fuel ethanol made by growing and processing corn. Coal, natural gas, nuclear, hydropower, petroleum, and ethanol are called energy sources. Energy sources are divided into two groups: Renewable (an energy source that can be easily replenished) Nonrenewable (an energy source that cannot be easily replenished) Renewable and nonrenewable energy sources can be used as primary energy sources to produce useful energy such as heat or used to produce secondary energy sources such as electricity.\""
   ]
  },
  {
   "cell_type": "markdown",
   "id": "7ae2f5db-d65c-488f-86a9-cb6e7d41034e",
   "metadata": {},
   "source": [
    "Aca queremos encontrar la ubicacion de cada vez que se menciona la palabra energy en un texto"
   ]
  },
  {
   "cell_type": "code",
   "execution_count": 19,
   "id": "3fcf1cae-a867-4265-91e7-68fc25fdd838",
   "metadata": {
    "scrolled": true
   },
   "outputs": [
    {
     "name": "stdout",
     "output_type": "stream",
     "text": [
      "La palabra energy se repite 20 veces y la a posición de la primer letra es: \n",
      "0\n",
      "33\n",
      "138\n",
      "170\n",
      "262\n",
      "288\n",
      "314\n",
      "375\n",
      "415\n",
      "457\n",
      "485\n",
      "805\n",
      "1006\n",
      "1022\n",
      "1080\n",
      "1143\n",
      "1219\n",
      "1257\n",
      "1290\n",
      "1339\n"
     ]
    }
   ],
   "source": [
    "z = texto.lower().count(\"energy\")\n",
    "y = 0\n",
    "print(\"La palabra energy se repite {} veces y la a posición de la primer letra es: \".format(z))\n",
    "for i in range(z):\n",
    "    x = texto[y:-1].lower().find(\"energy\")\n",
    "    y = x + y + 1\n",
    "    print(y-1)"
   ]
  },
  {
   "cell_type": "code",
   "execution_count": 31,
   "id": "650c8334-8243-4c3b-9293-aa1715b15b52",
   "metadata": {},
   "outputs": [
    {
     "data": {
      "text/plain": [
       "'energy sources. Energy sources are divided into two groups: Renewable (an energy source that can be easily replenished) Nonrenewable (an energy source that cannot be easily replenished) Renewable and nonrenewable energy sources can be used as primary energy sources to produce useful energy such as heat or used to produce secondary energy sources such as electricity'"
      ]
     },
     "execution_count": 31,
     "metadata": {},
     "output_type": "execute_result"
    }
   ],
   "source": [
    "texto[1006:-1]"
   ]
  },
  {
   "cell_type": "markdown",
   "id": "bd94a596-ad56-49cb-bd20-ec7c0e0e048b",
   "metadata": {},
   "source": [
    "### while\n",
    "El ciclo while nos permite realizar multiples iteraciones basándonos en el resultado de una expresió lógica que puede tenrr como resultado un valor True o Flase\n",
    "\n",
    "while condición:\n",
    "\n",
    "    cuerpo del bucle"
   ]
  },
  {
   "cell_type": "code",
   "execution_count": 2,
   "id": "0165b4ad-bb95-4969-9c72-6e616c1897a9",
   "metadata": {},
   "outputs": [
    {
     "name": "stdout",
     "output_type": "stream",
     "text": [
      "1\n",
      "2\n",
      "3\n",
      "4\n",
      "5\n",
      "6\n",
      "7\n",
      "8\n",
      "9\n",
      "10\n"
     ]
    }
   ],
   "source": [
    "n = 1\n",
    "while(n <=10):\n",
    "    print(n)\n",
    "    n=n+1"
   ]
  },
  {
   "cell_type": "markdown",
   "id": "f40db50c-529e-409c-abae-467a5726e5e6",
   "metadata": {},
   "source": [
    "### break\n",
    "Nos permite cerrar un bucle, se pone después de una condicion if "
   ]
  },
  {
   "cell_type": "code",
   "execution_count": 5,
   "id": "8cf8c0df-704a-4746-a0ae-2bd5f7adf884",
   "metadata": {},
   "outputs": [
    {
     "name": "stdout",
     "output_type": "stream",
     "text": [
      "El num es 0\n",
      "El num es 1\n",
      "El num es 2\n",
      "El num es 3\n",
      "El num es 4\n",
      "hasta aqui llegaste 5\n"
     ]
    }
   ],
   "source": [
    "n = 0\n",
    "\n",
    "for n in range(10):\n",
    "    if n == 5:\n",
    "        print(\"hasta aqui llegaste {}\".format(n))\n",
    "        break\n",
    "    print(\"El num es {}\".format(n))\n",
    "          \n",
    "    "
   ]
  },
  {
   "cell_type": "markdown",
   "id": "e3748c42-db21-4d9b-b38d-7709cfcd8225",
   "metadata": {},
   "source": [
    "## continue\n",
    "Nos permite saltarnos pasos en alguna iteracion "
   ]
  },
  {
   "cell_type": "code",
   "execution_count": 6,
   "id": "b542a057-3ae3-43c3-91f2-1aa17fcdd2d7",
   "metadata": {},
   "outputs": [
    {
     "name": "stdout",
     "output_type": "stream",
     "text": [
      "El num es 0\n",
      "El num es 1\n",
      "El num es 2\n",
      "El num es 3\n",
      "El num es 4\n",
      "hasta aqui llegaste 5\n",
      "El num es 6\n",
      "El num es 7\n",
      "El num es 8\n",
      "El num es 9\n"
     ]
    }
   ],
   "source": [
    "n = 0\n",
    "\n",
    "for n in range(10):\n",
    "    if n == 5:\n",
    "        print(\"hasta aqui llegaste {}\".format(n))\n",
    "        continue\n",
    "    print(\"El num es {}\".format(n))"
   ]
  },
  {
   "cell_type": "markdown",
   "id": "5284ad9e-2290-4c39-8653-6ce1e5646646",
   "metadata": {},
   "source": [
    "### pass\n",
    "Sirve para cuando no sabemos que ordenes queremos poner"
   ]
  },
  {
   "cell_type": "code",
   "execution_count": 7,
   "id": "23bc3baa-d94f-4377-9bb0-7d4bef03973f",
   "metadata": {},
   "outputs": [
    {
     "name": "stdout",
     "output_type": "stream",
     "text": [
      "aun no se que hacer\n"
     ]
    }
   ],
   "source": [
    "if 2 < 4:\n",
    "    pass\n",
    "\n",
    "print(\"aun no se que hacer\")"
   ]
  },
  {
   "cell_type": "code",
   "execution_count": 9,
   "id": "7cc0a9de-1b67-4014-8980-5a913be26b63",
   "metadata": {},
   "outputs": [
    {
     "name": "stdout",
     "output_type": "stream",
     "text": [
      "El num es 0\n",
      "El num es 1\n",
      "El num es 2\n",
      "El num es 3\n",
      "El num es 4\n",
      "El num es 5\n",
      "El num es 6\n",
      "El num es 7\n",
      "El num es 8\n",
      "El num es 9\n"
     ]
    }
   ],
   "source": [
    "n = 0\n",
    "\n",
    "for n in range(10):\n",
    "    if n == 5:\n",
    "       pass\n",
    "    print(\"El num es {}\".format(n))"
   ]
  },
  {
   "cell_type": "code",
   "execution_count": null,
   "id": "79980e53-40e0-44e6-bacf-915dacae980b",
   "metadata": {},
   "outputs": [],
   "source": []
  }
 ],
 "metadata": {
  "kernelspec": {
   "display_name": "Python 3 (ipykernel)",
   "language": "python",
   "name": "python3"
  },
  "language_info": {
   "codemirror_mode": {
    "name": "ipython",
    "version": 3
   },
   "file_extension": ".py",
   "mimetype": "text/x-python",
   "name": "python",
   "nbconvert_exporter": "python",
   "pygments_lexer": "ipython3",
   "version": "3.11.6"
  }
 },
 "nbformat": 4,
 "nbformat_minor": 5
}
