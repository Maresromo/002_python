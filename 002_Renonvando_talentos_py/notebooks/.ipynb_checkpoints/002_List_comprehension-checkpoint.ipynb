{
 "cells": [
  {
   "cell_type": "markdown",
   "id": "4925fc4c-5d6f-4634-8cbc-a7eae4e33f0e",
   "metadata": {},
   "source": [
    "Es un método para crear una lista a partir de un for o para modificar una lsita"
   ]
  },
  {
   "cell_type": "code",
   "execution_count": 1,
   "id": "464ca0de-ea09-4cf3-a7a7-64c8b7cc8f49",
   "metadata": {},
   "outputs": [],
   "source": [
    "colores = [\"blanco\",\"rojo\",\"azul\",\"morado\",\"verde\"]"
   ]
  },
  {
   "cell_type": "markdown",
   "id": "ece41bd8-ea3b-4289-9481-57693d14945e",
   "metadata": {},
   "source": [
    "Antes le haciamso así"
   ]
  },
  {
   "cell_type": "code",
   "execution_count": 2,
   "id": "f0d002c6-e6aa-4952-af0e-453a9a3ead47",
   "metadata": {},
   "outputs": [
    {
     "data": {
      "text/plain": [
       "['blanco', 'azul', 'morado']"
      ]
     },
     "execution_count": 2,
     "metadata": {},
     "output_type": "execute_result"
    }
   ],
   "source": [
    "colores_a = []\n",
    "for x in colores:\n",
    "    if \"a\" in x:\n",
    "        colores_a.append(x)\n",
    "colores_a"
   ]
  },
  {
   "cell_type": "markdown",
   "id": "3c9641d6-2238-488d-85f0-7345fac79f09",
   "metadata": {},
   "source": [
    "Pero también le podemos hacer asi"
   ]
  },
  {
   "cell_type": "code",
   "execution_count": 3,
   "id": "c7b8028d-0e57-4e96-acda-eb37974ee61c",
   "metadata": {},
   "outputs": [
    {
     "data": {
      "text/plain": [
       "['blanco', 'azul', 'morado']"
      ]
     },
     "execution_count": 3,
     "metadata": {},
     "output_type": "execute_result"
    }
   ],
   "source": [
    "colores_a = [x for x in colores if \"a\" in x]\n",
    "colores_a"
   ]
  },
  {
   "cell_type": "code",
   "execution_count": 4,
   "id": "3a3b2cae-9bfd-4d5e-a3eb-3f6e35718cee",
   "metadata": {},
   "outputs": [
    {
     "data": {
      "text/plain": [
       "['1-2', '10-11', '3-4', '5-6', '9-10', '7-8']"
      ]
     },
     "execution_count": 4,
     "metadata": {},
     "output_type": "execute_result"
    }
   ],
   "source": [
    "rangos = [\"1-2\",\"10-11\",\"3-4\",\"5-6\",\"9-10\",\"7-8\"]\n",
    "rangos.sort\n",
    "rangos"
   ]
  },
  {
   "cell_type": "markdown",
   "id": "c6567914-e21b-4e2c-8e36-6a56370ebf70",
   "metadata": {},
   "source": [
    "No funciono, entonces podemos:"
   ]
  },
  {
   "cell_type": "code",
   "execution_count": 5,
   "id": "bca0a3b7-00f9-4299-8b80-e53bb508004a",
   "metadata": {},
   "outputs": [
    {
     "data": {
      "text/plain": [
       "['1-2', '10-11', '3-4', '5-6', '9-10', '7-8']"
      ]
     },
     "execution_count": 5,
     "metadata": {},
     "output_type": "execute_result"
    }
   ],
   "source": [
    "# Paso 1 Aqui solo creamos una lista con todos los elementos de la primera\n",
    "rangos_ordenados = [x for x in rangos]\n",
    "rangos_ordenados"
   ]
  },
  {
   "cell_type": "code",
   "execution_count": 6,
   "id": "2084e442-d76a-4d54-ba2b-486a173c95c4",
   "metadata": {},
   "outputs": [
    {
     "data": {
      "text/plain": [
       "[['1', '2'], ['10', '11'], ['3', '4'], ['5', '6'], ['9', '10'], ['7', '8']]"
      ]
     },
     "execution_count": 6,
     "metadata": {},
     "output_type": "execute_result"
    }
   ],
   "source": [
    "# Paso 2 Aca estamos dividiendo cada elemento de la lista a partir del \"-\"\n",
    "rangos_ordenados = [x.split(\"-\") for x in rangos]\n",
    "rangos_ordenados"
   ]
  },
  {
   "cell_type": "code",
   "execution_count": 7,
   "id": "87299c19-6b76-4957-9253-425d961aeea6",
   "metadata": {},
   "outputs": [
    {
     "data": {
      "text/plain": [
       "[1, 10, 3, 5, 9, 7]"
      ]
     },
     "execution_count": 7,
     "metadata": {},
     "output_type": "execute_result"
    }
   ],
   "source": [
    "# Paso 3 Aca nos quedamos con el primer elemento y convertimos los numeros en enteros\n",
    "rangos_ordenados = [int(x.split(\"-\")[0]) for x in rangos]\n",
    "rangos_ordenados"
   ]
  },
  {
   "cell_type": "code",
   "execution_count": 24,
   "id": "43b3fe91-8d5c-49ff-a6a3-e4e8811563ec",
   "metadata": {},
   "outputs": [
    {
     "data": {
      "text/plain": [
       "[[1, 2], [3, 4], [5, 6], [7, 8], [9, 10], [10, 11]]"
      ]
     },
     "execution_count": 24,
     "metadata": {},
     "output_type": "execute_result"
    }
   ],
   "source": [
    "# Paso 4 Aca formamos una dupla a partir de cada sublista que se habia creado en el paso 3\n",
    "rangos_ordenados = [[int(x.split(\"-\")[0]),int(x.split(\"-\")[1])] for x in rangos]\n",
    "rangos_ordenados.sort()\n",
    "rangos_ordenados"
   ]
  },
  {
   "cell_type": "markdown",
   "id": "d35e1e05-0c3b-44e6-85c7-df08ac9ef9dc",
   "metadata": {},
   "source": [
    "De la forma tradicional (no me salio)"
   ]
  },
  {
   "cell_type": "code",
   "execution_count": 9,
   "id": "08229e10-846e-4943-8207-7aa3170faf15",
   "metadata": {},
   "outputs": [
    {
     "data": {
      "text/plain": [
       "['1-2', '10-11', '3-4', '5-6', '9-10', '7-8']"
      ]
     },
     "execution_count": 9,
     "metadata": {},
     "output_type": "execute_result"
    }
   ],
   "source": [
    "rangos = [\"1-2\",\"10-11\",\"3-4\",\"5-6\",\"9-10\",\"7-8\"]\n",
    "rangos.sort\n",
    "rangos"
   ]
  },
  {
   "cell_type": "code",
   "execution_count": 11,
   "id": "e49a115f-38ff-4a47-a1c6-e990ff5e0ba3",
   "metadata": {},
   "outputs": [
    {
     "name": "stdout",
     "output_type": "stream",
     "text": [
      "[[1, 2, 10, 11, 3, 4, 5, 6, 9, 10, 7, 8], [1, 2, 10, 11, 3, 4, 5, 6, 9, 10, 7, 8], [1, 2, 10, 11, 3, 4, 5, 6, 9, 10, 7, 8], [1, 2, 10, 11, 3, 4, 5, 6, 9, 10, 7, 8], [1, 2, 10, 11, 3, 4, 5, 6, 9, 10, 7, 8], [1, 2, 10, 11, 3, 4, 5, 6, 9, 10, 7, 8]]\n"
     ]
    }
   ],
   "source": [
    "orden2 = []\n",
    "a = []\n",
    "b = []\n",
    "for x in orden:\n",
    "    for y in x:\n",
    "        y = int(y)\n",
    "        a.append(y)\n",
    "        # print(a)\n",
    "    b.append(a)\n",
    "print(b)"
   ]
  },
  {
   "cell_type": "code",
   "execution_count": 23,
   "id": "11336240-5142-4c67-873b-dca1d24408db",
   "metadata": {},
   "outputs": [
    {
     "data": {
      "text/plain": [
       "[1, 2, 3, 4, 5]"
      ]
     },
     "execution_count": 23,
     "metadata": {},
     "output_type": "execute_result"
    }
   ],
   "source": [
    "n = [\"1\",\"2\",\"3\",\"4\",\"5\"]\n",
    "n_int = [int(x) for x in n]\n",
    "n_int"
   ]
  },
  {
   "cell_type": "code",
   "execution_count": 2,
   "id": "232ca03c-038b-477e-ab8d-af50ed84c340",
   "metadata": {},
   "outputs": [],
   "source": [
    "# %load hola.py.txt\n",
    "print(\"Hola peluche\")\n",
    "for i in range(19):\n",
    "    print(i)"
   ]
  },
  {
   "cell_type": "markdown",
   "id": "7680eacb-c811-482e-9c04-b441c1824f0b",
   "metadata": {},
   "source": [
    "Esto llama al archivo y lo comenta pero no lo ejecuta para poder editarlo "
   ]
  },
  {
   "cell_type": "markdown",
   "id": "dcab8d7d-385b-4908-8a03-e1b457693ea9",
   "metadata": {},
   "source": [
    "Me quedé en el minuto 6:25"
   ]
  },
  {
   "cell_type": "code",
   "execution_count": null,
   "id": "6bab8a83-fbf4-43f0-a83b-35d837bd8322",
   "metadata": {},
   "outputs": [],
   "source": []
  }
 ],
 "metadata": {
  "kernelspec": {
   "display_name": "Python 3 (ipykernel)",
   "language": "python",
   "name": "python3"
  },
  "language_info": {
   "codemirror_mode": {
    "name": "ipython",
    "version": 3
   },
   "file_extension": ".py",
   "mimetype": "text/x-python",
   "name": "python",
   "nbconvert_exporter": "python",
   "pygments_lexer": "ipython3",
   "version": "3.11.6"
  }
 },
 "nbformat": 4,
 "nbformat_minor": 5
}
