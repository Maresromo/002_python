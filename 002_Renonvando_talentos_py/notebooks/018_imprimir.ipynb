{
 "cells": [
  {
   "cell_type": "markdown",
   "id": "fbdb1314-379e-40c7-99fc-eb4934a7d96b",
   "metadata": {},
   "source": [
    "print(cadena) Nos ayuda a imprimir los elementos dentro de una cadena \n",
    "print(algo+algo) es para imprimir una concatenación"
   ]
  },
  {
   "cell_type": "code",
   "execution_count": 2,
   "id": "a26ee39d-e57a-4c8b-8072-e04aab9ab92d",
   "metadata": {},
   "outputs": [
    {
     "name": "stdout",
     "output_type": "stream",
     "text": [
      "hola mundo\n"
     ]
    }
   ],
   "source": [
    "print(\"hola\"+\" mundo\")"
   ]
  },
  {
   "cell_type": "markdown",
   "id": "2c5e8982-76f7-4c5a-9935-9cba0f06fca1",
   "metadata": {},
   "source": [
    "Tambien se pueden concatenar variables siempre que sean del tipo string"
   ]
  },
  {
   "cell_type": "code",
   "execution_count": 4,
   "id": "ee4d9bb3-245d-4c58-a917-0826c3b4d794",
   "metadata": {},
   "outputs": [
    {
     "name": "stdout",
     "output_type": "stream",
     "text": [
      "hola peluche\n"
     ]
    }
   ],
   "source": [
    "p = \" peluche\"\n",
    "print(\"hola\" + p)"
   ]
  },
  {
   "cell_type": "markdown",
   "id": "2b4299f2-e32c-45c6-a4bb-d24c09b2182c",
   "metadata": {},
   "source": [
    "Para imrpimir con print cadenas y numeros es necesario porner una coma "
   ]
  },
  {
   "cell_type": "code",
   "execution_count": 5,
   "id": "14077304-33e9-48ba-8327-1623ad56419c",
   "metadata": {},
   "outputs": [
    {
     "name": "stdout",
     "output_type": "stream",
     "text": [
      " peluche apestoso  21\n"
     ]
    }
   ],
   "source": [
    "print( p +\" apestoso \",21)"
   ]
  },
  {
   "cell_type": "markdown",
   "id": "173f4f24-9760-4426-af04-c29ef7d10e45",
   "metadata": {},
   "source": [
    "Tambièn se puede imprimir con .format()"
   ]
  },
  {
   "cell_type": "code",
   "execution_count": 9,
   "id": "6463901c-a34c-48d7-9afe-33afa9640de4",
   "metadata": {},
   "outputs": [
    {
     "name": "stdout",
     "output_type": "stream",
     "text": [
      "Erick está practicando voley en el IER\n"
     ]
    }
   ],
   "source": [
    "mi_nombre = \"Erick\"\n",
    "mi_deporte = \"voley\"\n",
    "mi_lugar = \"el IER\"\n",
    "\n",
    "texto = \"{nombre} está practicando {deporte} en {lugar}\"\n",
    "\n",
    "print(texto.format(nombre=mi_nombre, deporte=mi_deporte, lugar=mi_lugar))"
   ]
  },
  {
   "cell_type": "code",
   "execution_count": 11,
   "id": "f33c0811-303d-4bf0-897f-7ed985801028",
   "metadata": {},
   "outputs": [
    {
     "name": "stdout",
     "output_type": "stream",
     "text": [
      "Erick está practicando voley en el IER\n"
     ]
    }
   ],
   "source": [
    "#Esto es lo mismo que, en ambos no importa el orden de las variables despues del .format\n",
    "\n",
    "print(\"{nombre} está practicando {deporte} en {lugar}\".format(deporte=mi_deporte, nombre=mi_nombre,  lugar=mi_lugar))"
   ]
  },
  {
   "cell_type": "code",
   "execution_count": 12,
   "id": "ed35b672-fe31-4792-b744-d4cf4bc5a318",
   "metadata": {},
   "outputs": [
    {
     "name": "stdout",
     "output_type": "stream",
     "text": [
      "Erick está practicando voley en el IER\n"
     ]
    }
   ],
   "source": [
    "#Si no ponemos una variable entre {}, el orden si importará\n",
    "\n",
    "print(\"{} está practicando {} en {}\".format(\"Erick\", \"voley\", \"el IER\"))\n"
   ]
  },
  {
   "cell_type": "raw",
   "id": "cf5c1a3e-e322-4f29-82ba-d45a5f671e38",
   "metadata": {},
   "source": [
    "Otra forma es así (imagen 1)"
   ]
  },
  {
   "cell_type": "code",
   "execution_count": 6,
   "id": "30840349-3792-451c-aa33-799df61addd2",
   "metadata": {},
   "outputs": [
    {
     "name": "stdout",
     "output_type": "stream",
     "text": [
      "El valor de pi es: 3.14\n"
     ]
    }
   ],
   "source": [
    "valor = 3.14159\n",
    "print(\"El valor de pi es: {:.2f}\".format(valor))"
   ]
  },
  {
   "cell_type": "markdown",
   "id": "5d77c2f2-4191-4e43-9a43-027d80cd4ef7",
   "metadata": {},
   "source": [
    "Tambien se pueden realizar operaciones al momento de imprimir los resultados "
   ]
  },
  {
   "cell_type": "code",
   "execution_count": 7,
   "id": "7a5c0521-6568-408f-b47c-ee00b1194287",
   "metadata": {},
   "outputs": [
    {
     "name": "stdout",
     "output_type": "stream",
     "text": [
      "El valor de 2pi es: 6.28\n"
     ]
    }
   ],
   "source": [
    "valor = 3.14159\n",
    "print(\"El valor de 2pi es: {:.2f}\".format(valor*2)) "
   ]
  },
  {
   "cell_type": "markdown",
   "id": "63fc1c3a-6c27-45d4-b34b-729622b65461",
   "metadata": {},
   "source": [
    "La forma más sencilla es print(f\"Texto{variable}text\")"
   ]
  },
  {
   "cell_type": "code",
   "execution_count": 9,
   "id": "65979236-9901-4f72-a7cc-cb05e648ac14",
   "metadata": {},
   "outputs": [
    {
     "name": "stdout",
     "output_type": "stream",
     "text": [
      "El la 9g hay 15.0 hombres y 11 mujeres\n"
     ]
    }
   ],
   "source": [
    "h = 10\n",
    "m = 11\n",
    "\n",
    "print(f\"El la 9g hay {1.5*h} hombres y {m} mujeres\")"
   ]
  },
  {
   "cell_type": "code",
   "execution_count": null,
   "id": "34532441-f8e3-4038-8a87-98b525c7ff0b",
   "metadata": {},
   "outputs": [],
   "source": []
  }
 ],
 "metadata": {
  "kernelspec": {
   "display_name": "Python 3 (ipykernel)",
   "language": "python",
   "name": "python3"
  },
  "language_info": {
   "codemirror_mode": {
    "name": "ipython",
    "version": 3
   },
   "file_extension": ".py",
   "mimetype": "text/x-python",
   "name": "python",
   "nbconvert_exporter": "python",
   "pygments_lexer": "ipython3",
   "version": "3.11.6"
  }
 },
 "nbformat": 4,
 "nbformat_minor": 5
}
