{
 "cells": [
  {
   "cell_type": "markdown",
   "id": "80d45817-4c0a-43d8-9ea2-9543a7199613",
   "metadata": {},
   "source": [
    "las tuplas son listas que no pueden modificarse después de su creación "
   ]
  },
  {
   "cell_type": "code",
   "execution_count": 10,
   "id": "32efdb1c-0a2d-45a8-a608-d567991ecedf",
   "metadata": {},
   "outputs": [],
   "source": [
    " numT = (1,2,3,4,5,6,7,8,9,10)"
   ]
  },
  {
   "cell_type": "code",
   "execution_count": 13,
   "id": "8a17526e-297e-4b08-ace9-f8680c3a412a",
   "metadata": {},
   "outputs": [],
   "source": [
    "#dir (numT)"
   ]
  },
  {
   "cell_type": "markdown",
   "id": "fa9518b0-4320-4e0c-a0bc-7eba6acb4288",
   "metadata": {},
   "source": [
    "Las tuplas se usan para tener listas de elementos que no deseas que se pùedan cambiar, aunque si se puede cambiar el tipo de tupla a lista y viceversa"
   ]
  },
  {
   "cell_type": "code",
   "execution_count": 14,
   "id": "07295017-bd29-4808-b1f4-d7bf80914f13",
   "metadata": {},
   "outputs": [],
   "source": [
    "num = (1,2,3,4,5,6,\"hola\")"
   ]
  },
  {
   "cell_type": "code",
   "execution_count": 15,
   "id": "032b0701-2996-4245-99d3-07870bceed67",
   "metadata": {},
   "outputs": [
    {
     "data": {
      "text/plain": [
       "tuple"
      ]
     },
     "execution_count": 15,
     "metadata": {},
     "output_type": "execute_result"
    }
   ],
   "source": [
    "type(num)"
   ]
  },
  {
   "cell_type": "code",
   "execution_count": 16,
   "id": "a61febb6-d053-4679-9194-b31530a2f928",
   "metadata": {},
   "outputs": [
    {
     "data": {
      "text/plain": [
       "[1, 2, 3, 4, 5, 6, 'hola']"
      ]
     },
     "execution_count": 16,
     "metadata": {},
     "output_type": "execute_result"
    }
   ],
   "source": [
    "numL = list(num)\n",
    "numL"
   ]
  },
  {
   "cell_type": "code",
   "execution_count": 18,
   "id": "600952e2-c470-42ef-8d8c-62acaf8b47a7",
   "metadata": {},
   "outputs": [
    {
     "data": {
      "text/plain": [
       "(1, 2, 3, 4, 5, 6, 'hola')"
      ]
     },
     "execution_count": 18,
     "metadata": {},
     "output_type": "execute_result"
    }
   ],
   "source": [
    "numT = tuple(numL)\n",
    "numT"
   ]
  },
  {
   "cell_type": "code",
   "execution_count": null,
   "id": "810e3fd7-e79e-4a03-a29e-e0895897b809",
   "metadata": {},
   "outputs": [],
   "source": []
  }
 ],
 "metadata": {
  "kernelspec": {
   "display_name": "Python 3 (ipykernel)",
   "language": "python",
   "name": "python3"
  },
  "language_info": {
   "codemirror_mode": {
    "name": "ipython",
    "version": 3
   },
   "file_extension": ".py",
   "mimetype": "text/x-python",
   "name": "python",
   "nbconvert_exporter": "python",
   "pygments_lexer": "ipython3",
   "version": "3.11.6"
  }
 },
 "nbformat": 4,
 "nbformat_minor": 5
}
