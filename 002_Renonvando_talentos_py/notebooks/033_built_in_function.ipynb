{
 "cells": [
  {
   "cell_type": "markdown",
   "id": "f7f2326d-344c-41f1-8ad3-b5c71e961213",
   "metadata": {},
   "source": [
    "## Built-in Functions\n",
    "The Python interpreter has a number of functions and types built into it that are always available. They are listed here in alphabetical order.\n",
    "https://docs.python.org/3/library/functions.html\n",
    "\n",
    "### Estas funciones están integradas en python, no necesitamos una libreria para utilizarlas"
   ]
  },
  {
   "cell_type": "markdown",
   "id": "f7d45268-1689-4545-883e-384e11547954",
   "metadata": {},
   "source": [
    "Solo se pueden hacer con elementos, con listas no se puede, es decri, no son iterablres"
   ]
  },
  {
   "cell_type": "code",
   "execution_count": 1,
   "id": "d2373875-dffe-4443-8bea-69debba16b47",
   "metadata": {},
   "outputs": [
    {
     "data": {
      "text/plain": [
       "1"
      ]
     },
     "execution_count": 1,
     "metadata": {},
     "output_type": "execute_result"
    }
   ],
   "source": [
    "abs(-1)"
   ]
  },
  {
   "cell_type": "code",
   "execution_count": 3,
   "id": "50576351-c323-4d51-ab10-e3d9a0afe4a3",
   "metadata": {},
   "outputs": [
    {
     "ename": "TypeError",
     "evalue": "abs() takes exactly one argument (3 given)",
     "output_type": "error",
     "traceback": [
      "\u001b[1;31m---------------------------------------------------------------------------\u001b[0m",
      "\u001b[1;31mTypeError\u001b[0m                                 Traceback (most recent call last)",
      "Cell \u001b[1;32mIn[3], line 1\u001b[0m\n\u001b[1;32m----> 1\u001b[0m \u001b[38;5;28;43mabs\u001b[39;49m\u001b[43m(\u001b[49m\u001b[38;5;241;43m-\u001b[39;49m\u001b[38;5;241;43m1\u001b[39;49m\u001b[43m,\u001b[49m\u001b[38;5;241;43m3\u001b[39;49m\u001b[43m,\u001b[49m\u001b[38;5;241;43m-\u001b[39;49m\u001b[38;5;241;43m2\u001b[39;49m\u001b[43m)\u001b[49m\n\u001b[0;32m      2\u001b[0m \u001b[38;5;66;03m# no se puede\u001b[39;00m\n",
      "\u001b[1;31mTypeError\u001b[0m: abs() takes exactly one argument (3 given)"
     ]
    }
   ],
   "source": [
    "abs(-1,3,-2)\n",
    "# no se puede"
   ]
  },
  {
   "cell_type": "code",
   "execution_count": 6,
   "id": "0387a671-a5d6-45b9-aeb4-3cfde4fcae61",
   "metadata": {},
   "outputs": [
    {
     "data": {
      "text/plain": [
       "[1, 3, 2]"
      ]
     },
     "execution_count": 6,
     "metadata": {},
     "output_type": "execute_result"
    }
   ],
   "source": [
    "n = [-1,3,-2]\n",
    "n_abs = [abs(x) for x in n]\n",
    "n_abs"
   ]
  },
  {
   "cell_type": "code",
   "execution_count": 7,
   "id": "5c7705da-9a5f-44b5-8677-d1a6ac317388",
   "metadata": {},
   "outputs": [
    {
     "data": {
      "text/plain": [
       "(2+1j)"
      ]
     },
     "execution_count": 7,
     "metadata": {},
     "output_type": "execute_result"
    }
   ],
   "source": [
    "# Otro ejemplo, recordar que se puede checar la documentacion con shift + tabulador\n",
    "complex(2,1)"
   ]
  },
  {
   "cell_type": "code",
   "execution_count": 35,
   "id": "5cf75b8e-00e1-4de9-bc8d-53c287267d56",
   "metadata": {},
   "outputs": [
    {
     "data": {
      "text/plain": [
       "[(1+2j), (3+4j), (5+6j), (7+8j), (9+10j), (10+11j)]"
      ]
     },
     "execution_count": 35,
     "metadata": {},
     "output_type": "execute_result"
    }
   ],
   "source": [
    "#Si me quedó\n",
    "Naturales = [[1, 2], [3, 4], [5, 6], [7, 8], [9, 10], [10, 11]]\n",
    "Naturales_separados = []\n",
    "Complejos = []\n",
    "for x in Naturales:\n",
    "    for y in x:\n",
    "        Naturales_separados.append(y)\n",
    "a = len(Naturales_separados)    \n",
    "for z in range(0,a,2): \n",
    "    Complejos.append(complex(Naturales_separados[z],Naturales_separados[z+1]))\n",
    "    # print(z)\n",
    "Complejos"
   ]
  },
  {
   "cell_type": "markdown",
   "id": "fd143515-4593-464a-b866-23bd02549390",
   "metadata": {},
   "source": [
    "### enumerate()\n",
    "Es util para hacer conteo de las iteraciones que se realizan"
   ]
  },
  {
   "cell_type": "code",
   "execution_count": 19,
   "id": "55ee014a-fe8c-4044-8e7c-330a8f7fa148",
   "metadata": {},
   "outputs": [
    {
     "name": "stdout",
     "output_type": "stream",
     "text": [
      "0 1\n",
      "1 2\n",
      "2 3\n",
      "3 4\n",
      "4 5\n",
      "5 6\n",
      "6 7\n",
      "7 8\n",
      "8 9\n"
     ]
    }
   ],
   "source": [
    "for conteo, i in enumerate(range(1,10)):\n",
    "    print(conteo,i)"
   ]
  },
  {
   "cell_type": "markdown",
   "id": "045ec17d-0804-4f2a-b589-a6501343ff52",
   "metadata": {},
   "source": [
    "### help(algo)\n",
    "Da la documentacion de ese algo"
   ]
  },
  {
   "cell_type": "code",
   "execution_count": 21,
   "id": "0f9a43fa-48a7-4f0a-a33c-837017ddf1ae",
   "metadata": {},
   "outputs": [
    {
     "name": "stdout",
     "output_type": "stream",
     "text": [
      "Help on built-in function dir in module builtins:\n",
      "\n",
      "dir(...)\n",
      "    dir([object]) -> list of strings\n",
      "    \n",
      "    If called without an argument, return the names in the current scope.\n",
      "    Else, return an alphabetized list of names comprising (some of) the attributes\n",
      "    of the given object, and of attributes reachable from it.\n",
      "    If the object supplies a method named __dir__, it will be used; otherwise\n",
      "    the default dir() logic is used and returns:\n",
      "      for a module object: the module's attributes.\n",
      "      for a class object:  its attributes, and recursively the attributes\n",
      "        of its bases.\n",
      "      for any other object: its attributes, its class's attributes, and\n",
      "        recursively the attributes of its class's base classes.\n",
      "\n"
     ]
    }
   ],
   "source": [
    "help(dir)"
   ]
  },
  {
   "cell_type": "code",
   "execution_count": 3,
   "id": "a61b9276-67a6-4083-8474-5a981fcc0d66",
   "metadata": {},
   "outputs": [
    {
     "data": {
      "text/plain": [
       "3.1416"
      ]
     },
     "execution_count": 3,
     "metadata": {},
     "output_type": "execute_result"
    }
   ],
   "source": [
    "round(3.141596,ndigits=5)"
   ]
  },
  {
   "cell_type": "markdown",
   "id": "f02634d1-7fd5-4852-bdc6-948326fcb740",
   "metadata": {},
   "source": [
    "### zip()\n",
    "Une dos iterables en una tupla"
   ]
  },
  {
   "cell_type": "code",
   "execution_count": 6,
   "id": "380ce6d3-dd18-4881-b0ff-c1bafaaf531d",
   "metadata": {},
   "outputs": [
    {
     "name": "stdout",
     "output_type": "stream",
     "text": [
      "<zip object at 0x0000020E92E60940>\n"
     ]
    }
   ],
   "source": [
    "n = [\"Xochit\",\"Erick\",\"Jorge\",\"Itzayana\"]\n",
    "a = [\"Corona\",\"Romo\",\"Reyna\"]\n",
    "\n",
    "for nomb_compl in zip(n,a):\n",
    "    print(nomb_compl)"
   ]
  },
  {
   "cell_type": "markdown",
   "id": "5928020e-f602-4477-9d8d-d55277387600",
   "metadata": {},
   "source": [
    "Si un iterable contiene más elementos que el otro, omitirá los ultimos que se habr"
   ]
  },
  {
   "cell_type": "code",
   "execution_count": null,
   "id": "ab119290-8d01-4e8e-a89d-2a68d532d172",
   "metadata": {},
   "outputs": [],
   "source": []
  }
 ],
 "metadata": {
  "kernelspec": {
   "display_name": "Python 3 (ipykernel)",
   "language": "python",
   "name": "python3"
  },
  "language_info": {
   "codemirror_mode": {
    "name": "ipython",
    "version": 3
   },
   "file_extension": ".py",
   "mimetype": "text/x-python",
   "name": "python",
   "nbconvert_exporter": "python",
   "pygments_lexer": "ipython3",
   "version": "3.11.6"
  }
 },
 "nbformat": 4,
 "nbformat_minor": 5
}
