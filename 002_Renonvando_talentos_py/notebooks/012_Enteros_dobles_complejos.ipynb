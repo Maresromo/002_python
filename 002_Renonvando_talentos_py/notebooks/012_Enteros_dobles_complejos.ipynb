{
 "cells": [
  {
   "cell_type": "markdown",
   "id": "2da831c7-5815-4715-889f-3dc4988eb4d9",
   "metadata": {},
   "source": [
    "La división entre numeros int dan pòr resultado flotantes\n",
    "Las operaciones de int con flotante da flotante\n",
    "la operacion % da el reciduo de una división "
   ]
  },
  {
   "cell_type": "code",
   "execution_count": 2,
   "id": "72aa8d70-a440-42a7-b308-bd11f13b0a99",
   "metadata": {},
   "outputs": [],
   "source": [
    "c = 13%5"
   ]
  },
  {
   "cell_type": "code",
   "execution_count": 3,
   "id": "7c8e0de3-db86-40b5-a8a2-d1ecbb3241a0",
   "metadata": {},
   "outputs": [
    {
     "data": {
      "text/plain": [
       "int"
      ]
     },
     "execution_count": 3,
     "metadata": {},
     "output_type": "execute_result"
    }
   ],
   "source": [
    "type (c)"
   ]
  },
  {
   "cell_type": "markdown",
   "id": "0695598b-a0dd-4f35-ab60-efc38d978659",
   "metadata": {},
   "source": [
    "Las operaciones >< dan por resultado boleanos"
   ]
  },
  {
   "cell_type": "code",
   "execution_count": 4,
   "id": "e1017821-553a-4f19-99a5-9ac61e03ed98",
   "metadata": {},
   "outputs": [
    {
     "data": {
      "text/plain": [
       "True"
      ]
     },
     "execution_count": 4,
     "metadata": {},
     "output_type": "execute_result"
    }
   ],
   "source": [
    "3 < 4"
   ]
  },
  {
   "cell_type": "markdown",
   "id": "a8f63032-cdbd-46bf-a747-51a773925156",
   "metadata": {},
   "source": [
    "En los numeros complejos es necesario poner el cociente al lado de la j"
   ]
  },
  {
   "cell_type": "code",
   "execution_count": 5,
   "id": "f024024e-58b2-4b02-82e4-e163554eb0e2",
   "metadata": {},
   "outputs": [
    {
     "data": {
      "text/plain": [
       "(1+1j)"
      ]
     },
     "execution_count": 5,
     "metadata": {},
     "output_type": "execute_result"
    }
   ],
   "source": [
    "1 + 1j"
   ]
  },
  {
   "cell_type": "markdown",
   "id": "2d61207f-73bb-477a-8401-df34fe446fa6",
   "metadata": {},
   "source": [
    "Cuando la operacion de dos numerops complejos da por resultado un numero real, python lo sigue considerando como complejo"
   ]
  },
  {
   "cell_type": "code",
   "execution_count": 8,
   "id": "be689af6-d7f4-4ce2-899b-fd1a0a19b4c6",
   "metadata": {},
   "outputs": [
    {
     "data": {
      "text/plain": [
       "(2+0j)"
      ]
     },
     "execution_count": 8,
     "metadata": {},
     "output_type": "execute_result"
    }
   ],
   "source": [
    "a = (1+1j)*(1-1j)\n",
    "a"
   ]
  },
  {
   "cell_type": "code",
   "execution_count": 9,
   "id": "0d42b999-8301-4301-b6ab-75a95b4a5f42",
   "metadata": {},
   "outputs": [
    {
     "data": {
      "text/plain": [
       "complex"
      ]
     },
     "execution_count": 9,
     "metadata": {},
     "output_type": "execute_result"
    }
   ],
   "source": [
    "type (a)"
   ]
  },
  {
   "cell_type": "code",
   "execution_count": 11,
   "id": "b3338260-ec1b-41ce-92ed-ea2f9533a40b",
   "metadata": {},
   "outputs": [
    {
     "data": {
      "text/plain": [
       "(2+0j)"
      ]
     },
     "execution_count": 11,
     "metadata": {},
     "output_type": "execute_result"
    }
   ],
   "source": [
    "x = 1+1j\n",
    "y = 1-1j\n",
    "z = x*y\n",
    "z"
   ]
  },
  {
   "cell_type": "code",
   "execution_count": null,
   "id": "eff16ac1-6345-467b-9a9e-6f64f3569e86",
   "metadata": {},
   "outputs": [],
   "source": []
  }
 ],
 "metadata": {
  "kernelspec": {
   "display_name": "Python 3 (ipykernel)",
   "language": "python",
   "name": "python3"
  },
  "language_info": {
   "codemirror_mode": {
    "name": "ipython",
    "version": 3
   },
   "file_extension": ".py",
   "mimetype": "text/x-python",
   "name": "python",
   "nbconvert_exporter": "python",
   "pygments_lexer": "ipython3",
   "version": "3.11.6"
  }
 },
 "nbformat": 4,
 "nbformat_minor": 5
}
