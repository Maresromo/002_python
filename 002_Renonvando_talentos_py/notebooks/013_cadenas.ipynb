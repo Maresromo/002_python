{
 "cells": [
  {
   "cell_type": "markdown",
   "id": "4208f6e7-f1b6-4255-9a78-53d083f19abe",
   "metadata": {},
   "source": [
    "El texto se escribe entre comillas, ya sean dobles o sencillas da lo mismo  "
   ]
  },
  {
   "cell_type": "code",
   "execution_count": 3,
   "id": "9d4d1034-da91-4259-85db-13aff0509cfe",
   "metadata": {},
   "outputs": [
    {
     "data": {
      "text/plain": [
       "'hola peluche'"
      ]
     },
     "execution_count": 3,
     "metadata": {},
     "output_type": "execute_result"
    }
   ],
   "source": [
    "f1 = \"hola\"\n",
    "f2 = \"peluche\"\n",
    "\n",
    "f3 = f1 + \" \" + f2\n",
    "f3"
   ]
  },
  {
   "cell_type": "markdown",
   "id": "9de0d146-6040-4638-988e-0fe92f36c5a9",
   "metadata": {},
   "source": [
    "Se pueden hacer operaciones como sumar cadenas"
   ]
  },
  {
   "cell_type": "markdown",
   "id": "ec92ef9c-bcdf-4a14-8bdb-26c0b7abccba",
   "metadata": {},
   "source": [
    "Las cadenas tienen metodos asociados a ellos, para saberlos escribimos dir(frase) "
   ]
  },
  {
   "cell_type": "code",
   "execution_count": 4,
   "id": "94c8f37a-69c7-4998-8b14-54c4f6f573dc",
   "metadata": {},
   "outputs": [
    {
     "data": {
      "text/plain": [
       "['__add__',\n",
       " '__class__',\n",
       " '__contains__',\n",
       " '__delattr__',\n",
       " '__dir__',\n",
       " '__doc__',\n",
       " '__eq__',\n",
       " '__format__',\n",
       " '__ge__',\n",
       " '__getattribute__',\n",
       " '__getitem__',\n",
       " '__getnewargs__',\n",
       " '__getstate__',\n",
       " '__gt__',\n",
       " '__hash__',\n",
       " '__init__',\n",
       " '__init_subclass__',\n",
       " '__iter__',\n",
       " '__le__',\n",
       " '__len__',\n",
       " '__lt__',\n",
       " '__mod__',\n",
       " '__mul__',\n",
       " '__ne__',\n",
       " '__new__',\n",
       " '__reduce__',\n",
       " '__reduce_ex__',\n",
       " '__repr__',\n",
       " '__rmod__',\n",
       " '__rmul__',\n",
       " '__setattr__',\n",
       " '__sizeof__',\n",
       " '__str__',\n",
       " '__subclasshook__',\n",
       " 'capitalize',\n",
       " 'casefold',\n",
       " 'center',\n",
       " 'count',\n",
       " 'encode',\n",
       " 'endswith',\n",
       " 'expandtabs',\n",
       " 'find',\n",
       " 'format',\n",
       " 'format_map',\n",
       " 'index',\n",
       " 'isalnum',\n",
       " 'isalpha',\n",
       " 'isascii',\n",
       " 'isdecimal',\n",
       " 'isdigit',\n",
       " 'isidentifier',\n",
       " 'islower',\n",
       " 'isnumeric',\n",
       " 'isprintable',\n",
       " 'isspace',\n",
       " 'istitle',\n",
       " 'isupper',\n",
       " 'join',\n",
       " 'ljust',\n",
       " 'lower',\n",
       " 'lstrip',\n",
       " 'maketrans',\n",
       " 'partition',\n",
       " 'removeprefix',\n",
       " 'removesuffix',\n",
       " 'replace',\n",
       " 'rfind',\n",
       " 'rindex',\n",
       " 'rjust',\n",
       " 'rpartition',\n",
       " 'rsplit',\n",
       " 'rstrip',\n",
       " 'split',\n",
       " 'splitlines',\n",
       " 'startswith',\n",
       " 'strip',\n",
       " 'swapcase',\n",
       " 'title',\n",
       " 'translate',\n",
       " 'upper',\n",
       " 'zfill']"
      ]
     },
     "execution_count": 4,
     "metadata": {},
     "output_type": "execute_result"
    }
   ],
   "source": [
    "dir (f1)"
   ]
  },
  {
   "cell_type": "markdown",
   "id": "2e6cfe8b-437a-452b-a373-45741f779539",
   "metadata": {},
   "source": [
    "Por ejemplo, texto.upper() regresa el texto convertido a mayusculas\n",
    "             texto.lower() regresa el texto convertido a minusculas"
   ]
  },
  {
   "cell_type": "code",
   "execution_count": 5,
   "id": "442c6890-86cf-4a17-a3e7-198d2213047f",
   "metadata": {},
   "outputs": [
    {
     "data": {
      "text/plain": [
       "'HOLA PELUCHE'"
      ]
     },
     "execution_count": 5,
     "metadata": {},
     "output_type": "execute_result"
    }
   ],
   "source": [
    "f3.upper()"
   ]
  },
  {
   "cell_type": "markdown",
   "id": "96a7ce68-bf98-4b2a-a2a3-c60295cf85d9",
   "metadata": {},
   "source": [
    "Otro ejemplo, texto.capitalize pone la primer letra en mayuscula y las demás en minuscula, esto creando una copia de la variable que esta en cadena"
   ]
  },
  {
   "cell_type": "code",
   "execution_count": 8,
   "id": "eb2740d7-5ab2-4140-867d-231e703f0f6a",
   "metadata": {},
   "outputs": [
    {
     "data": {
      "text/plain": [
       "'Ay mi amor'"
      ]
     },
     "execution_count": 8,
     "metadata": {},
     "output_type": "execute_result"
    }
   ],
   "source": [
    "x = \"AY mI Amor\"\n",
    "x.capitalize()"
   ]
  },
  {
   "cell_type": "markdown",
   "id": "6aacdb70-b5a8-49c9-bc0d-82165dde9c0c",
   "metadata": {},
   "source": [
    "Otro ejemplo, texto.title()pone la primer letra de cada palabra en mayuscula"
   ]
  },
  {
   "cell_type": "code",
   "execution_count": 14,
   "id": "cdf6ca4e-aa24-4c96-bb1a-710ddc7c8c46",
   "metadata": {},
   "outputs": [
    {
     "data": {
      "text/plain": [
       "'Este Es Un Ejemplo De Un Titulo'"
      ]
     },
     "execution_count": 14,
     "metadata": {},
     "output_type": "execute_result"
    }
   ],
   "source": [
    "x = \"este es un ejemplo de un titulo\"\n",
    "x.title()"
   ]
  },
  {
   "cell_type": "raw",
   "id": "207f8e4e-94e9-4b53-a947-490fc2877255",
   "metadata": {},
   "source": [
    "Otro ejemplo es texto.split(\"separador\") donde separa la cadena dependiendo del separador que indiquemos y nos lo regresa en una lista"
   ]
  },
  {
   "cell_type": "code",
   "execution_count": 15,
   "id": "902706a7-574d-435a-8b8c-431d88f24450",
   "metadata": {},
   "outputs": [
    {
     "data": {
      "text/plain": [
       "['1', '2', '3', '4', '5', '6', '7']"
      ]
     },
     "execution_count": 15,
     "metadata": {},
     "output_type": "execute_result"
    }
   ],
   "source": [
    "datos = \"1/2/3/4/5/6/7\"\n",
    "datos.split(\"/\")"
   ]
  },
  {
   "cell_type": "markdown",
   "id": "3744f78f-470b-49b3-bc39-ffecc33d90ea",
   "metadata": {},
   "source": [
    "Una cadena tiene posiciones, entonces podemos pedir con texto[0:5] los caracteres que queramos "
   ]
  },
  {
   "cell_type": "code",
   "execution_count": 21,
   "id": "3b848573-b823-4f02-92bf-aafd15d6866e",
   "metadata": {},
   "outputs": [
    {
     "data": {
      "text/plain": [
       "'hola '"
      ]
     },
     "execution_count": 21,
     "metadata": {},
     "output_type": "execute_result"
    }
   ],
   "source": [
    "f3[0:5]"
   ]
  },
  {
   "cell_type": "markdown",
   "id": "15688994-14b0-430e-84d1-df4646a69b51",
   "metadata": {},
   "source": [
    "Podemos cambiar el tipo de variable de una cadena con int(texto) solo si son numeros "
   ]
  },
  {
   "cell_type": "code",
   "execution_count": 26,
   "id": "9dbc2ed1-693e-4413-b294-2e96b3e68c4c",
   "metadata": {},
   "outputs": [
    {
     "data": {
      "text/plain": [
       "13"
      ]
     },
     "execution_count": 26,
     "metadata": {},
     "output_type": "execute_result"
    }
   ],
   "source": [
    "int(\"13\")"
   ]
  },
  {
   "cell_type": "code",
   "execution_count": null,
   "id": "fb6df33e-6ac8-4c1c-9cca-140245b5d6e7",
   "metadata": {},
   "outputs": [],
   "source": []
  }
 ],
 "metadata": {
  "kernelspec": {
   "display_name": "Python 3 (ipykernel)",
   "language": "python",
   "name": "python3"
  },
  "language_info": {
   "codemirror_mode": {
    "name": "ipython",
    "version": 3
   },
   "file_extension": ".py",
   "mimetype": "text/x-python",
   "name": "python",
   "nbconvert_exporter": "python",
   "pygments_lexer": "ipython3",
   "version": "3.11.6"
  }
 },
 "nbformat": 4,
 "nbformat_minor": 5
}
