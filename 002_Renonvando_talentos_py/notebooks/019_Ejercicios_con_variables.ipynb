{
 "cells": [
  {
   "cell_type": "markdown",
   "id": "18f3ee8c-3065-4bf0-a6fd-6ae890635d27",
   "metadata": {},
   "source": [
    "### 1. Resolver un problema usando variables\n",
    "Dado una temperatura en grados celsius, determina su equivalente en grados fahrenheint $$ F = 9/5C +32 $$"
   ]
  },
  {
   "cell_type": "code",
   "execution_count": 1,
   "id": "a330a7b1-823c-4928-8158-0c0809f0f931",
   "metadata": {},
   "outputs": [
    {
     "name": "stdout",
     "output_type": "stream",
     "text": [
      "106.00 Cº equivale a 222.80 Fº\n"
     ]
    }
   ],
   "source": [
    "C = 106 #Temp en celsius\n",
    "F = 9/5*C + 32\n",
    "print(\"{:.2f} Cº equivale a {:.2f} Fº\".format(C,F))"
   ]
  },
  {
   "cell_type": "markdown",
   "id": "9ba86e9f-b0c7-4c63-834a-815d34e7d327",
   "metadata": {},
   "source": [
    "### 2. Convertir una cadena a lista y una lista a cadena\n",
    "\n",
    "input: \"Python es mi clase favorita\"\n",
    "\n",
    "output [\"\"Python\", \"es\", \"mi\", \"clase\", \"favorita\"]"
   ]
  },
  {
   "cell_type": "code",
   "execution_count": 2,
   "id": "907f860c-a846-4fa5-aa13-4e1fa83e4e43",
   "metadata": {},
   "outputs": [
    {
     "data": {
      "text/plain": [
       "str"
      ]
     },
     "execution_count": 2,
     "metadata": {},
     "output_type": "execute_result"
    }
   ],
   "source": [
    "cadena = \"Python es mi clase favorita\"\n",
    "type(cadena)"
   ]
  },
  {
   "cell_type": "code",
   "execution_count": 3,
   "id": "7405e3d5-7a2a-4689-9c84-fefa15bcd9e2",
   "metadata": {},
   "outputs": [
    {
     "name": "stdout",
     "output_type": "stream",
     "text": [
      "['Python', 'es', 'mi', 'clase', 'favorita'] <class 'list'>\n"
     ]
    }
   ],
   "source": [
    "cad_sep = cadena.split(sep = \" \")\n",
    "print(cad_sep,type(cad_sep))"
   ]
  },
  {
   "cell_type": "code",
   "execution_count": 4,
   "id": "f73e38af-5081-43f0-81a4-5bead6f52280",
   "metadata": {},
   "outputs": [
    {
     "data": {
      "text/plain": [
       "''"
      ]
     },
     "execution_count": 4,
     "metadata": {},
     "output_type": "execute_result"
    }
   ],
   "source": [
    "cad_junta = \"\"\n",
    "cad_junta"
   ]
  },
  {
   "cell_type": "code",
   "execution_count": 10,
   "id": "41a75e7a-950f-4157-8c83-daa01799f769",
   "metadata": {},
   "outputs": [
    {
     "data": {
      "text/plain": [
       "str"
      ]
     },
     "execution_count": 10,
     "metadata": {},
     "output_type": "execute_result"
    }
   ],
   "source": [
    "for elemento in cad_sep:\n",
    "    cad_junta = cad_junta + elemento + \" \" \n",
    "\n",
    "cad_junta"
   ]
  },
  {
   "cell_type": "code",
   "execution_count": 7,
   "id": "943d8694-3ea7-4a61-b607-598996fcbd53",
   "metadata": {},
   "outputs": [],
   "source": [
    "dir(str)"
   ]
  },
  {
   "cell_type": "code",
   "execution_count": 9,
   "id": "ed3286c2-c9a6-4c64-bb53-5c39459a197a",
   "metadata": {},
   "outputs": [
    {
     "data": {
      "text/plain": [
       "'Python es mi clase favorita'"
      ]
     },
     "execution_count": 9,
     "metadata": {},
     "output_type": "execute_result"
    }
   ],
   "source": [
    "espacio = \" \"\n",
    "cad_junta_2 = espacio.join(cad_sep)\n",
    "cad_junta_2"
   ]
  },
  {
   "cell_type": "markdown",
   "id": "fa53c62b-4566-4c30-ab79-af1afa73c0a7",
   "metadata": {},
   "source": [
    "## 3.Busca todas las repticiones de la palabra \"energía\" en un texto"
   ]
  },
  {
   "cell_type": "code",
   "execution_count": 2,
   "id": "fd17b3f3-f345-48b3-83ad-0b08702d46ed",
   "metadata": {},
   "outputs": [],
   "source": [
    "texto = \"Energy sources are renewable or nonrenewable. There are many different sources of energy, but they can all be divided into two categories: Renewable energy sources Nonrenewable energy sources Renewable and nonrenewable energy sources can be used as primary energy sources to produce useful energy such as heat, or they can be used to produce secondary energy sources such as electricity and hydrogen.\""
   ]
  },
  {
   "cell_type": "code",
   "execution_count": 71,
   "id": "96e245e2-2987-45b5-834d-fd985d93aa44",
   "metadata": {},
   "outputs": [
    {
     "data": {
      "text/plain": [
       "8"
      ]
     },
     "execution_count": 71,
     "metadata": {},
     "output_type": "execute_result"
    }
   ],
   "source": [
    "texto.lower().count(\"energy\")"
   ]
  },
  {
   "cell_type": "code",
   "execution_count": 3,
   "id": "0b1f005b-3ca7-40b8-b5c6-139deb91fdff",
   "metadata": {},
   "outputs": [
    {
     "data": {
      "text/plain": [
       "['__add__',\n",
       " '__class__',\n",
       " '__contains__',\n",
       " '__delattr__',\n",
       " '__dir__',\n",
       " '__doc__',\n",
       " '__eq__',\n",
       " '__format__',\n",
       " '__ge__',\n",
       " '__getattribute__',\n",
       " '__getitem__',\n",
       " '__getnewargs__',\n",
       " '__getstate__',\n",
       " '__gt__',\n",
       " '__hash__',\n",
       " '__init__',\n",
       " '__init_subclass__',\n",
       " '__iter__',\n",
       " '__le__',\n",
       " '__len__',\n",
       " '__lt__',\n",
       " '__mod__',\n",
       " '__mul__',\n",
       " '__ne__',\n",
       " '__new__',\n",
       " '__reduce__',\n",
       " '__reduce_ex__',\n",
       " '__repr__',\n",
       " '__rmod__',\n",
       " '__rmul__',\n",
       " '__setattr__',\n",
       " '__sizeof__',\n",
       " '__str__',\n",
       " '__subclasshook__',\n",
       " 'capitalize',\n",
       " 'casefold',\n",
       " 'center',\n",
       " 'count',\n",
       " 'encode',\n",
       " 'endswith',\n",
       " 'expandtabs',\n",
       " 'find',\n",
       " 'format',\n",
       " 'format_map',\n",
       " 'index',\n",
       " 'isalnum',\n",
       " 'isalpha',\n",
       " 'isascii',\n",
       " 'isdecimal',\n",
       " 'isdigit',\n",
       " 'isidentifier',\n",
       " 'islower',\n",
       " 'isnumeric',\n",
       " 'isprintable',\n",
       " 'isspace',\n",
       " 'istitle',\n",
       " 'isupper',\n",
       " 'join',\n",
       " 'ljust',\n",
       " 'lower',\n",
       " 'lstrip',\n",
       " 'maketrans',\n",
       " 'partition',\n",
       " 'removeprefix',\n",
       " 'removesuffix',\n",
       " 'replace',\n",
       " 'rfind',\n",
       " 'rindex',\n",
       " 'rjust',\n",
       " 'rpartition',\n",
       " 'rsplit',\n",
       " 'rstrip',\n",
       " 'split',\n",
       " 'splitlines',\n",
       " 'startswith',\n",
       " 'strip',\n",
       " 'swapcase',\n",
       " 'title',\n",
       " 'translate',\n",
       " 'upper',\n",
       " 'zfill']"
      ]
     },
     "execution_count": 3,
     "metadata": {},
     "output_type": "execute_result"
    }
   ],
   "source": [
    "dir(texto)"
   ]
  },
  {
   "cell_type": "markdown",
   "id": "524c98dd-128a-4a55-90a9-dbfa9efcccd3",
   "metadata": {},
   "source": [
    "### 4. Ordena los siguientes numeros\n",
    "a = 14\n",
    "\n",
    "b = 3\n",
    "\n",
    "c = 54\n",
    "\n",
    "deberá mostrar: \n",
    "\n",
    "\"Los números ordenados son: 3 14 54\""
   ]
  },
  {
   "cell_type": "code",
   "execution_count": 74,
   "id": "a38aea79-2015-48a7-a0ad-8155f6c3bfc4",
   "metadata": {},
   "outputs": [],
   "source": [
    "a = 14\n",
    "b = 3\n",
    "c = 54"
   ]
  },
  {
   "cell_type": "code",
   "execution_count": 82,
   "id": "8e47a82d-17be-48e6-8917-1a9cd3442782",
   "metadata": {},
   "outputs": [],
   "source": [
    "lista = [a,b,c]\n",
    "lista.sort()"
   ]
  },
  {
   "cell_type": "code",
   "execution_count": 83,
   "id": "8276e4c3-be2a-4ac8-99ce-0c11f32f2295",
   "metadata": {},
   "outputs": [
    {
     "data": {
      "text/plain": [
       "[3, 14, 54]"
      ]
     },
     "execution_count": 83,
     "metadata": {},
     "output_type": "execute_result"
    }
   ],
   "source": [
    "lista"
   ]
  },
  {
   "cell_type": "code",
   "execution_count": 85,
   "id": "dc7900e5-9dcb-4442-ae04-62bcd4324cd4",
   "metadata": {},
   "outputs": [
    {
     "name": "stdout",
     "output_type": "stream",
     "text": [
      "Los números ordenados son: 3, 14, 54\n"
     ]
    }
   ],
   "source": [
    "print(\"Los números ordenados son: {}, {}, {}\".format(lista[0],lista[1],lista[2]))"
   ]
  },
  {
   "cell_type": "markdown",
   "id": "a9fcfaa0-389e-4527-a8cf-6120c668d40d",
   "metadata": {},
   "source": [
    "### 5.Identificar y agregar elementos a la lista\n",
    "Agrega el elemento 7000 después del 6000 en la siguiente lista:"
   ]
  },
  {
   "cell_type": "code",
   "execution_count": 93,
   "id": "9d81230f-b380-4dc4-8c6c-86195ed46cd1",
   "metadata": {},
   "outputs": [],
   "source": [
    "lista1 = [10, 20, [300, 400, [5000, 6000], 500], 30, 40]"
   ]
  },
  {
   "cell_type": "code",
   "execution_count": 98,
   "id": "9c25cb38-365f-44ae-af0a-d17518898b94",
   "metadata": {},
   "outputs": [],
   "source": [
    "lista1[2][2].insert(3,7000)"
   ]
  },
  {
   "cell_type": "code",
   "execution_count": 99,
   "id": "d9ce3156-d290-4f78-be46-a25d1c65a205",
   "metadata": {},
   "outputs": [
    {
     "data": {
      "text/plain": [
       "[10, 20, [300, 400, [5000, 6000, 7000], 500], 30, 40]"
      ]
     },
     "execution_count": 99,
     "metadata": {},
     "output_type": "execute_result"
    }
   ],
   "source": [
    "lista1"
   ]
  },
  {
   "cell_type": "code",
   "execution_count": 105,
   "id": "e6232151-029f-45d9-9120-3ecbdf64f33a",
   "metadata": {},
   "outputs": [],
   "source": [
    "s=\"Existen diversos lenguajes de programacion por ejemplopython, java y julia.\""
   ]
  },
  {
   "cell_type": "code",
   "execution_count": 106,
   "id": "fa9a9c7c-9c88-402e-8312-909652370cac",
   "metadata": {},
   "outputs": [
    {
     "data": {
      "text/plain": [
       "'EXISTEN DIVERSOS LENGUAJES DE PROGRAMACION POR EJEMPLOPYTHON, JAVA Y JULIA.'"
      ]
     },
     "execution_count": 106,
     "metadata": {},
     "output_type": "execute_result"
    }
   ],
   "source": [
    "s.upper()"
   ]
  },
  {
   "cell_type": "code",
   "execution_count": 108,
   "id": "73894055-d0f1-45a1-8367-6695cfbe3d48",
   "metadata": {},
   "outputs": [
    {
     "data": {
      "text/plain": [
       "['python', 34, 2015, 'mi_curso_21']"
      ]
     },
     "execution_count": 108,
     "metadata": {},
     "output_type": "execute_result"
    }
   ],
   "source": [
    "mi_tupla = ['python', 34, 'diciembre', 'mi_curso_21']\n",
    "\n",
    "mi_tupla[2] = 2015\n",
    "\n",
    "mi_tupla"
   ]
  },
  {
   "cell_type": "code",
   "execution_count": 109,
   "id": "08aca459-ad5f-4ea9-b38a-de8d34856f22",
   "metadata": {},
   "outputs": [
    {
     "data": {
      "text/plain": [
       "243"
      ]
     },
     "execution_count": 109,
     "metadata": {},
     "output_type": "execute_result"
    }
   ],
   "source": [
    "3**5"
   ]
  },
  {
   "cell_type": "code",
   "execution_count": 110,
   "id": "340dc4dd-944d-4e2e-8c4e-7991f918cc55",
   "metadata": {},
   "outputs": [
    {
     "data": {
      "text/plain": [
       "6"
      ]
     },
     "execution_count": 110,
     "metadata": {},
     "output_type": "execute_result"
    }
   ],
   "source": [
    "3^5"
   ]
  },
  {
   "cell_type": "code",
   "execution_count": null,
   "id": "b56991c4-d6c7-429b-907a-ab8f878a6544",
   "metadata": {},
   "outputs": [],
   "source": []
  }
 ],
 "metadata": {
  "kernelspec": {
   "display_name": "Python 3 (ipykernel)",
   "language": "python",
   "name": "python3"
  },
  "language_info": {
   "codemirror_mode": {
    "name": "ipython",
    "version": 3
   },
   "file_extension": ".py",
   "mimetype": "text/x-python",
   "name": "python",
   "nbconvert_exporter": "python",
   "pygments_lexer": "ipython3",
   "version": "3.11.6"
  }
 },
 "nbformat": 4,
 "nbformat_minor": 5
}
