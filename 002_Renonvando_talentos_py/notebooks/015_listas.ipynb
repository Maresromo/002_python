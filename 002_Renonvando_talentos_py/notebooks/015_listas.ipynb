{
 "cells": [
  {
   "cell_type": "markdown",
   "id": "d92a9052-9e87-40b1-9b35-52d830be12c1",
   "metadata": {},
   "source": [
    "Las listas pueden almacenar lo que sea como otras listas, cadenas, etc. Una lista está delimtada por corchetes"
   ]
  },
  {
   "cell_type": "code",
   "execution_count": 1,
   "id": "3e3ad1fb-48fe-4d6c-bb6f-c00a77ab3d99",
   "metadata": {},
   "outputs": [],
   "source": [
    "lista = [1,2.3,\"peluche\", [4,5,6],1+1j,{\"nombre\":\"erick\"}]"
   ]
  },
  {
   "cell_type": "markdown",
   "id": "f9330dfa-ce70-4af9-a047-0a98d769dbc6",
   "metadata": {},
   "source": [
    "Podemos convertir una tupla a lista con el comando list((tupla))"
   ]
  },
  {
   "cell_type": "code",
   "execution_count": 2,
   "id": "a7086778-a796-4daf-8a1c-9905e79362ca",
   "metadata": {},
   "outputs": [
    {
     "data": {
      "text/plain": [
       "tuple"
      ]
     },
     "execution_count": 2,
     "metadata": {},
     "output_type": "execute_result"
    }
   ],
   "source": [
    "a = (1,2,3,4)\n",
    "type (a)"
   ]
  },
  {
   "cell_type": "code",
   "execution_count": 3,
   "id": "4142bd35-88c4-48fc-9797-20e278fc49f9",
   "metadata": {},
   "outputs": [
    {
     "data": {
      "text/plain": [
       "[1, 2, 3, 4]"
      ]
     },
     "execution_count": 3,
     "metadata": {},
     "output_type": "execute_result"
    }
   ],
   "source": [
    "b = list(a)\n",
    "b"
   ]
  },
  {
   "cell_type": "code",
   "execution_count": 4,
   "id": "b4dbed8d-7155-4cb6-8aff-3c4578423b70",
   "metadata": {},
   "outputs": [
    {
     "data": {
      "text/plain": [
       "list"
      ]
     },
     "execution_count": 4,
     "metadata": {},
     "output_type": "execute_result"
    }
   ],
   "source": [
    "type(b)"
   ]
  },
  {
   "cell_type": "code",
   "execution_count": 5,
   "id": "205640a2-ca88-4e96-aa19-04935c894747",
   "metadata": {},
   "outputs": [],
   "source": [
    "numeros = [1,2,3,4,5,6,7,8,9,10]"
   ]
  },
  {
   "cell_type": "markdown",
   "id": "466213f0-874a-40b9-b8ec-e4e425b536f2",
   "metadata": {},
   "source": [
    "Podemos pedir algun elemento de la lista poniendo la posición que ocupa, con -1 pedimos el último"
   ]
  },
  {
   "cell_type": "code",
   "execution_count": 6,
   "id": "305360e6-b15a-4bfc-9442-ec1f17d74d91",
   "metadata": {},
   "outputs": [
    {
     "data": {
      "text/plain": [
       "10"
      ]
     },
     "execution_count": 6,
     "metadata": {},
     "output_type": "execute_result"
    }
   ],
   "source": [
    "numeros[-1]"
   ]
  },
  {
   "cell_type": "code",
   "execution_count": 7,
   "id": "fcd57120-0841-465d-b006-5a37d5db2259",
   "metadata": {},
   "outputs": [
    {
     "data": {
      "text/plain": [
       "6"
      ]
     },
     "execution_count": 7,
     "metadata": {},
     "output_type": "execute_result"
    }
   ],
   "source": [
    "numeros [5]"
   ]
  },
  {
   "cell_type": "markdown",
   "id": "cd7973cc-67da-4aeb-b8ef-0927a3fcde72",
   "metadata": {},
   "source": [
    "Podemos pedir secciones de la lista con lista[0:9:1], donde 1 es el paso que da, si no ponemos inicio y final agarra todas"
   ]
  },
  {
   "cell_type": "code",
   "execution_count": 8,
   "id": "1323ee13-a376-4d38-9509-04d94f091d74",
   "metadata": {},
   "outputs": [
    {
     "data": {
      "text/plain": [
       "[1, 3, 5, 7, 9]"
      ]
     },
     "execution_count": 8,
     "metadata": {},
     "output_type": "execute_result"
    }
   ],
   "source": [
    "numeros [0:9:2]"
   ]
  },
  {
   "cell_type": "code",
   "execution_count": 9,
   "id": "8ba6c3ad-099d-4591-a5de-85ad3969811c",
   "metadata": {},
   "outputs": [
    {
     "data": {
      "text/plain": [
       "[1, 4, 7, 10]"
      ]
     },
     "execution_count": 9,
     "metadata": {},
     "output_type": "execute_result"
    }
   ],
   "source": [
    "numeros [::3]"
   ]
  },
  {
   "cell_type": "markdown",
   "id": "b8a0b16c-d955-41f0-b9ec-c619ec221b81",
   "metadata": {},
   "source": [
    "Incluso se puede voltear la lista e ir del final al inicio "
   ]
  },
  {
   "cell_type": "code",
   "execution_count": 10,
   "id": "0d66d25c-8998-4299-9b63-05041536891a",
   "metadata": {},
   "outputs": [
    {
     "data": {
      "text/plain": [
       "[10, 8, 6, 4, 2]"
      ]
     },
     "execution_count": 10,
     "metadata": {},
     "output_type": "execute_result"
    }
   ],
   "source": [
    "numeros [-1:0:-2]"
   ]
  },
  {
   "cell_type": "markdown",
   "id": "acae34ad-f77c-4730-b56e-ec8287f112b5",
   "metadata": {},
   "source": [
    "Con lista.append se puedcen agragar elementos al final"
   ]
  },
  {
   "cell_type": "code",
   "execution_count": 11,
   "id": "1948a39b-27a1-478f-bdad-fe41d7a1510c",
   "metadata": {},
   "outputs": [
    {
     "data": {
      "text/plain": [
       "[1, 2, 3, 4, 5, 6, 7, 8, 9, 10, 11]"
      ]
     },
     "execution_count": 11,
     "metadata": {},
     "output_type": "execute_result"
    }
   ],
   "source": [
    "numeros.append(11)\n",
    "numeros"
   ]
  },
  {
   "cell_type": "code",
   "execution_count": 12,
   "id": "f46200aa-9a37-4d8b-82f7-af83cdf87931",
   "metadata": {},
   "outputs": [
    {
     "data": {
      "text/plain": [
       "[1, 2, 3, 4, 5, 6, 7, 8, 9, 10, 11]"
      ]
     },
     "execution_count": 12,
     "metadata": {},
     "output_type": "execute_result"
    }
   ],
   "source": [
    "numeros"
   ]
  },
  {
   "cell_type": "markdown",
   "id": "7a4502a7-122b-4928-a40a-c5f7c82db518",
   "metadata": {},
   "source": [
    "Para juntar dos listas podemos poner lista1.extend(lista2), o sumandolas"
   ]
  },
  {
   "cell_type": "code",
   "execution_count": 13,
   "id": "91f31cb8-60d4-4ab6-a44c-23c420060d40",
   "metadata": {},
   "outputs": [
    {
     "data": {
      "text/plain": [
       "[1, 2, 3, 4, 5, 6, 7, 8, 9, 10, 11, 12, 13, 14, 15, 16, 17, 18, 19]"
      ]
     },
     "execution_count": 13,
     "metadata": {},
     "output_type": "execute_result"
    }
   ],
   "source": [
    "a = [12,13,14,15,16,17,18,19]\n",
    "numeros.extend(a)\n",
    "numeros"
   ]
  },
  {
   "cell_type": "code",
   "execution_count": 14,
   "id": "3673379a-c168-4857-9a68-b497f98d0d16",
   "metadata": {},
   "outputs": [
    {
     "data": {
      "text/plain": [
       "[12, 13, 14, 15, 16, 17, 18, 19, 20, 21, 22, 23, 24, 25, 26, 27, 28, 29]"
      ]
     },
     "execution_count": 14,
     "metadata": {},
     "output_type": "execute_result"
    }
   ],
   "source": [
    "b = [20,21,22,23,24,25,26,27,28,29]\n",
    "c = a + b\n",
    "c"
   ]
  },
  {
   "cell_type": "markdown",
   "id": "56efd5b8-ce31-4faf-8f23-94e495be856e",
   "metadata": {},
   "source": [
    "Tambienpodemos insertar elementos en un lugar especifico de la lista con lista.insert(posición,elemento) e insertara el elemento en la posición desplazando los demas elementos hacia adelante"
   ]
  },
  {
   "cell_type": "code",
   "execution_count": 15,
   "id": "fb436aac-6968-4f1e-a54a-ee5bffe48c29",
   "metadata": {},
   "outputs": [
    {
     "data": {
      "text/plain": [
       "[12,\n",
       " 'aveda',\n",
       " 13,\n",
       " 14,\n",
       " 15,\n",
       " 16,\n",
       " 17,\n",
       " 18,\n",
       " 19,\n",
       " 20,\n",
       " 21,\n",
       " 22,\n",
       " 23,\n",
       " 24,\n",
       " 25,\n",
       " 26,\n",
       " 27,\n",
       " 28,\n",
       " 29]"
      ]
     },
     "execution_count": 15,
     "metadata": {},
     "output_type": "execute_result"
    }
   ],
   "source": [
    "c.insert(1,\"aveda\")\n",
    "c"
   ]
  },
  {
   "cell_type": "markdown",
   "id": "916174b4-8696-47a0-bd80-171de1338eac",
   "metadata": {},
   "source": [
    "Para quitar elementos ponemos lista.pop(posiciòn), esto se hace en la lista "
   ]
  },
  {
   "cell_type": "code",
   "execution_count": 16,
   "id": "bd86ceed-6fe6-46e7-9faa-96afad8ad915",
   "metadata": {},
   "outputs": [
    {
     "data": {
      "text/plain": [
       "'aveda'"
      ]
     },
     "execution_count": 16,
     "metadata": {},
     "output_type": "execute_result"
    }
   ],
   "source": [
    "removido = c.pop(1)\n",
    "removido"
   ]
  },
  {
   "cell_type": "code",
   "execution_count": 17,
   "id": "a2734a2a-d559-4f08-bbf8-557b892e515c",
   "metadata": {},
   "outputs": [
    {
     "data": {
      "text/plain": [
       "[12, 13, 14, 15, 16, 17, 18, 19, 20, 21, 22, 23, 24, 25, 26, 27, 28, 29]"
      ]
     },
     "execution_count": 17,
     "metadata": {},
     "output_type": "execute_result"
    }
   ],
   "source": [
    "c"
   ]
  },
  {
   "cell_type": "code",
   "execution_count": 18,
   "id": "b8b7cd21-6c3e-4d66-af66-c85bc0730a66",
   "metadata": {},
   "outputs": [
    {
     "data": {
      "text/plain": [
       "'aveda'"
      ]
     },
     "execution_count": 18,
     "metadata": {},
     "output_type": "execute_result"
    }
   ],
   "source": [
    "removido"
   ]
  },
  {
   "cell_type": "markdown",
   "id": "985263cd-1ffc-4edd-894c-9fbb731b0ab8",
   "metadata": {},
   "source": [
    "Con len(lista) conocemos el numero de elementos"
   ]
  },
  {
   "cell_type": "code",
   "execution_count": 20,
   "id": "f2a200ed-876b-4574-b5bf-b4649313530a",
   "metadata": {},
   "outputs": [
    {
     "data": {
      "text/plain": [
       "18"
      ]
     },
     "execution_count": 20,
     "metadata": {},
     "output_type": "execute_result"
    }
   ],
   "source": [
    "len(c)"
   ]
  },
  {
   "cell_type": "code",
   "execution_count": 19,
   "id": "28882bb8-2819-4b80-907f-35cc9217b333",
   "metadata": {},
   "outputs": [],
   "source": [
    "desorden = [7,5,3,9,1,2,6,8,4]"
   ]
  },
  {
   "cell_type": "markdown",
   "id": "f2c6134c-12ac-4fde-ad04-7b53a699c96f",
   "metadata": {},
   "source": [
    "Con lista.sort podemos ordenar los elementos de una lista solo si se tiene un solo tipo de variable"
   ]
  },
  {
   "cell_type": "code",
   "execution_count": 22,
   "id": "e3dc62fc-8a31-4a1e-872e-45779187718e",
   "metadata": {},
   "outputs": [
    {
     "data": {
      "text/plain": [
       "[1, 2, 3, 4, 5, 6, 7, 8, 9]"
      ]
     },
     "execution_count": 22,
     "metadata": {},
     "output_type": "execute_result"
    }
   ],
   "source": [
    "desorden.sort()\n",
    "desorden "
   ]
  },
  {
   "cell_type": "markdown",
   "id": "eb153d46-69c5-4a72-92e6-78515f2bf5e4",
   "metadata": {},
   "source": [
    "Con lista.reverse se puede invertir el orden de la lista "
   ]
  },
  {
   "cell_type": "code",
   "execution_count": 23,
   "id": "c715e6ec-eced-450c-812e-ed7fea3ee944",
   "metadata": {},
   "outputs": [],
   "source": [
    "desorden = [7,5,3,9,1,2,6,8,4]"
   ]
  },
  {
   "cell_type": "code",
   "execution_count": 24,
   "id": "eeba3744-37e1-4114-9ebd-6053ccf1ec6a",
   "metadata": {},
   "outputs": [
    {
     "data": {
      "text/plain": [
       "[4, 8, 6, 2, 1, 9, 3, 5, 7]"
      ]
     },
     "execution_count": 24,
     "metadata": {},
     "output_type": "execute_result"
    }
   ],
   "source": [
    "desorden.reverse()\n",
    "desorden"
   ]
  },
  {
   "cell_type": "code",
   "execution_count": 25,
   "id": "388262c4-55f1-4b45-852d-b723eaf55e71",
   "metadata": {},
   "outputs": [
    {
     "data": {
      "text/plain": [
       "[1, 2, 3, 4, 5, 6, 7, 8, 9]"
      ]
     },
     "execution_count": 25,
     "metadata": {},
     "output_type": "execute_result"
    }
   ],
   "source": [
    "desorden.sort()\n",
    "desorden "
   ]
  },
  {
   "cell_type": "code",
   "execution_count": 26,
   "id": "9c68038b-75a5-483f-a605-608f991f90e5",
   "metadata": {},
   "outputs": [
    {
     "data": {
      "text/plain": [
       "[9, 8, 7, 6, 5, 4, 3, 2, 1]"
      ]
     },
     "execution_count": 26,
     "metadata": {},
     "output_type": "execute_result"
    }
   ],
   "source": [
    "desorden.reverse()\n",
    "desorden"
   ]
  },
  {
   "cell_type": "markdown",
   "id": "0857eebb-d375-4734-88a6-919108ca041d",
   "metadata": {},
   "source": [
    "Con lista.count(elemento) contamos cuantas veces se repite un elemento exacto"
   ]
  },
  {
   "cell_type": "code",
   "execution_count": 29,
   "id": "8d9a5da8-3519-42f5-bd1d-43516eb25774",
   "metadata": {},
   "outputs": [],
   "source": [
    "a = [1,2,5,6,1,1,2,65,4,63]"
   ]
  },
  {
   "cell_type": "code",
   "execution_count": 31,
   "id": "f771db42-2403-4274-b232-6501ba0fcc05",
   "metadata": {},
   "outputs": [
    {
     "data": {
      "text/plain": [
       "3"
      ]
     },
     "execution_count": 31,
     "metadata": {},
     "output_type": "execute_result"
    }
   ],
   "source": [
    "a.count(1)"
   ]
  },
  {
   "cell_type": "code",
   "execution_count": null,
   "id": "2c4b2c21-2b00-4b0b-a836-47d724f9d696",
   "metadata": {},
   "outputs": [],
   "source": []
  }
 ],
 "metadata": {
  "kernelspec": {
   "display_name": "Python 3 (ipykernel)",
   "language": "python",
   "name": "python3"
  },
  "language_info": {
   "codemirror_mode": {
    "name": "ipython",
    "version": 3
   },
   "file_extension": ".py",
   "mimetype": "text/x-python",
   "name": "python",
   "nbconvert_exporter": "python",
   "pygments_lexer": "ipython3",
   "version": "3.12.5"
  }
 },
 "nbformat": 4,
 "nbformat_minor": 5
}
